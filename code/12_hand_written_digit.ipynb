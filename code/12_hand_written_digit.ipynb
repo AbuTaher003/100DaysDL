{
 "cells": [
  {
   "cell_type": "markdown",
   "metadata": {},
   "source": [
    "<br>\n",
    "\n",
    "---\n",
    "\n",
    "# multiclass classification probelm:\n",
    "\n",
    "---\n",
    "\n",
    "<br>\n"
   ]
  },
  {
   "cell_type": "code",
<<<<<<< HEAD
   "execution_count": 71,
   "metadata": {},
   "outputs": [],
=======
   "execution_count": 4,
   "metadata": {},
   "outputs": [
    {
     "name": "stderr",
     "output_type": "stream",
     "text": [
      "2024-05-21 10:27:10.065163: I external/local_tsl/tsl/cuda/cudart_stub.cc:32] Could not find cuda drivers on your machine, GPU will not be used.\n",
      "2024-05-21 10:27:10.074167: I external/local_tsl/tsl/cuda/cudart_stub.cc:32] Could not find cuda drivers on your machine, GPU will not be used.\n",
      "2024-05-21 10:27:10.177946: I tensorflow/core/platform/cpu_feature_guard.cc:210] This TensorFlow binary is optimized to use available CPU instructions in performance-critical operations.\n",
      "To enable the following instructions: AVX2 FMA, in other operations, rebuild TensorFlow with the appropriate compiler flags.\n",
      "2024-05-21 10:27:14.495078: W tensorflow/compiler/tf2tensorrt/utils/py_utils.cc:38] TF-TRT Warning: Could not find TensorRT\n"
     ]
    }
   ],
>>>>>>> 59df7fa (ml)
   "source": [
    "import numpy as np \n",
    "import matplotlib.pyplot as plt \n",
    "import tensorflow as tf \n",
    "import pandas as pd "
   ]
  },
  {
   "cell_type": "code",
<<<<<<< HEAD
   "execution_count": 72,
=======
   "execution_count": 5,
>>>>>>> 59df7fa (ml)
   "metadata": {},
   "outputs": [],
   "source": [
    "\n",
    "(X_train,y_train),(X_test,y_test) = tf.keras.datasets.mnist.load_data()\n"
   ]
  },
  {
   "cell_type": "code",
<<<<<<< HEAD
   "execution_count": 73,
=======
   "execution_count": 6,
>>>>>>> 59df7fa (ml)
   "metadata": {},
   "outputs": [
    {
     "data": {
      "text/plain": [
<<<<<<< HEAD
       "<matplotlib.image.AxesImage at 0x772128253c80>"
      ]
     },
     "execution_count": 73,
=======
       "<matplotlib.image.AxesImage at 0x7b87824212b0>"
      ]
     },
     "execution_count": 6,
>>>>>>> 59df7fa (ml)
     "metadata": {},
     "output_type": "execute_result"
    },
    {
     "data": {
      "image/png": "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",
      "text/plain": [
       "<Figure size 640x480 with 1 Axes>"
      ]
     },
     "metadata": {},
     "output_type": "display_data"
    }
   ],
   "source": [
    "plt.imshow(X_train[2])"
   ]
  },
  {
   "cell_type": "code",
<<<<<<< HEAD
   "execution_count": 74,
=======
   "execution_count": 7,
>>>>>>> 59df7fa (ml)
   "metadata": {},
   "outputs": [],
   "source": [
    "\n",
<<<<<<< HEAD
=======
    "'''\n",
    " `In feature scaling:` we convert the data in the form of (0 ~ 1 ) that's why we divide with 255.\n",
    "  We know, that if you scale the feature the convergence rate will be more faster . \n",
    "'''\n",
    "\n",
>>>>>>> 59df7fa (ml)
    "X_train = X_train/255\n",
    "X_test = X_test/255\n"
   ]
  },
  {
   "cell_type": "code",
<<<<<<< HEAD
   "execution_count": 75,
=======
   "execution_count": 8,
>>>>>>> 59df7fa (ml)
   "metadata": {},
   "outputs": [
    {
     "name": "stdout",
     "output_type": "stream",
     "text": [
      "shape of X_train : (60000, 28, 28)\n",
      "shape of X_test : (10000, 28, 28)\n",
      "shape of y_train : (60000,)\n",
      "shape of y_test : (10000,)\n"
     ]
    }
   ],
   "source": [
    "\n",
    "print(f\"shape of X_train : {X_train.shape}\")\n",
    "print(f\"shape of X_test : {X_test.shape}\")\n",
    "print(f\"shape of y_train : {y_train.shape}\")\n",
    "print(f\"shape of y_test : {y_test.shape}\")\n"
   ]
  },
  {
   "cell_type": "code",
<<<<<<< HEAD
   "execution_count": 76,
=======
   "execution_count": 9,
>>>>>>> 59df7fa (ml)
   "metadata": {},
   "outputs": [
    {
     "data": {
      "text/plain": [
       "array([5, 0, 4, ..., 5, 6, 8], dtype=uint8)"
      ]
     },
<<<<<<< HEAD
     "execution_count": 76,
=======
     "execution_count": 9,
>>>>>>> 59df7fa (ml)
     "metadata": {},
     "output_type": "execute_result"
    }
   ],
   "source": [
    "y_train"
   ]
  },
  {
   "cell_type": "code",
<<<<<<< HEAD
   "execution_count": 77,
=======
   "execution_count": 10,
>>>>>>> 59df7fa (ml)
   "metadata": {},
   "outputs": [
    {
     "name": "stderr",
     "output_type": "stream",
     "text": [
      "/home/yasin/allProgram/100DaysDL/code/venvML/lib/python3.12/site-packages/keras/src/layers/reshaping/flatten.py:37: UserWarning: Do not pass an `input_shape`/`input_dim` argument to a layer. When using Sequential models, prefer using an `Input(shape)` object as the first layer in the model instead.\n",
      "  super().__init__(**kwargs)\n"
     ]
    }
   ],
   "source": [
    "\n",
    "model = tf.keras.Sequential()\n",
    "\n",
    "''' \n",
    "In TensorFlow's Keras API, the Flatten layer is used to convert a multi-dimensional \n",
    "tensor into a one-dimensional tensor.\n",
<<<<<<< HEAD
    "'''\n",
    "activation_relu = tf.keras.activations.relu\n",
    "activation_softmax = tf.keras.activations.softmax\n",
    "\n",
=======
    "\n",
    "As our image in 3d. We need to convert it to 1D. by the help of flatten . (28*28) = 784 node input. \n",
    "\n",
    "'''\n",
    "\n",
    "activation_relu = tf.keras.activations.relu\n",
    "activation_softmax = tf.keras.activations.softmax\n",
    "\n",
    "# 4 layer \n",
    "\n",
>>>>>>> 59df7fa (ml)
    "model.add(tf.keras.layers.Flatten(input_shape=(28,28)))\n",
    "model.add(tf.keras.layers.Dense(128,activation=activation_relu))\n",
    "model.add(tf.keras.layers.Dense(32,activation=activation_relu))\n",
    "model.add(tf.keras.layers.Dense(10,activation=activation_softmax))\n"
   ]
  },
  {
   "cell_type": "code",
<<<<<<< HEAD
   "execution_count": 78,
=======
   "execution_count": 11,
>>>>>>> 59df7fa (ml)
   "metadata": {},
   "outputs": [
    {
     "data": {
      "text/html": [
<<<<<<< HEAD
       "<pre style=\"white-space:pre;overflow-x:auto;line-height:normal;font-family:Menlo,'DejaVu Sans Mono',consolas,'Courier New',monospace\"><span style=\"font-weight: bold\">Model: \"sequential_17\"</span>\n",
       "</pre>\n"
      ],
      "text/plain": [
       "\u001b[1mModel: \"sequential_17\"\u001b[0m\n"
=======
       "<pre style=\"white-space:pre;overflow-x:auto;line-height:normal;font-family:Menlo,'DejaVu Sans Mono',consolas,'Courier New',monospace\"><span style=\"font-weight: bold\">Model: \"sequential\"</span>\n",
       "</pre>\n"
      ],
      "text/plain": [
       "\u001b[1mModel: \"sequential\"\u001b[0m\n"
>>>>>>> 59df7fa (ml)
      ]
     },
     "metadata": {},
     "output_type": "display_data"
    },
    {
     "data": {
      "text/html": [
       "<pre style=\"white-space:pre;overflow-x:auto;line-height:normal;font-family:Menlo,'DejaVu Sans Mono',consolas,'Courier New',monospace\">┏━━━━━━━━━━━━━━━━━━━━━━━━━━━━━━━━━┳━━━━━━━━━━━━━━━━━━━━━━━━┳━━━━━━━━━━━━━━━┓\n",
       "┃<span style=\"font-weight: bold\"> Layer (type)                    </span>┃<span style=\"font-weight: bold\"> Output Shape           </span>┃<span style=\"font-weight: bold\">       Param # </span>┃\n",
       "┡━━━━━━━━━━━━━━━━━━━━━━━━━━━━━━━━━╇━━━━━━━━━━━━━━━━━━━━━━━━╇━━━━━━━━━━━━━━━┩\n",
<<<<<<< HEAD
       "│ flatten_15 (<span style=\"color: #0087ff; text-decoration-color: #0087ff\">Flatten</span>)            │ (<span style=\"color: #00d7ff; text-decoration-color: #00d7ff\">None</span>, <span style=\"color: #00af00; text-decoration-color: #00af00\">784</span>)            │             <span style=\"color: #00af00; text-decoration-color: #00af00\">0</span> │\n",
       "├─────────────────────────────────┼────────────────────────┼───────────────┤\n",
       "│ dense_13 (<span style=\"color: #0087ff; text-decoration-color: #0087ff\">Dense</span>)                │ (<span style=\"color: #00d7ff; text-decoration-color: #00d7ff\">None</span>, <span style=\"color: #00af00; text-decoration-color: #00af00\">128</span>)            │       <span style=\"color: #00af00; text-decoration-color: #00af00\">100,480</span> │\n",
       "├─────────────────────────────────┼────────────────────────┼───────────────┤\n",
       "│ dense_14 (<span style=\"color: #0087ff; text-decoration-color: #0087ff\">Dense</span>)                │ (<span style=\"color: #00d7ff; text-decoration-color: #00d7ff\">None</span>, <span style=\"color: #00af00; text-decoration-color: #00af00\">32</span>)             │         <span style=\"color: #00af00; text-decoration-color: #00af00\">4,128</span> │\n",
       "├─────────────────────────────────┼────────────────────────┼───────────────┤\n",
       "│ dense_15 (<span style=\"color: #0087ff; text-decoration-color: #0087ff\">Dense</span>)                │ (<span style=\"color: #00d7ff; text-decoration-color: #00d7ff\">None</span>, <span style=\"color: #00af00; text-decoration-color: #00af00\">10</span>)             │           <span style=\"color: #00af00; text-decoration-color: #00af00\">330</span> │\n",
=======
       "│ flatten (<span style=\"color: #0087ff; text-decoration-color: #0087ff\">Flatten</span>)               │ (<span style=\"color: #00d7ff; text-decoration-color: #00d7ff\">None</span>, <span style=\"color: #00af00; text-decoration-color: #00af00\">784</span>)            │             <span style=\"color: #00af00; text-decoration-color: #00af00\">0</span> │\n",
       "├─────────────────────────────────┼────────────────────────┼───────────────┤\n",
       "│ dense (<span style=\"color: #0087ff; text-decoration-color: #0087ff\">Dense</span>)                   │ (<span style=\"color: #00d7ff; text-decoration-color: #00d7ff\">None</span>, <span style=\"color: #00af00; text-decoration-color: #00af00\">128</span>)            │       <span style=\"color: #00af00; text-decoration-color: #00af00\">100,480</span> │\n",
       "├─────────────────────────────────┼────────────────────────┼───────────────┤\n",
       "│ dense_1 (<span style=\"color: #0087ff; text-decoration-color: #0087ff\">Dense</span>)                 │ (<span style=\"color: #00d7ff; text-decoration-color: #00d7ff\">None</span>, <span style=\"color: #00af00; text-decoration-color: #00af00\">32</span>)             │         <span style=\"color: #00af00; text-decoration-color: #00af00\">4,128</span> │\n",
       "├─────────────────────────────────┼────────────────────────┼───────────────┤\n",
       "│ dense_2 (<span style=\"color: #0087ff; text-decoration-color: #0087ff\">Dense</span>)                 │ (<span style=\"color: #00d7ff; text-decoration-color: #00d7ff\">None</span>, <span style=\"color: #00af00; text-decoration-color: #00af00\">10</span>)             │           <span style=\"color: #00af00; text-decoration-color: #00af00\">330</span> │\n",
>>>>>>> 59df7fa (ml)
       "└─────────────────────────────────┴────────────────────────┴───────────────┘\n",
       "</pre>\n"
      ],
      "text/plain": [
       "┏━━━━━━━━━━━━━━━━━━━━━━━━━━━━━━━━━┳━━━━━━━━━━━━━━━━━━━━━━━━┳━━━━━━━━━━━━━━━┓\n",
       "┃\u001b[1m \u001b[0m\u001b[1mLayer (type)                   \u001b[0m\u001b[1m \u001b[0m┃\u001b[1m \u001b[0m\u001b[1mOutput Shape          \u001b[0m\u001b[1m \u001b[0m┃\u001b[1m \u001b[0m\u001b[1m      Param #\u001b[0m\u001b[1m \u001b[0m┃\n",
       "┡━━━━━━━━━━━━━━━━━━━━━━━━━━━━━━━━━╇━━━━━━━━━━━━━━━━━━━━━━━━╇━━━━━━━━━━━━━━━┩\n",
<<<<<<< HEAD
       "│ flatten_15 (\u001b[38;5;33mFlatten\u001b[0m)            │ (\u001b[38;5;45mNone\u001b[0m, \u001b[38;5;34m784\u001b[0m)            │             \u001b[38;5;34m0\u001b[0m │\n",
       "├─────────────────────────────────┼────────────────────────┼───────────────┤\n",
       "│ dense_13 (\u001b[38;5;33mDense\u001b[0m)                │ (\u001b[38;5;45mNone\u001b[0m, \u001b[38;5;34m128\u001b[0m)            │       \u001b[38;5;34m100,480\u001b[0m │\n",
       "├─────────────────────────────────┼────────────────────────┼───────────────┤\n",
       "│ dense_14 (\u001b[38;5;33mDense\u001b[0m)                │ (\u001b[38;5;45mNone\u001b[0m, \u001b[38;5;34m32\u001b[0m)             │         \u001b[38;5;34m4,128\u001b[0m │\n",
       "├─────────────────────────────────┼────────────────────────┼───────────────┤\n",
       "│ dense_15 (\u001b[38;5;33mDense\u001b[0m)                │ (\u001b[38;5;45mNone\u001b[0m, \u001b[38;5;34m10\u001b[0m)             │           \u001b[38;5;34m330\u001b[0m │\n",
=======
       "│ flatten (\u001b[38;5;33mFlatten\u001b[0m)               │ (\u001b[38;5;45mNone\u001b[0m, \u001b[38;5;34m784\u001b[0m)            │             \u001b[38;5;34m0\u001b[0m │\n",
       "├─────────────────────────────────┼────────────────────────┼───────────────┤\n",
       "│ dense (\u001b[38;5;33mDense\u001b[0m)                   │ (\u001b[38;5;45mNone\u001b[0m, \u001b[38;5;34m128\u001b[0m)            │       \u001b[38;5;34m100,480\u001b[0m │\n",
       "├─────────────────────────────────┼────────────────────────┼───────────────┤\n",
       "│ dense_1 (\u001b[38;5;33mDense\u001b[0m)                 │ (\u001b[38;5;45mNone\u001b[0m, \u001b[38;5;34m32\u001b[0m)             │         \u001b[38;5;34m4,128\u001b[0m │\n",
       "├─────────────────────────────────┼────────────────────────┼───────────────┤\n",
       "│ dense_2 (\u001b[38;5;33mDense\u001b[0m)                 │ (\u001b[38;5;45mNone\u001b[0m, \u001b[38;5;34m10\u001b[0m)             │           \u001b[38;5;34m330\u001b[0m │\n",
>>>>>>> 59df7fa (ml)
       "└─────────────────────────────────┴────────────────────────┴───────────────┘\n"
      ]
     },
     "metadata": {},
     "output_type": "display_data"
    },
    {
     "data": {
      "text/html": [
       "<pre style=\"white-space:pre;overflow-x:auto;line-height:normal;font-family:Menlo,'DejaVu Sans Mono',consolas,'Courier New',monospace\"><span style=\"font-weight: bold\"> Total params: </span><span style=\"color: #00af00; text-decoration-color: #00af00\">104,938</span> (409.91 KB)\n",
       "</pre>\n"
      ],
      "text/plain": [
       "\u001b[1m Total params: \u001b[0m\u001b[38;5;34m104,938\u001b[0m (409.91 KB)\n"
      ]
     },
     "metadata": {},
     "output_type": "display_data"
    },
    {
     "data": {
      "text/html": [
       "<pre style=\"white-space:pre;overflow-x:auto;line-height:normal;font-family:Menlo,'DejaVu Sans Mono',consolas,'Courier New',monospace\"><span style=\"font-weight: bold\"> Trainable params: </span><span style=\"color: #00af00; text-decoration-color: #00af00\">104,938</span> (409.91 KB)\n",
       "</pre>\n"
      ],
      "text/plain": [
       "\u001b[1m Trainable params: \u001b[0m\u001b[38;5;34m104,938\u001b[0m (409.91 KB)\n"
      ]
     },
     "metadata": {},
     "output_type": "display_data"
    },
    {
     "data": {
      "text/html": [
       "<pre style=\"white-space:pre;overflow-x:auto;line-height:normal;font-family:Menlo,'DejaVu Sans Mono',consolas,'Courier New',monospace\"><span style=\"font-weight: bold\"> Non-trainable params: </span><span style=\"color: #00af00; text-decoration-color: #00af00\">0</span> (0.00 B)\n",
       "</pre>\n"
      ],
      "text/plain": [
       "\u001b[1m Non-trainable params: \u001b[0m\u001b[38;5;34m0\u001b[0m (0.00 B)\n"
      ]
     },
     "metadata": {},
     "output_type": "display_data"
    }
   ],
   "source": [
    "\n",
    "\n",
    "model.summary()\n",
    "\n"
   ]
  },
  {
   "cell_type": "code",
<<<<<<< HEAD
   "execution_count": 79,
   "metadata": {},
   "outputs": [],
   "source": [
    "loss = tf.keras.losses.SparseCategoricalCrossentropy()\n",
    "optimizer = tf.keras.optimizers.Adam()\n",
    "\n",
    "model.compile(loss=loss,optimizer=optimizer)\n"
=======
   "execution_count": 12,
   "metadata": {},
   "outputs": [],
   "source": [
    "\n",
    "'''\n",
    "As loss function we can use:\n",
    "i) SparseCategoricalCrossentropy()\n",
    "ii) CategoricalCrossentrophy()\n",
    "\n",
    "If we use SparseCategoricalCrossentropy() then we don't need to one hot encoding.\n",
    "If we use CategoricalCrossentrophy then we need to use one hot encoding.\n",
    "'''\n",
    "\n",
    "loss = tf.keras.losses.SparseCategoricalCrossentropy()\n",
    "optimizer = tf.keras.optimizers.Adam()\n",
    "\n",
    "model.compile(loss=loss,optimizer=optimizer,metrics=[\"accuracy\"])\n"
>>>>>>> 59df7fa (ml)
   ]
  },
  {
   "cell_type": "code",
<<<<<<< HEAD
   "execution_count": 80,
=======
   "execution_count": 13,
>>>>>>> 59df7fa (ml)
   "metadata": {},
   "outputs": [
    {
     "name": "stdout",
     "output_type": "stream",
     "text": [
      "(60000, 28, 28)\n",
      "(60000,)\n"
     ]
    }
   ],
   "source": [
    "print(X_train.shape)\n",
    "print(y_train.shape)"
   ]
  },
  {
   "cell_type": "code",
<<<<<<< HEAD
   "execution_count": 81,
=======
   "execution_count": 14,
   "metadata": {},
   "outputs": [],
   "source": [
    "# appling early stoping \n",
    "callback = tf.keras.callbacks.EarlyStopping(verbose=1,monitor=\"val_loss\",mode=\"auto\",patience=20,min_delta=0.00001)"
   ]
  },
  {
   "cell_type": "code",
   "execution_count": 15,
>>>>>>> 59df7fa (ml)
   "metadata": {},
   "outputs": [
    {
     "name": "stdout",
     "output_type": "stream",
     "text": [
<<<<<<< HEAD
      "Epoch 1/20\n"
=======
      "Epoch 1/200\n"
>>>>>>> 59df7fa (ml)
     ]
    },
    {
     "name": "stderr",
     "output_type": "stream",
     "text": [
<<<<<<< HEAD
      "2024-05-21 00:45:40.770024: W external/local_tsl/tsl/framework/cpu_allocator_impl.cc:83] Allocation of 150528000 exceeds 10% of free system memory.\n"
=======
      "2024-05-21 10:27:22.871322: W external/local_tsl/tsl/framework/cpu_allocator_impl.cc:83] Allocation of 150528000 exceeds 10% of free system memory.\n"
>>>>>>> 59df7fa (ml)
     ]
    },
    {
     "name": "stdout",
     "output_type": "stream",
     "text": [
<<<<<<< HEAD
      "\u001b[1m1499/1500\u001b[0m \u001b[32m━━━━━━━━━━━━━━━━━━━\u001b[0m\u001b[37m━\u001b[0m \u001b[1m0s\u001b[0m 5ms/step - loss: 0.5057"
=======
      "\u001b[1m1495/1500\u001b[0m \u001b[32m━━━━━━━━━━━━━━━━━━━\u001b[0m\u001b[37m━\u001b[0m \u001b[1m0s\u001b[0m 5ms/step - accuracy: 0.8596 - loss: 0.4973"
>>>>>>> 59df7fa (ml)
     ]
    },
    {
     "name": "stderr",
     "output_type": "stream",
     "text": [
<<<<<<< HEAD
      "2024-05-21 00:45:51.932930: W external/local_tsl/tsl/framework/cpu_allocator_impl.cc:83] Allocation of 37632000 exceeds 10% of free system memory.\n"
=======
      "2024-05-21 10:27:34.481532: W external/local_tsl/tsl/framework/cpu_allocator_impl.cc:83] Allocation of 37632000 exceeds 10% of free system memory.\n"
>>>>>>> 59df7fa (ml)
     ]
    },
    {
     "name": "stdout",
     "output_type": "stream",
     "text": [
<<<<<<< HEAD
      "\u001b[1m1500/1500\u001b[0m \u001b[32m━━━━━━━━━━━━━━━━━━━━\u001b[0m\u001b[37m\u001b[0m \u001b[1m11s\u001b[0m 6ms/step - loss: 0.5054 - val_loss: 0.1502\n",
      "Epoch 2/20\n",
      "\u001b[1m1500/1500\u001b[0m \u001b[32m━━━━━━━━━━━━━━━━━━━━\u001b[0m\u001b[37m\u001b[0m \u001b[1m8s\u001b[0m 6ms/step - loss: 0.1253 - val_loss: 0.1141\n",
      "Epoch 3/20\n",
      "\u001b[1m1500/1500\u001b[0m \u001b[32m━━━━━━━━━━━━━━━━━━━━\u001b[0m\u001b[37m\u001b[0m \u001b[1m9s\u001b[0m 6ms/step - loss: 0.0781 - val_loss: 0.1087\n",
      "Epoch 4/20\n",
      "\u001b[1m1500/1500\u001b[0m \u001b[32m━━━━━━━━━━━━━━━━━━━━\u001b[0m\u001b[37m\u001b[0m \u001b[1m9s\u001b[0m 6ms/step - loss: 0.0604 - val_loss: 0.0963\n",
      "Epoch 5/20\n",
      "\u001b[1m1500/1500\u001b[0m \u001b[32m━━━━━━━━━━━━━━━━━━━━\u001b[0m\u001b[37m\u001b[0m \u001b[1m9s\u001b[0m 6ms/step - loss: 0.0446 - val_loss: 0.0948\n",
      "Epoch 6/20\n",
      "\u001b[1m1500/1500\u001b[0m \u001b[32m━━━━━━━━━━━━━━━━━━━━\u001b[0m\u001b[37m\u001b[0m \u001b[1m8s\u001b[0m 6ms/step - loss: 0.0371 - val_loss: 0.1034\n",
      "Epoch 7/20\n",
      "\u001b[1m1500/1500\u001b[0m \u001b[32m━━━━━━━━━━━━━━━━━━━━\u001b[0m\u001b[37m\u001b[0m \u001b[1m8s\u001b[0m 6ms/step - loss: 0.0282 - val_loss: 0.0933\n",
      "Epoch 8/20\n",
      "\u001b[1m1500/1500\u001b[0m \u001b[32m━━━━━━━━━━━━━━━━━━━━\u001b[0m\u001b[37m\u001b[0m \u001b[1m9s\u001b[0m 6ms/step - loss: 0.0215 - val_loss: 0.1073\n",
      "Epoch 9/20\n",
      "\u001b[1m1500/1500\u001b[0m \u001b[32m━━━━━━━━━━━━━━━━━━━━\u001b[0m\u001b[37m\u001b[0m \u001b[1m9s\u001b[0m 6ms/step - loss: 0.0193 - val_loss: 0.0967\n",
      "Epoch 10/20\n",
      "\u001b[1m1500/1500\u001b[0m \u001b[32m━━━━━━━━━━━━━━━━━━━━\u001b[0m\u001b[37m\u001b[0m \u001b[1m10s\u001b[0m 6ms/step - loss: 0.0163 - val_loss: 0.1070\n",
      "Epoch 11/20\n",
      "\u001b[1m1500/1500\u001b[0m \u001b[32m━━━━━━━━━━━━━━━━━━━━\u001b[0m\u001b[37m\u001b[0m \u001b[1m9s\u001b[0m 6ms/step - loss: 0.0141 - val_loss: 0.1118\n",
      "Epoch 12/20\n",
      "\u001b[1m1500/1500\u001b[0m \u001b[32m━━━━━━━━━━━━━━━━━━━━\u001b[0m\u001b[37m\u001b[0m \u001b[1m9s\u001b[0m 6ms/step - loss: 0.0133 - val_loss: 0.1261\n",
      "Epoch 13/20\n",
      "\u001b[1m1500/1500\u001b[0m \u001b[32m━━━━━━━━━━━━━━━━━━━━\u001b[0m\u001b[37m\u001b[0m \u001b[1m9s\u001b[0m 6ms/step - loss: 0.0136 - val_loss: 0.1162\n",
      "Epoch 14/20\n",
      "\u001b[1m1500/1500\u001b[0m \u001b[32m━━━━━━━━━━━━━━━━━━━━\u001b[0m\u001b[37m\u001b[0m \u001b[1m9s\u001b[0m 6ms/step - loss: 0.0094 - val_loss: 0.1218\n",
      "Epoch 15/20\n",
      "\u001b[1m1500/1500\u001b[0m \u001b[32m━━━━━━━━━━━━━━━━━━━━\u001b[0m\u001b[37m\u001b[0m \u001b[1m9s\u001b[0m 6ms/step - loss: 0.0101 - val_loss: 0.1417\n",
      "Epoch 16/20\n",
      "\u001b[1m 421/1500\u001b[0m \u001b[32m━━━━━\u001b[0m\u001b[37m━━━━━━━━━━━━━━━\u001b[0m \u001b[1m6s\u001b[0m 6ms/step - loss: 0.0110"
     ]
    },
    {
     "ename": "KeyboardInterrupt",
     "evalue": "",
     "output_type": "error",
     "traceback": [
      "\u001b[0;31m---------------------------------------------------------------------------\u001b[0m",
      "\u001b[0;31mKeyboardInterrupt\u001b[0m                         Traceback (most recent call last)",
      "\u001b[1;32m/home/yasin/allProgram/100DaysDL/code/12_hand_written_digit.ipynb Cell 11\u001b[0m line \u001b[0;36m1\n\u001b[0;32m----> <a href='vscode-notebook-cell:/home/yasin/allProgram/100DaysDL/code/12_hand_written_digit.ipynb#X13sZmlsZQ%3D%3D?line=0'>1</a>\u001b[0m model\u001b[39m.\u001b[39;49mfit(X_train,y_train,epochs\u001b[39m=\u001b[39;49m\u001b[39m20\u001b[39;49m,validation_split\u001b[39m=\u001b[39;49m\u001b[39m0.2\u001b[39;49m)\n",
      "File \u001b[0;32m~/allProgram/100DaysDL/code/venvML/lib/python3.12/site-packages/keras/src/utils/traceback_utils.py:117\u001b[0m, in \u001b[0;36mfilter_traceback.<locals>.error_handler\u001b[0;34m(*args, **kwargs)\u001b[0m\n\u001b[1;32m    115\u001b[0m filtered_tb \u001b[39m=\u001b[39m \u001b[39mNone\u001b[39;00m\n\u001b[1;32m    116\u001b[0m \u001b[39mtry\u001b[39;00m:\n\u001b[0;32m--> 117\u001b[0m     \u001b[39mreturn\u001b[39;00m fn(\u001b[39m*\u001b[39;49margs, \u001b[39m*\u001b[39;49m\u001b[39m*\u001b[39;49mkwargs)\n\u001b[1;32m    118\u001b[0m \u001b[39mexcept\u001b[39;00m \u001b[39mException\u001b[39;00m \u001b[39mas\u001b[39;00m e:\n\u001b[1;32m    119\u001b[0m     filtered_tb \u001b[39m=\u001b[39m _process_traceback_frames(e\u001b[39m.\u001b[39m__traceback__)\n",
      "File \u001b[0;32m~/allProgram/100DaysDL/code/venvML/lib/python3.12/site-packages/keras/src/backend/tensorflow/trainer.py:314\u001b[0m, in \u001b[0;36mTensorFlowTrainer.fit\u001b[0;34m(self, x, y, batch_size, epochs, verbose, callbacks, validation_split, validation_data, shuffle, class_weight, sample_weight, initial_epoch, steps_per_epoch, validation_steps, validation_batch_size, validation_freq)\u001b[0m\n\u001b[1;32m    312\u001b[0m \u001b[39mfor\u001b[39;00m step, iterator \u001b[39min\u001b[39;00m epoch_iterator\u001b[39m.\u001b[39menumerate_epoch():\n\u001b[1;32m    313\u001b[0m     callbacks\u001b[39m.\u001b[39mon_train_batch_begin(step)\n\u001b[0;32m--> 314\u001b[0m     logs \u001b[39m=\u001b[39m \u001b[39mself\u001b[39;49m\u001b[39m.\u001b[39;49mtrain_function(iterator)\n\u001b[1;32m    315\u001b[0m     logs \u001b[39m=\u001b[39m \u001b[39mself\u001b[39m\u001b[39m.\u001b[39m_pythonify_logs(logs)\n\u001b[1;32m    316\u001b[0m     callbacks\u001b[39m.\u001b[39mon_train_batch_end(step, logs)\n",
      "File \u001b[0;32m~/allProgram/100DaysDL/code/venvML/lib/python3.12/site-packages/tensorflow/python/util/traceback_utils.py:150\u001b[0m, in \u001b[0;36mfilter_traceback.<locals>.error_handler\u001b[0;34m(*args, **kwargs)\u001b[0m\n\u001b[1;32m    148\u001b[0m filtered_tb \u001b[39m=\u001b[39m \u001b[39mNone\u001b[39;00m\n\u001b[1;32m    149\u001b[0m \u001b[39mtry\u001b[39;00m:\n\u001b[0;32m--> 150\u001b[0m   \u001b[39mreturn\u001b[39;00m fn(\u001b[39m*\u001b[39;49margs, \u001b[39m*\u001b[39;49m\u001b[39m*\u001b[39;49mkwargs)\n\u001b[1;32m    151\u001b[0m \u001b[39mexcept\u001b[39;00m \u001b[39mException\u001b[39;00m \u001b[39mas\u001b[39;00m e:\n\u001b[1;32m    152\u001b[0m   filtered_tb \u001b[39m=\u001b[39m _process_traceback_frames(e\u001b[39m.\u001b[39m__traceback__)\n",
      "File \u001b[0;32m~/allProgram/100DaysDL/code/venvML/lib/python3.12/site-packages/tensorflow/python/eager/polymorphic_function/polymorphic_function.py:843\u001b[0m, in \u001b[0;36mFunction.__call__\u001b[0;34m(self, *args, **kwds)\u001b[0m\n\u001b[1;32m    841\u001b[0m \u001b[39mif\u001b[39;00m context\u001b[39m.\u001b[39mexecuting_eagerly():\n\u001b[1;32m    842\u001b[0m   \u001b[39mif\u001b[39;00m without_tracing:\n\u001b[0;32m--> 843\u001b[0m     _frequent_tracing_detector_manager\u001b[39m.\u001b[39;49mcalled_without_tracing(\n\u001b[1;32m    844\u001b[0m         \u001b[39mself\u001b[39;49m\u001b[39m.\u001b[39;49m_key_for_call_stats)\n\u001b[1;32m    845\u001b[0m   \u001b[39melse\u001b[39;00m:\n\u001b[1;32m    846\u001b[0m     _frequent_tracing_detector_manager\u001b[39m.\u001b[39mcalled_with_tracing(\n\u001b[1;32m    847\u001b[0m         \u001b[39mself\u001b[39m\u001b[39m.\u001b[39m_key_for_call_stats, \u001b[39mself\u001b[39m\u001b[39m.\u001b[39m_python_function,\n\u001b[1;32m    848\u001b[0m         \u001b[39mself\u001b[39m\u001b[39m.\u001b[39m_omit_frequent_tracing_warning)\n",
      "File \u001b[0;32m~/allProgram/100DaysDL/code/venvML/lib/python3.12/site-packages/tensorflow/python/eager/polymorphic_function/polymorphic_function.py:196\u001b[0m, in \u001b[0;36m_FrequentTracingDetectorManager.called_without_tracing\u001b[0;34m(self, key)\u001b[0m\n\u001b[1;32m    194\u001b[0m \u001b[39mdef\u001b[39;00m \u001b[39mcalled_without_tracing\u001b[39m(\u001b[39mself\u001b[39m, key):\n\u001b[1;32m    195\u001b[0m   \u001b[39mwith\u001b[39;00m \u001b[39mself\u001b[39m\u001b[39m.\u001b[39m_lock:\n\u001b[0;32m--> 196\u001b[0m     detector \u001b[39m=\u001b[39m \u001b[39mself\u001b[39;49m\u001b[39m.\u001b[39;49m_get_detector(key)\n\u001b[1;32m    197\u001b[0m     detector\u001b[39m.\u001b[39mcalled_without_tracing()\n",
      "File \u001b[0;32m~/allProgram/100DaysDL/code/venvML/lib/python3.12/site-packages/tensorflow/python/eager/polymorphic_function/polymorphic_function.py:192\u001b[0m, in \u001b[0;36m_FrequentTracingDetectorManager._get_detector\u001b[0;34m(self, key)\u001b[0m\n\u001b[1;32m    190\u001b[0m \u001b[39mif\u001b[39;00m key \u001b[39mnot\u001b[39;00m \u001b[39min\u001b[39;00m \u001b[39mself\u001b[39m\u001b[39m.\u001b[39m_detectors:\n\u001b[1;32m    191\u001b[0m   \u001b[39mself\u001b[39m\u001b[39m.\u001b[39m_detectors[key] \u001b[39m=\u001b[39m _FrequentTracingDetector()\n\u001b[0;32m--> 192\u001b[0m \u001b[39mreturn\u001b[39;00m \u001b[39mself\u001b[39;49m\u001b[39m.\u001b[39;49m_detectors[key]\n",
      "File \u001b[0;32m/usr/lib/python3.12/weakref.py:415\u001b[0m, in \u001b[0;36mWeakKeyDictionary.__getitem__\u001b[0;34m(self, key)\u001b[0m\n\u001b[1;32m    414\u001b[0m \u001b[39mdef\u001b[39;00m \u001b[39m__getitem__\u001b[39m(\u001b[39mself\u001b[39m, key):\n\u001b[0;32m--> 415\u001b[0m     \u001b[39mreturn\u001b[39;00m \u001b[39mself\u001b[39m\u001b[39m.\u001b[39mdata[ref(key)]\n",
      "\u001b[0;31mKeyboardInterrupt\u001b[0m: "
=======
      "\u001b[1m1500/1500\u001b[0m \u001b[32m━━━━━━━━━━━━━━━━━━━━\u001b[0m\u001b[37m\u001b[0m \u001b[1m13s\u001b[0m 7ms/step - accuracy: 0.8598 - loss: 0.4964 - val_accuracy: 0.9572 - val_loss: 0.1471\n",
      "Epoch 2/200\n",
      "\u001b[1m1500/1500\u001b[0m \u001b[32m━━━━━━━━━━━━━━━━━━━━\u001b[0m\u001b[37m\u001b[0m \u001b[1m9s\u001b[0m 6ms/step - accuracy: 0.9625 - loss: 0.1262 - val_accuracy: 0.9644 - val_loss: 0.1207\n",
      "Epoch 3/200\n",
      "\u001b[1m 844/1500\u001b[0m \u001b[32m━━━━━━━━━━━\u001b[0m\u001b[37m━━━━━━━━━\u001b[0m \u001b[1m3s\u001b[0m 5ms/step - accuracy: 0.9743 - loss: 0.0862"
     ]
    },
    {
     "name": "stdout",
     "output_type": "stream",
     "text": [
      "\u001b[1m1500/1500\u001b[0m \u001b[32m━━━━━━━━━━━━━━━━━━━━\u001b[0m\u001b[37m\u001b[0m \u001b[1m12s\u001b[0m 8ms/step - accuracy: 0.9745 - loss: 0.0850 - val_accuracy: 0.9697 - val_loss: 0.1022\n",
      "Epoch 4/200\n",
      "\u001b[1m1500/1500\u001b[0m \u001b[32m━━━━━━━━━━━━━━━━━━━━\u001b[0m\u001b[37m\u001b[0m \u001b[1m10s\u001b[0m 6ms/step - accuracy: 0.9809 - loss: 0.0609 - val_accuracy: 0.9643 - val_loss: 0.1234\n",
      "Epoch 5/200\n",
      "\u001b[1m1500/1500\u001b[0m \u001b[32m━━━━━━━━━━━━━━━━━━━━\u001b[0m\u001b[37m\u001b[0m \u001b[1m10s\u001b[0m 7ms/step - accuracy: 0.9852 - loss: 0.0484 - val_accuracy: 0.9718 - val_loss: 0.0964\n",
      "Epoch 6/200\n",
      "\u001b[1m1500/1500\u001b[0m \u001b[32m━━━━━━━━━━━━━━━━━━━━\u001b[0m\u001b[37m\u001b[0m \u001b[1m10s\u001b[0m 7ms/step - accuracy: 0.9889 - loss: 0.0356 - val_accuracy: 0.9733 - val_loss: 0.0949\n",
      "Epoch 7/200\n",
      "\u001b[1m1500/1500\u001b[0m \u001b[32m━━━━━━━━━━━━━━━━━━━━\u001b[0m\u001b[37m\u001b[0m \u001b[1m8s\u001b[0m 5ms/step - accuracy: 0.9907 - loss: 0.0286 - val_accuracy: 0.9750 - val_loss: 0.0943\n",
      "Epoch 8/200\n",
      "\u001b[1m1500/1500\u001b[0m \u001b[32m━━━━━━━━━━━━━━━━━━━━\u001b[0m\u001b[37m\u001b[0m \u001b[1m6s\u001b[0m 4ms/step - accuracy: 0.9931 - loss: 0.0223 - val_accuracy: 0.9743 - val_loss: 0.1008\n",
      "Epoch 9/200\n",
      "\u001b[1m1500/1500\u001b[0m \u001b[32m━━━━━━━━━━━━━━━━━━━━\u001b[0m\u001b[37m\u001b[0m \u001b[1m6s\u001b[0m 4ms/step - accuracy: 0.9944 - loss: 0.0186 - val_accuracy: 0.9737 - val_loss: 0.1083\n",
      "Epoch 10/200\n",
      "\u001b[1m1500/1500\u001b[0m \u001b[32m━━━━━━━━━━━━━━━━━━━━\u001b[0m\u001b[37m\u001b[0m \u001b[1m6s\u001b[0m 4ms/step - accuracy: 0.9944 - loss: 0.0170 - val_accuracy: 0.9733 - val_loss: 0.1128\n",
      "Epoch 11/200\n",
      "\u001b[1m1500/1500\u001b[0m \u001b[32m━━━━━━━━━━━━━━━━━━━━\u001b[0m\u001b[37m\u001b[0m \u001b[1m6s\u001b[0m 4ms/step - accuracy: 0.9946 - loss: 0.0152 - val_accuracy: 0.9748 - val_loss: 0.1150\n",
      "Epoch 12/200\n",
      "\u001b[1m1500/1500\u001b[0m \u001b[32m━━━━━━━━━━━━━━━━━━━━\u001b[0m\u001b[37m\u001b[0m \u001b[1m6s\u001b[0m 4ms/step - accuracy: 0.9963 - loss: 0.0138 - val_accuracy: 0.9727 - val_loss: 0.1304\n",
      "Epoch 13/200\n",
      "\u001b[1m1500/1500\u001b[0m \u001b[32m━━━━━━━━━━━━━━━━━━━━\u001b[0m\u001b[37m\u001b[0m \u001b[1m6s\u001b[0m 4ms/step - accuracy: 0.9953 - loss: 0.0144 - val_accuracy: 0.9770 - val_loss: 0.1093\n",
      "Epoch 14/200\n",
      "\u001b[1m1500/1500\u001b[0m \u001b[32m━━━━━━━━━━━━━━━━━━━━\u001b[0m\u001b[37m\u001b[0m \u001b[1m7s\u001b[0m 4ms/step - accuracy: 0.9978 - loss: 0.0076 - val_accuracy: 0.9732 - val_loss: 0.1320\n",
      "Epoch 15/200\n",
      "\u001b[1m1500/1500\u001b[0m \u001b[32m━━━━━━━━━━━━━━━━━━━━\u001b[0m\u001b[37m\u001b[0m \u001b[1m6s\u001b[0m 4ms/step - accuracy: 0.9965 - loss: 0.0104 - val_accuracy: 0.9760 - val_loss: 0.1238\n",
      "Epoch 16/200\n",
      "\u001b[1m1500/1500\u001b[0m \u001b[32m━━━━━━━━━━━━━━━━━━━━\u001b[0m\u001b[37m\u001b[0m \u001b[1m6s\u001b[0m 4ms/step - accuracy: 0.9972 - loss: 0.0083 - val_accuracy: 0.9737 - val_loss: 0.1299\n",
      "Epoch 17/200\n",
      "\u001b[1m1500/1500\u001b[0m \u001b[32m━━━━━━━━━━━━━━━━━━━━\u001b[0m\u001b[37m\u001b[0m \u001b[1m7s\u001b[0m 5ms/step - accuracy: 0.9969 - loss: 0.0088 - val_accuracy: 0.9732 - val_loss: 0.1450\n",
      "Epoch 18/200\n",
      "\u001b[1m1500/1500\u001b[0m \u001b[32m━━━━━━━━━━━━━━━━━━━━\u001b[0m\u001b[37m\u001b[0m \u001b[1m12s\u001b[0m 8ms/step - accuracy: 0.9967 - loss: 0.0094 - val_accuracy: 0.9743 - val_loss: 0.1532\n",
      "Epoch 19/200\n",
      "\u001b[1m1500/1500\u001b[0m \u001b[32m━━━━━━━━━━━━━━━━━━━━\u001b[0m\u001b[37m\u001b[0m \u001b[1m10s\u001b[0m 7ms/step - accuracy: 0.9972 - loss: 0.0080 - val_accuracy: 0.9745 - val_loss: 0.1449\n",
      "Epoch 20/200\n",
      "\u001b[1m1500/1500\u001b[0m \u001b[32m━━━━━━━━━━━━━━━━━━━━\u001b[0m\u001b[37m\u001b[0m \u001b[1m12s\u001b[0m 8ms/step - accuracy: 0.9981 - loss: 0.0056 - val_accuracy: 0.9750 - val_loss: 0.1486\n",
      "Epoch 21/200\n",
      "\u001b[1m1500/1500\u001b[0m \u001b[32m━━━━━━━━━━━━━━━━━━━━\u001b[0m\u001b[37m\u001b[0m \u001b[1m11s\u001b[0m 7ms/step - accuracy: 0.9976 - loss: 0.0079 - val_accuracy: 0.9752 - val_loss: 0.1512\n",
      "Epoch 22/200\n",
      "\u001b[1m1500/1500\u001b[0m \u001b[32m━━━━━━━━━━━━━━━━━━━━\u001b[0m\u001b[37m\u001b[0m \u001b[1m14s\u001b[0m 10ms/step - accuracy: 0.9973 - loss: 0.0082 - val_accuracy: 0.9747 - val_loss: 0.1695\n",
      "Epoch 23/200\n",
      "\u001b[1m1500/1500\u001b[0m \u001b[32m━━━━━━━━━━━━━━━━━━━━\u001b[0m\u001b[37m\u001b[0m \u001b[1m11s\u001b[0m 7ms/step - accuracy: 0.9973 - loss: 0.0076 - val_accuracy: 0.9762 - val_loss: 0.1539\n",
      "Epoch 24/200\n",
      "\u001b[1m1500/1500\u001b[0m \u001b[32m━━━━━━━━━━━━━━━━━━━━\u001b[0m\u001b[37m\u001b[0m \u001b[1m10s\u001b[0m 7ms/step - accuracy: 0.9980 - loss: 0.0067 - val_accuracy: 0.9748 - val_loss: 0.1582\n",
      "Epoch 25/200\n",
      "\u001b[1m1500/1500\u001b[0m \u001b[32m━━━━━━━━━━━━━━━━━━━━\u001b[0m\u001b[37m\u001b[0m \u001b[1m12s\u001b[0m 8ms/step - accuracy: 0.9971 - loss: 0.0096 - val_accuracy: 0.9762 - val_loss: 0.1597\n",
      "Epoch 26/200\n",
      "\u001b[1m1500/1500\u001b[0m \u001b[32m━━━━━━━━━━━━━━━━━━━━\u001b[0m\u001b[37m\u001b[0m \u001b[1m11s\u001b[0m 7ms/step - accuracy: 0.9983 - loss: 0.0050 - val_accuracy: 0.9740 - val_loss: 0.1590\n",
      "Epoch 27/200\n",
      "\u001b[1m1500/1500\u001b[0m \u001b[32m━━━━━━━━━━━━━━━━━━━━\u001b[0m\u001b[37m\u001b[0m \u001b[1m11s\u001b[0m 7ms/step - accuracy: 0.9975 - loss: 0.0086 - val_accuracy: 0.9759 - val_loss: 0.1608\n",
      "Epoch 27: early stopping\n"
>>>>>>> 59df7fa (ml)
     ]
    }
   ],
   "source": [
    "\n",
<<<<<<< HEAD
    "model.fit(X_train,y_train,epochs=20,validation_split=0.2)\n"
=======
    "history = model.fit(X_train,y_train,epochs=200,validation_split=0.2,callbacks=callback)\n"
   ]
  },
  {
   "cell_type": "code",
   "execution_count": 16,
   "metadata": {},
   "outputs": [
    {
     "name": "stdout",
     "output_type": "stream",
     "text": [
      "\u001b[1m  1/313\u001b[0m \u001b[37m━━━━━━━━━━━━━━━━━━━━\u001b[0m \u001b[1m44s\u001b[0m 142ms/step"
     ]
    },
    {
     "name": "stderr",
     "output_type": "stream",
     "text": [
      "2024-05-21 10:31:34.594752: W external/local_tsl/tsl/framework/cpu_allocator_impl.cc:83] Allocation of 31360000 exceeds 10% of free system memory.\n"
     ]
    },
    {
     "name": "stdout",
     "output_type": "stream",
     "text": [
      "\u001b[1m313/313\u001b[0m \u001b[32m━━━━━━━━━━━━━━━━━━━━\u001b[0m\u001b[37m\u001b[0m \u001b[1m1s\u001b[0m 4ms/step\n"
     ]
    }
   ],
   "source": [
    "\n",
    "y_log = model.predict(X_test)\n"
   ]
  },
  {
   "cell_type": "code",
   "execution_count": 17,
   "metadata": {},
   "outputs": [
    {
     "data": {
      "text/plain": [
       "array([[1.0812577e-15, 3.6837047e-11, 1.6661589e-11, ..., 9.9999994e-01,\n",
       "        6.5538611e-15, 1.8831298e-10],\n",
       "       [7.7061211e-15, 3.8666168e-09, 9.9999994e-01, ..., 9.4014407e-24,\n",
       "        8.1143314e-11, 5.0540665e-23],\n",
       "       [8.5629664e-13, 9.9999994e-01, 3.6996578e-12, ..., 1.4690025e-09,\n",
       "        1.3233889e-10, 2.6408055e-16],\n",
       "       ...,\n",
       "       [1.4404603e-24, 6.8635320e-18, 1.1526537e-30, ..., 2.5035548e-14,\n",
       "        3.2246235e-19, 5.3062749e-11],\n",
       "       [5.0559046e-20, 2.3158596e-18, 9.5729682e-26, ..., 5.9064296e-17,\n",
       "        2.3573928e-07, 1.0650866e-16],\n",
       "       [2.5026023e-16, 4.6199847e-23, 1.4261762e-20, ..., 4.1226947e-31,\n",
       "        5.3586450e-22, 2.3875906e-23]], dtype=float32)"
      ]
     },
     "execution_count": 17,
     "metadata": {},
     "output_type": "execute_result"
    }
   ],
   "source": [
    "# for 10 images it will give us probability for every images in a row: \n",
    "\n",
    "y_log"
   ]
  },
  {
   "cell_type": "code",
   "execution_count": 18,
   "metadata": {},
   "outputs": [],
   "source": [
    "\n",
    "# output এ আমাদের 10 টা ডিজিট থাকবে এর মাঝে যার probability বেশি সেইটা হবে output\n",
    "# argmax() কোন  row বা column এর axis=1, column এর  maximum ভ্যালু বের করে ।\n",
    "y_pred = y_log.argmax(axis=1)\n"
   ]
  },
  {
   "cell_type": "code",
   "execution_count": 19,
   "metadata": {},
   "outputs": [
    {
     "data": {
      "text/plain": [
       "array([7, 2, 1, ..., 4, 5, 6])"
      ]
     },
     "execution_count": 19,
     "metadata": {},
     "output_type": "execute_result"
    }
   ],
   "source": [
    "y_log.argmax(axis=1)\n",
    "\n",
    "# in our first image we have 7, then 2 then 1 and so on.\n"
   ]
  },
  {
   "cell_type": "code",
   "execution_count": 20,
   "metadata": {},
   "outputs": [
    {
     "data": {
      "text/plain": [
       "97.67"
      ]
     },
     "execution_count": 20,
     "metadata": {},
     "output_type": "execute_result"
    }
   ],
   "source": [
    "from sklearn.metrics import accuracy_score\n",
    "\n",
    "ans = accuracy_score(y_test,y_pred)\n",
    "\n",
    "ans*100"
   ]
  },
  {
   "cell_type": "code",
   "execution_count": 21,
   "metadata": {},
   "outputs": [
    {
     "data": {
      "text/plain": [
       "[<matplotlib.lines.Line2D at 0x7b874e3b2e70>]"
      ]
     },
     "execution_count": 21,
     "metadata": {},
     "output_type": "execute_result"
    },
    {
     "data": {
      "image/png": "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",
      "text/plain": [
       "<Figure size 640x480 with 1 Axes>"
      ]
     },
     "metadata": {},
     "output_type": "display_data"
    }
   ],
   "source": [
    "\n",
    "plt.plot(history.history[\"loss\"])\n",
    "plt.plot(history.history[\"val_loss\"],c='r')\n",
    "\n"
   ]
  },
  {
   "cell_type": "code",
   "execution_count": 22,
   "metadata": {},
   "outputs": [
    {
     "data": {
      "text/plain": [
       "[<matplotlib.lines.Line2D at 0x7b874e425bb0>]"
      ]
     },
     "execution_count": 22,
     "metadata": {},
     "output_type": "execute_result"
    },
    {
     "data": {
      "image/png": "iVBORw0KGgoAAAANSUhEUgAAAiwAAAGdCAYAAAAxCSikAAAAOXRFWHRTb2Z0d2FyZQBNYXRwbG90bGliIHZlcnNpb24zLjkuMCwgaHR0cHM6Ly9tYXRwbG90bGliLm9yZy80BEi2AAAACXBIWXMAAA9hAAAPYQGoP6dpAABXQUlEQVR4nO3deVxU5eIG8GcYmBnWQQTZxAWyyA3MhWy7daNQW9RrZWVXouVevejvFrdMk9RsodWrqaW3buXVFuu6tNzCjMqySFNcU9wwUXZcZmDYhjnv749XBidBGJgF8Pl+PufDzJn3nHnPOHIe3vO+71EJIQSIiIiIOjAPd1eAiIiIqCUMLERERNThMbAQERFRh8fAQkRERB0eAwsRERF1eAwsRERE1OExsBAREVGHx8BCREREHZ6nuyvgKIqioLCwEP7+/lCpVO6uDhEREbWCEAIVFRWIiIiAh0fz7ShdJrAUFhYiKirK3dUgIiKiNjh+/Dh69uzZ7OtdJrD4+/sDkAccEBDg5toQERFRaxiNRkRFRVnP483pMoGl4TJQQEAAAwsREVEn01J3Drs73X7//fe47bbbEBERAZVKhfXr17e4zXfffYcrrrgCWq0Wl1xyCd59993zyixduhR9+vSBTqdDQkICtm7dam/ViIiIqIuyO7CYTCbExcVh6dKlrSp/9OhR3HLLLbjhhhuwc+dOPPLII3jooYewYcMGa5nVq1cjLS0Nc+fORU5ODuLi4pCUlITS0lJ7q0dERERdkEoIIdq8sUqFdevWYdy4cc2WeeKJJ/C///0Pe/futa67++67cebMGWRmZgIAEhISMHz4cCxZsgSAHPETFRWF6dOnY+bMma2qi9FohF6vh8Fg4CUhIiKiTqK152+nz8OSnZ2NxMREm3VJSUnIzs4GANTV1WH79u02ZTw8PJCYmGgt05Ta2loYjUabhYiIiLompweW4uJihIaG2qwLDQ2F0WhEdXU1ysvLYbFYmixTXFzc7H4zMjKg1+utC4c0ExERdV2ddqbbWbNmwWAwWJfjx4+7u0pERETkJE4f1hwWFoaSkhKbdSUlJQgICIC3tzfUajXUanWTZcLCwprdr1arhVardUqdiYiIqGNxegvLyJEjkZWVZbNu48aNGDlyJABAo9Fg6NChNmUURUFWVpa1DBEREV3c7A4slZWV2LlzJ3bu3AlADlveuXMn8vPzAchLNZMnT7aWnzJlCvLy8jBjxgzk5ubi9ddfx0cffYRHH33UWiYtLQ1vvvkmVqxYgf3792Pq1KkwmUxISUlp5+ERERFRV2D3JaFt27bhhhtusD5PS0sDACQnJ+Pdd99FUVGRNbwAQN++ffG///0Pjz76KBYtWoSePXvirbfeQlJSkrXMxIkTUVZWhjlz5qC4uBjx8fHIzMw8ryMuERERXZzaNQ9LR8J5WIiIiDqfDjMPCxEREVF7dZmbHxIRkevV1SvYdeIMgv206B3kAw+PC9/ArisTQqDIUIN9hUbsLzJCpQKu6NUNcVGB8NXydNte/ASJiMguQgjsOH4G63IK8PnuQpyuMgMA/HWeGBihx+CeegzqqcfgyEBEBXm3eBfezshsUXC4tBL7Co3YVyQDyr4iI86c/SzOpfZQ4fJwfwzrHYQrenfD0N7dEBno7dT6mWrrcai0EgeLK3C4rBKm2npYFIF6RZzzU0G9RT63iLPrLQ2vK02UF1g79Sp089U4te7NYWAhIqJWyT9ZhXU7CrB+ZwGOlpus67v5eKGqzoKKmnpk551Edt5J62t6by8M7qnHwEg9BkfKIBMZ2LlCjKHaLANJYWMwOVRSiTqLcl5ZtYcK/Xr44fLwAJgtCnKOnUahoQZ7C4zYW2DEuz/9BgAI1+twRe9uGHY2wFweHgAvtf29NGrMFhwpq8ShkkocKKnAweIKHCipwInT1e097CaZmzhmV2GnWyIiapahyozP9xRiXU4Bth07bV3v7aVG0oBQjL+iJ66O6Q4B4FBJJfYUnMHuEwbsLTBgf1FFkyf1IF8NBkXqG4NMTz3CAnRuCzEWReBMVR1OV9XhlMmM8spaHCypsLaeNHfy99d64vKIAPQPP7tEBOCSHn7QealtyhWeqcb2Y6ety74iIyyK7anX20uNuCg9hvUOwtDe3XBFr27Q+3hZX6+3KPjtpAkHiitxsKQCB0tkMPmt3ASlmbN4iL8Wl4X6o1+oH/TeXvD0UEHt4XH2pwqe6rM/f7/e5nXb9YN66qH1VDf9hm3U2vM3AwsREdmoq1fw7YFSrMspwDe5pdbQoVIBV8cEY/yQSIwaGNZiv4y6egUHSyqw+4QBewrOYE+BAblFFahv4gwb7KdFn+4+8NV6wlerho/GE74aNXy0nvDxkj8bnvtqzr6utf3po1FDrVLBWGPGKVNjADltqsOps4HktOnsuobHVXUwVJvR0pkwMtAb/SMCcPnZcDIgIgA9u7WtpchUW49dJ84g59hpbDt2GjnHTsNYU39euX49/BAT4offTpqQV2ZqMvwBshXrslB/XBrmJ3+eXdx16cZeDCxERA5UUWPGwZIKFBtq4aNVw0/rCV+NJ/y0nvDTyZOmo//ydCUhBHLyz2DdjhP4fHeRTV+M2DB/jB8SibHxkQjT69r1PjVmCw4UV2B3gQF7Txiwu8CAgyUV57U4tJVKhRbDR3MCdJ4I8tWgm68G0cF+6H9O68m5rR2OpigCh8sqsf3YaWz77TRy8k/bXHJr4KNRo1+oPy4L9cOlof64LEwGkx7+2k51ie33GFiIiNrAbFFwtNyE3OIKHCg24kBxBXKLW9cnwEutkkFG62nz0+9sq4Gf1gt+WtlKoAJgEQJCyEsSFkVAiIbOjzJANHSGtJYRonG9Anh6qKDz8oBOo4bOUw2dlxreXh7QeanPWTzOrm987u2lhvbs42JDjeyXsqMAv52ssh5LD38txg2JxPghkbg83Lm/U2vMFuwrMqLUWANTrQVVdfUw1VlQVXv2Z1194/omXjfV1p/XauOv9US3s+EjyMcL3XzOPvbVoJuPBkG+Xmd/yvWB3l7wbEMfEmc5WVmL7cdOI/9UFfp098VlYf6IDPTukqOwGFiIqEs4dtKE7w+VQ61SIdDHC3rvcxYfL/hrPdv016UQAsXGmrPBpMIaTI6UNt2ZEgBCA7To2c0HNWZ5kqw8u9SY3dcR0ZG8vdQYNTAMf7oiElfFBEPdiU6OdfUKqurqUWdREOitgcaz44QPurDWnr85SoiIOpwSYw0+21WIz3YVYtcJwwXLeqiAAG8vBJ4NMQFnf54Xbry9cNJUZw0mB4orYKg+fwgqAPhq1Lg0zB+xYf64LNQfseEBuOwCfQLqLQpMtRZU1tU3BpmaxseN4UYGHVNd/dm6q6BWqeDhoYKHSo4w8VDJRe0hX/fwOFtGhcbHZ8tZFAU1ZgXVZgtqzBbUmBXU1FtQU2eRP80Kqs8+rjUrqDFbrGUbGiQ8VMDVl8h+KUkDWu6X0lFpPD2g8ewcfTaobTrnN5OIupzTpjp8ubcYn+4qwJajp6z9ENQeKiT0DYKPxhPGajPOVMtOkoZqM2rMChQBnKkyNzn/RUvUHir0DZbN7bFng0lsG5rePdUe0Pt4OLWfgyMJIWC2CFSbLVB7yMtYRB0dv6VE5Dam2nps3FeCT3cV4vuDZTb9EIb17obb4yMwZlA4gv20TW5fY7bAeDa8GKplaDFUN7/4aj0R29ByEuaPmJDzh6BeDFQqFTSeKl42oU6FgYWIXKq23oLvDpTh012FyNpfYtP/o394AG6Pj8Ctg8PRs5tPi/tq6FjaI6B9I1eIqONjYCEip7MoAtlHTuLTXQX4cm8xKs6Zc6JvsC9ui4vA7XHhuKSHvxtrSUQdGQMLEZ2nrl5BWWUtqs4OF23q3iPnrVeEdXjuua8dKa3E57uLUF5Za91/WIAOt8WF4/a4SAyMDOjUc0gQkWswsBBdRIQQOGWqQ4mxFiXGGhQba1BiXWpRbKhBaUUNyivrHP7e3Xy8MGZQOG6Pi8DwPkFdcj4JInIeBhaiLsSiCBwtr8SvhUYUG84NJDKMlFXUNjvHyO95qVXw13nZ3lvE+tPD5l4kalXz9x4J9PHCzQPCcM0lwW26uRsREcDAQtRpKYrAbydN2FNgwJ6zU5z/WmCAqc7S4rbBfhr08NchTK9DaIAWoQE6hAXoEGpdtOjmo2ErCBF1GAwsRJ2AEAL5p6oaw8nZu+FW1J5/wzRvLzX6RwSgV5APegRobYJImF6HED8th7MSUafDwELUwQghUHCm2tpqsueEAXsKDE3Oyqr19MCAiAAMitRjUM9ADO6pR0yIX6eaUp2IqDUYWIjcrN6iYG+hEVuPnsTWo6eQk38Gp0znd3rVqD1weUQABkUGYHBkIAb11KNfD78OdcM2IiJnYWAhcrHaegt2nzBgS95JbDl6CtuPnUbV7/qdeKlViA0LwMBIPQb31GNQpB6XhvrzUg4RXbQYWIicrLrOgpz809hy9BS2Hj2JHflnUFtvO1JH7+2F4X2CcGV0EIb1CcLl4f7Qel58U8YTETWHgYXIwSpqzNh27DS2Hj2FLXknsafAALNF2JQJ9tNgRN8gJPTtjhF9g3BZqD9H5BARXQADC1E71NUrOFRagX2FRvxaaMT2Y6fxa6EBim0+Qbheh4S+QRhxNqDEhPhydlciIjswsBC10pmqOuwrMmJfodH680hZ5XmtJwDQK8jnbEAJwpXR3dGzmzcDChFROzCwEP2OEALHT1VjX5HBGk72F1Wg4Ex1k+UDdJ7oHxGA/uF6xEXpMaJvEML13i6uNRFR18bAQhc9U209vthThL0FBuwvqsD+ImOTE7IBQFSQN/qHy3DSPyIAl4f7IzKQrSdERM7GwEIXLUURWL+zAC9m5qLEWGvzmkbtgUvD/M6GkwD0j9AjNtwfATovN9WWiOjixsBCF6Ud+afx9Gf7sPP4GQCy5WTUgLCzrSYBiAnx4436iIg6EAYWuqgUG2rwUmYu1u4oAAD4atRI/eMleODqvtB5cd4TIqKOioGFLgo1Zgve+iEPS789gmqznFX2jqE9MSPpMvQI0Lm5dkRE1JI2tXkvXboUffr0gU6nQ0JCArZu3dpsWbPZjPnz5yMmJgY6nQ5xcXHIzMy0KVNRUYFHHnkEvXv3hre3N6666ir88ssvbakakQ0hBL7YU4QbX92EV746iGqzBVf0CsQnqVfjlTvjGFaIiDoJu1tYVq9ejbS0NCxbtgwJCQlYuHAhkpKScODAAfTo0eO88unp6Vi1ahXefPNNxMbGYsOGDRg/fjx++uknDBkyBADw0EMPYe/evVi5ciUiIiKwatUqJCYmYt++fYiMjGz/UdJF6ddCA57+bB+2Hj0FQE7eNnN0LG6Pi+CoHiKiTkYlhDh/1qsLSEhIwPDhw7FkyRIAgKIoiIqKwvTp0zFz5szzykdERGD27NlITU21rpswYQK8vb2xatUqVFdXw9/fH5988gluueUWa5mhQ4di9OjRePbZZ1tVL6PRCL1eD4PBgICAAHsOibqY8spavPrVAXz4y3EIAWg9PTDlDzH46x+i4aPhVVAioo6ktedvu35719XVYfv27Zg1a5Z1nYeHBxITE5Gdnd3kNrW1tdDpbJvdvb29sXnzZgBAfX09LBbLBcs0t9/a2sahqEaj0Z5DoS6orl7Bip9+w2tZh6zzqNwWF4GZo2MRGciJ3IiIOjO7+rCUl5fDYrEgNDTUZn1oaCiKi4ub3CYpKQkLFizAoUOHoCgKNm7ciLVr16KoqAgA4O/vj5EjR+KZZ55BYWEhLBYLVq1ahezsbGuZpmRkZECv11uXqKgoew6FuhAhBLL2lyBp4fd47ov9qKitx8DIAHw8ZSQW3zOEYYWIqAtw+kQTixYtQr9+/RAbGwuNRoNp06YhJSUFHh6Nb71y5UoIIRAZGQmtVovXXnsN99xzj02Z35s1axYMBoN1OX78uLMPhTqg3GIjkt/5BQ+u2Iaj5SYE+2nx0oTB+DT1GgzvE+Tu6hERkYPYdUkoODgYarUaJSUlNutLSkoQFhbW5DYhISFYv349ampqcPLkSURERGDmzJmIjo62lomJicGmTZtgMplgNBoRHh6OiRMn2pT5Pa1WC61Wa0/1qQv55bdTWPbdEWTllgIAvNQqPHBNX0y74RL4czZaIqIux67AotFoMHToUGRlZWHcuHEAZKfbrKwsTJs27YLb6nQ6REZGwmw2Y82aNbjrrrvOK+Pr6wtfX1+cPn0aGzZswEsvvWRP9aiLUxSBbw+U4o3vjmDbsdMAAJUKGDMwHI8nXYY+wb5uriERETmL3UMm0tLSkJycjGHDhmHEiBFYuHAhTCYTUlJSAACTJ09GZGQkMjIyAABbtmxBQUEB4uPjUVBQgHnz5kFRFMyYMcO6zw0bNkAIgcsuuwyHDx/G448/jtjYWOs+6eJmtij4bFchlm06goMllQDkvX4mDI3Ew9dGIzrEz801JCIiZ7M7sEycOBFlZWWYM2cOiouLER8fj8zMTGtH3Pz8fJu+JzU1NUhPT0deXh78/PwwZswYrFy5EoGBgdYyBoMBs2bNwokTJxAUFIQJEybgueeeg5cXm/YvZlV19Vj9y3G89cNRFJypBgD4aT0x6cpeePDqvpz0jYjoImL3PCwdFedh6TpOm+qwIvs3rPjpN5yuMgMAgv20eOCaPpiU0Bt6bwZZIqKuwinzsBA5U8GZarz1Qx4+3Hrcer+fXkE++OsfojHhip68OSER0UWMgYXc7mBJBZZtOoJPdxaiXpENfgMiAjDlDzEYPTAMnmqnj74nIqIOjoGF3GZH/mks/fYwvt5fal13VUx3TL0+BtdcEsz7/RARkRUDC7mcEAKvf3cEr3x1AELIocmjBoRhyh9iEBcV6O7qERFRB8TAQi5VXWfB4//dhc93y9sujIuPwPQb+yGGQ5OJiOgCGFjIZQrPVOMvK7dhb4ERnh4qzB87EPcm9HJ3tYiIqBNgYCGX2H7sFP66MgfllbUI8tXgjUlXICG6u7urRUREnQQDCzndR9uOI33dXtRZFMSG+ePNycMQFeTj7moREVEnwsBCTlNvUZDxZS7+vfkoAGD0wDC8cmccfLX82hERkX145iCnMFSZMe2DHPxwqBwA8EhiP/zfH/vBw4NDlYmIyH4MLORwh0sr8NCKbfjtZBW8vdRYcFccRg8Kd3e1iIioE2NgIYf6NrcU//fBDlTU1iMy0BtvTh6G/hG8txMREbUPAws5hBACy7/Pw4uZuRACGNEnCK/fdwWC/bTurhoREXUBDCzUbjVmC2au2Y31OwsBAPeMiMLTtw+ExpP3ACIiIsdgYKF2KTbU4K8rt2HXCQPUHirMva0//nxlb94HiIiIHIqBhdps5/Ez+Mt/tqG0ohaBPl54/d4rcNUlwe6uFhERdUEMLNQma3NOYObaPairV3BpqB/emjwcvbpzMjgiInIOBhay25JvDuGVrw4CABIvD8XCu+Phx8ngiIjIiXiWIbss+voQ/vm1DCt/uz4Gj918GSeDIyIip2NgoVYRQmDh14ewKOsQAOCJUbGYen2Mm2tFREQXCwYWapEQAv/ceBCvfXMYAPDkmFj85TqGFSIich0GFrogIQRe/eoglnwrw0r6LZfjoWuj3VwrIiK62DCwULOEEHhpwwG88d0RAMBTt/bHg9f0dXOtiIjoYsTAQk0SQuCFzFws35QHAJh7W3+kXM2wQkRE7sHAQucRQiDjy1z863sZVp6+fQCSr+rj3koREdFFjYGFbAgh8Nz/9uOtzUcBAM+MHYA/j+zj3koREdFFj4GFrIQQmP/5Przz428AgGfHDcR9V/Z2b6WIiIjAwEJnCSHw9Gf78O5PvwEAnh8/CPcm9HJvpYiIiM5iYCEIITD301/xn+xjUKmAF/40CBOHM6wQEVHHwcBykVMUgTmf7sWqn/OhUgEv/mkw7hoe5e5qERER2WBguYgpikD6J3vx/hYZVl6aMBh3DmNYISKijoeB5SKlKAKz1+/BB1uPQ6UCXrkjDhOG9nR3tYiIiJrk0ZaNli5dij59+kCn0yEhIQFbt25ttqzZbMb8+fMRExMDnU6HuLg4ZGZm2pSxWCx46qmn0LdvX3h7eyMmJgbPPPMMhBBtqR61QFEEZq2VYcVDBSy4i2GFiIg6NrsDy+rVq5GWloa5c+ciJycHcXFxSEpKQmlpaZPl09PTsXz5cixevBj79u3DlClTMH78eOzYscNa5sUXX8Qbb7yBJUuWYP/+/XjxxRfx0ksvYfHixW0/MmqSRRF4Ys1urN4mw8o/J8Zj/BCGFSIi6thUws5mjISEBAwfPhxLliwBACiKgqioKEyfPh0zZ848r3xERARmz56N1NRU67oJEybA29sbq1atAgDceuutCA0Nxb///e9my7TEaDRCr9fDYDAgICDAnkO6qDy5bg/e35IPtYcK/5wYj9vjItxdJSIiuoi19vxtVwtLXV0dtm/fjsTExMYdeHggMTER2dnZTW5TW1sLnU5ns87b2xubN2+2Pr/qqquQlZWFgwcPAgB27dqFzZs3Y/To0fZUj1rw+e5CvL8lHx4qYNHdDCtERNR52NXptry8HBaLBaGhoTbrQ0NDkZub2+Q2SUlJWLBgAa677jrExMQgKysLa9euhcVisZaZOXMmjEYjYmNjoVarYbFY8Nxzz2HSpEnN1qW2tha1tbXW50aj0Z5DuegUGaoxe91eAMC0Gy7BrYMZVoiIqPNoU6dbeyxatAj9+vVDbGwsNBoNpk2bhpSUFHh4NL71Rx99hPfeew/vv/8+cnJysGLFCrzyyitYsWJFs/vNyMiAXq+3LlFRHI7bHEUReOzjXTBUmxHXU4/pN/Zzd5WIiIjsYldgCQ4OhlqtRklJic36kpIShIWFNblNSEgI1q9fD5PJhGPHjiE3Nxd+fn6Ijo62lnn88ccxc+ZM3H333Rg0aBD+/Oc/49FHH0VGRkazdZk1axYMBoN1OX78uD2HclF5+8ej+PHwSXh7qfHPifHwUjs9pxIRETmUXWcujUaDoUOHIisry7pOURRkZWVh5MiRF9xWp9MhMjIS9fX1WLNmDcaOHWt9raqqyqbFBQDUajUURWl2f1qtFgEBATYLnS+32IiXMg8AAJ66tT+iQ/zcXCMiIiL72T1xXFpaGpKTkzFs2DCMGDECCxcuhMlkQkpKCgBg8uTJiIyMtLaObNmyBQUFBYiPj0dBQQHmzZsHRVEwY8YM6z5vu+02PPfcc+jVqxcGDBiAHTt2YMGCBXjggQccdJgXpxqzBY98uBN1FgWJl/fAPSN42YyIiDonuwPLxIkTUVZWhjlz5qC4uBjx8fHIzMy0dsTNz8+3aS2pqalBeno68vLy4OfnhzFjxmDlypUIDAy0llm8eDGeeuop/O1vf0NpaSkiIiLw17/+FXPmzGn/EV7EXtlwALnFFQj20+CFCYOhUqncXSUiIqI2sXselo6K87DY+vFwOSa9tQUA8Pb9w/DH2NAWtiAiInI9p8zDQp3Dmao6/OOjXQCA+67sxbBCRESdHgNLFyOEwOx1e1FsrEF0iC9mj+nv7ioRERG1GwNLF7NuRwH+t6cInh4qLJwYD2+N2t1VIiIiajcGli7k+KkqzPnkVwDAozddisE9A91bISIiIgdhYOkiLIpA2kc7UVlbj2G9u2HKH2LcXSUiIiKHYWDpIpZtOoJffjsNP60n/jkxHmoPDmGmDuDIEWD1aqC+3t01IaJOjoGlC9hzwoB/bpR3un769gGICvJxc42IAOzdCwwfDtx9NzBxInDOzUqJiOzFwNLJVddZ8PfVO1CvCNwyKBx/uiLS3VUiAo4eBW6+GTh9Wj5fuxa47TbAZHJvvYio02Jg6eSe/2I/8spMCA3Q4rnxAzmbLblfcTFw001AUREwcCDw8ceAry+wcaNc3xBiiOjCqqqA334Dusb8ru3GwNKJfZtbipU/HwMAvHpnPAJ9NG6uEV30zpwBkpJk35W+fYGvvgLuuAPIygK6dQOys4Hrr5ehxtUqK4GaGte/L3Ue+/cDTz0FjBgB3HOPbBmsrnZtHerrgcxMYPJkIDRU/j/64x+BnBzX1qMpdXVufXsGlk6qvLIWj/9Xzmb74DV9cU2/YDfXiC56VVXArbcCu3cDYWGyRSU8XL6WkAB8/718vns3cO218i9HVxAC+Pe/gYgIoGdPYPFiwGx2zXtTx3fiBPDKK8CQIUD//sCzzwK//AJ8+CEwYQIQEiL7Ya1ZI7/jziCEDPPTpsnv6ejRwMqVMmQDwHffAcOGAfffDxQUOKcOF/Lrr8Cf/wwMHQooiuvfv4HoIgwGgwAgDAaDu6vidIqiiAff3Sp6P/G5uHnBJlFdV+/uKtHFrrZWiNGjhQCECAwUYteupssdPixE376yXGSkEPv2ObdeRUVC3HqrfL9zl0svFeKTT4RQFOe+P3VMJ08K8a9/CfGHPwihUjV+Lzw9hbjtNiHefluIf/xDiF69bL83vr5C3HWXEB9/LITJ1P56/PqrELNnN/6faFiCg4VITRXixx+FOHpUiHvuaXzN21uIOXOEqKho//u3ZOtWIcaNs63bpk0Of5vWnr8ZWDqh934+Jno/8bno9+QXYl9h1z9e6uAslsZfqN7eQmzefOHyBQVC9O8vy3fvLsQvvzinXh9/LPcPCKHRCPHii0IsWyZESEjjL98bbhAiJ8c5708di8kkxOrVQtx+uxBeXrYn4euuk9+N8nLbbRRFiC1bhHjsMSF697bdxsdHiDvvFOKjj4SorGx9PfLzhXjpJSHi4s4PQ/fdJ8QXXwhRV3f+dj//LMTVVzeWDw8X4t//FqLewX+wKooQ334rxE03Nb6XSiXEhAlCbN/u2Pc6q7Xnb96tuZPJK6vELa9tRrXZgvRbLsdD10a7u0p0MRNCNmO//jrg6Ql89hkwalTL2508KZu9f/kF8PcHPv1U9m1xhNOnZZ3ef18+j48H/vMfYNAg+dxoBF54AViwQA61VqmA5GR5KSCSo+wcQgj52ZpM8jLKuT+bWtfwU6uVl0QiI+USEQEEBwMebey9UF8v+0+99x6wbl3jJRYAiIsD7r1X9lWJimrdMW3bJjuRf/yx7SVNHx9gzBjgrrvkT19f221PnQL++1/5nfz++8ZOtJ6e8v/BvffKUXS/366pOqxZA8yYIUfiNRzHq68CN97Y8jG0tO///Q94/nl5eQoA1GrgvvuAJ54ALr+8ffu/gNaevxlYOhGzRcEdb/yEXScMuCqmO1Y9mACPi3mCuF9+Ad54AzhwABgwQP7HjY8HBg+WJ8GLWX29/GXobE89JU/0KpX8ZXz33a3ftqICGDsW+PZbeaL6+GP5S7s9NmwAHngAKCyUJ7knn5R11DTRIf3YMWDWLOCDD+RzHx/g8cfl0tKJ42IkhAyDv/1muxw7BuTnAwaDbQBxVF8HLy/Z9+ncEHPuz4bHfn6N9dyyRYaUjz4CSksb99WnjwwH994rf2e0lRDA9u2N4aUhPACAtzdwyy3AnXfKcu+/D3z5pW2/qeuuk3W44w6ge3f737+2FliyBHjmGfm5A7L/2MsvA7Gx9u3LYpHHkJEh+5cB8v/jgw/K/wt9+thfPzsxsHRBC746gNe+OYwAnSc2PHodwvXe7q6S61VXy85wr78u/9ppziWXyPBy7hIRIU+sXdXp03JW2RUrgJ9/li0WL74oRzw4w8KFwKOPysdvvAFMmWL/PmpqZMj55BP519yKFcCkSfbvp7JS/nJdtkw+v/RS2aqSkNDytlu2AP/4B/Djj/J5eDjw3HNylIb6Irp5aHOB5NylosL+/Wo0MgD6+Mif5z7+/brqatmptLBQ/iwtbf2Q3oAA+X+8ulqGqAYhIXLiwnvvBa680vG/A4SQI3gawkteXtPl7G3RaY3ycmD+fPn/r75efl+nTAHmzpXHfSF1dbJj7wsvAIcPy3V+fsDf/ib/X4eFOaaOrcDA0sXklVUiccEmKAJYcu8Q3Do4wt1Vcq3Dh+XJ6O23G+fx0GjkL6KbbpKtLDt3yqW5XvTdu58fYi67TP4F11nV18vROCtWAOvXNz2b7B13yGbefv0c977/+Y+8jALIFpbZs9u+r/p62SqycqU8mSxZIn9pttaPP8q6HDkin0+fLn8J+9gx47Mzm9rdQVFkuDhzRi4GQ+Pj3y9lZY2B5NxLJs0JDZV/dZ+79Oolh603FUja09JnNssh8OeGmN//LCg4P0j5+QHjx8uAcOONrvs/LgSwY4cMLuvWyX+HO+9sf4tOSw4ckN/dTz+VzwMCgPR0+X9Bp7MtW1UFvPWWbI05cUKuCwoC/v53Wb5bN+fVsxmtPn87pQeNG3T1TrcvZ+aK3k98Lib/e4u7q+I69fVyJEdSkm3ntD59ZAfK0tKmtystFWLjRiFefll2Yhs4UAi1+vyRIoAQWq0QQ4cK8cADcp/r1gmxd68Q1dUuPVS7/fqrEDNmyI535x7PwIFCvPKK7Bx3//2NIyDUaiGmTpWjZtrrk08aP89HH3XMSBuLRYhp0xqP47nnWt5vTY38DBqOMSpKiK+/bl89amrk56fXN9bl1luF2L+/fft1pKoqIb75Roi5c+W/8bhxQlx/vRDx8fL/RmCg7cgXe5ewMCGuvFKIu+8WYuZM2Rk1M1OI3Fz53h2R0Sjr9803stOqI0bwdEbffCPEkCG2vys//FD+Xzp9Wv6/Cg627bj76quuGXF0Aex024UIIXDtS9/ixOlqLL5nCG6L6+KtK6Wlct6MZcvktXFA/uU9erT8y3vUKPub6mtq5FwCDa0wu3bJn801catUstm2Xz95eaFfv8alb9+m+0Q426lT8nLYu+/K/jsNuneXl1GSk+VcEuc2ee/ZI/txfP65fO7jIy9/PPaY/CvMXt99Jz//2lr5fm+/3fYOkb8nhGzKfuYZ+fyxx4CXXmq6CX/nTnnJZs8e+Tw5GVi0CNDrHVOXhqb211+X1/gbmtrnzZOdQF2pulp2gvzuO7ls2dL6Cbw0GvkXc2Bg80tQENC7d2NLifdFeKm5K1EU2Vr55JOyFQqQrcl5ebLDOQBER8uOtMnJsr+Km/GSUBey7bdTuGNZNnw1amxLvwnemi54Xb1h4qTXX5fNqQ2/kIOCZOevv/4ViIlx7HsqimwG37lTdjY7eBA4dEguDR3ZmqJWy1/u54aYhiUqyrFhpr5ediR9913Z3NvwuXh6yo59ycnyZ0vvuWmT/AW1ZYt8HhwsO6NOmdL6+m7fDtxwQ2Nn2f/+1zkde//5TyAtTT5+6CEZXBsCan297Jfz9NPyckFICPCvfwHjxjm+HsD5Te16vQx8w4fL70Dv3o4/wVdV2QaUrVvPDyjh4bKP0qBBFw4kv78cQBcPk0le0nzxxcYJ7wYMkB3NJ050Taf8VmJg6ULS1+/Bqp/zMeGKnnj1rjh3V8exTCbZi/7112VwaDBiBJCaKq//uvovPiHkdf2G8NKwHDwo+9K0dAM/vV6eSENCgB49mn587vOmAsOePbJfyqpVQElJ4/r4eBlS7r1Xbm/vca1bJ39hHZR390bfvrKD6cSJF24pyc2Vs9OWl8vQ8sUXzj0Zvv028PDDjX0AVq2S4XLy5MbQNX68DDP2fg5t8e23MkSd+x1t0KPH+X06GsJM794tjziqqgJ++kmGk02b5PH9fibeiAgZUBqWSy7p2h3IyXEKC2WoHzJEjsJzVIuoAzGwdBF19QpGPP81zlSZsfLBEbi2Xws9vzsDIeQv/nfekSflhmZKnU6eiKdOldNQd0RCyJv6/T7IHDokw0xTnV5bEhBgG2BOnLC9b0hISOMln/j49h+D2Sw/+7lzG+/pM2SI/EvsppvOL5+fD1xzDXD8uJya+5tv2nY5yV5r1sgRFWaz/D78+qu8PBIQIKfX//OfXXvStlhkcFqzxr5RMyEh54eZHj3k/4GGFpTfB5TISNuAEhPDgEJdFgNLF/H1vhI89J9tCPHX4udZN0LdmeddKSmRcyOsWNE43h+Qfy1OnSrvkxEU5LbqtZuiyFEXpaWyhaasrPnHDYvF0vS+vLzkvAr33y/77jhjlIPJJIcmv/hi44k3MVGOsBk6VD4vK5MtKwcOyBFVP/zQ8nBJR/rqK9mS0tCknZgoW18cNSy0PYSQ/94XGgbcEMZb0rOnbUCJjmZAoYsGA0sXMe39HHy+uwgPXtMXT93a393VsV9trezwuWKFvIzQcILWaGS/gwcekH/Vd8BmSqdrCDi/DzOenrKPiKs6d5aXy8tCS5c2/qV/zz2y78ZDD8m+K1FRcviwO4JCdrZsDRo3Tva56UzfleYCTWGhnOCrIaD07cuAQhctBpYuoKLGjGHPfo3aegWfTbsGg3o6aASEszVMpPTuu7J/yqlTja8lJMhWg4kT3TLeny7g6FHZEfe992zXBwcDmzfLFhYiIgdr7fm743QTpvNs+LUEtfUKokN8MTCyE4SwoiJ5snv3XdnfoEFEhOwsmZxs/7TR5Dp9+8o+Gv/4h+yYu2GDvMVBZibDChG5HQNLB/bJTjlj6/j4SKg6anNxTY284d2778oTW8P9Q3Q62fcgOVn2O7iYpjjv7IYMkf+WOTmyT5EL7iVCRNQSBpYOqtRYgx8PlwMAxsZ3wDvI/vKLHGnywQfyOn2Dq66SIeWuu+Q8ENR5XXGFu2tARGTFwNJBfbqrEIoArugViF7d7bgniissWyZH9TTo2bPxks+ll7qvXkRE1GUxsHRQ6xsuBw3pYK0rZ87IKZ8Becnnb3+TE4nxkg8RETkRA0sHdLi0EnsLjPD0UOGWjnZX5ldekXdL7t9fTqHPoEJERC7QiSY0uHg0dLa97tIQBPm64SZ7zSkpkfd5AeS8HQwrRETkIgwsHYwQwno5aFxHuxz07LNyxtGEBDmxGRERkYu0KbAsXboUffr0gU6nQ0JCArZu3dpsWbPZjPnz5yMmJgY6nQ5xcXHIzMy0KdOnTx+oVKrzltTU1LZUr1PLyT+N46eq4atR46bLQ91dnUZHjwLLl8vHGRmclZOIiFzK7sCyevVqpKWlYe7cucjJyUFcXBySkpJQWlraZPn09HQsX74cixcvxr59+zBlyhSMHz8eO3bssJb55ZdfUFRUZF02btwIALjzzjvbeFid1/odhQCApAFh8NZ0oEsuc+fKadtvukl2siUiInIhu6fmT0hIwPDhw7FkyRIAgKIoiIqKwvTp0zFz5szzykdERGD27Nk2rSUTJkyAt7c3Vq1a1eR7PPLII/j8889x6NChVk+Y1hWm5jdbFIx47mucrjLjPw+MwHWXdpA7M+/ZA8TFySn3f/ml495JmYiIOp3Wnr/tamGpq6vD9u3bkZiY2LgDDw8kJiYiOzu7yW1qa2uh0+ls1nl7e2Pz5s3NvseqVavwwAMPXDCs1NbWwmg02iyd3fcHy3C6yoxgPy2uiunu7uo0Sk+XYeWOOxhWiIjILewKLOXl5bBYLAgNte1bERoaiuLi4ia3SUpKwoIFC3Do0CEoioKNGzdi7dq1KCoqarL8+vXrcebMGdx///0XrEtGRgb0er11ieoIt5tvp/U75eWg2+LC4an+3T+N0Qg8/HBjPxJX+ekn4NNP5YigZ5917XsTERGd5fRRQosWLUK/fv0QGxsLjUaDadOmISUlBR7N3CL+3//+N0aPHo2IiAvPPzJr1iwYDAbrcvz4cWdU32Uqa+uxcZ8MfedNFicE8MADwFtvAVOmyADhCkLIm+AB8g7LvAEeERG5iV2BJTg4GGq1GiUlJTbrS0pKEBYW1uQ2ISEhWL9+PUwmE44dO4bc3Fz4+fkhOjr6vLLHjh3D119/jYceeqjFumi1WgQEBNgsndmGvcWoMSuIDvbFoEi97YuLFgFr1jQ+v/9+ID/fBZXaAHz/PaDVyk63REREbmJXYNFoNBg6dCiysrKs6xRFQVZWFkaOHHnBbXU6HSIjI1FfX481a9ZgbBPzeLzzzjvo0aMHbrnlFnuq1SU0zL0y9vd3Zs7OBh5/XD5+5RVg+HA50+w998hRO86iKI1T8KemAl3gkhsREXVedl8SSktLw5tvvokVK1Zg//79mDp1KkwmE1JSUgAAkydPxqyGywgAtmzZgrVr1yIvLw8//PADRo0aBUVRMGPGDJv9KoqCd955B8nJyfD0vLjuGFBa0Xhn5nFDzrkUVlYm73pcXy9/pqUBH34IBATIviVz5jivUh9/DOzYAfj7N14WIiIichO7k8HEiRNRVlaGOXPmoLi4GPHx8cjMzLR2xM3Pz7fpn1JTU4P09HTk5eXBz88PY8aMwcqVKxEYGGiz36+//hr5+fl44IEH2ndEndBnu4qgCGBIr0D07u4rV1oswH33ASdOyDsgv/WWnKwtOlo+vusu4IUXgOuvB5KSHFshsxl46in5+LHHgOBgx+6fiIjITnbPw9JRdeZ5WG5fshm7Txjw9O0DkHxVH7ny6aeBefMAb29gyxZg0CDbjf72N+CNN4CQEGDXLiA83HEV+te/gL/+Ve77yBHZykJEROQETpmHhRzvSFkldp8wQO2hwq2Dz4aOjRtlYAGAZcvODysAsGABMHiwvGw0aZJskXGE6urG9549m2GFiIg6BAYWN/tkx9k7M/cLRnc/rbwEdO+9ckjxww8Dkyc3vaFOB6xeDfj6At9+Czz/vGMqtGQJUFgI9Oolh1ATERF1AAwsbiTvzCwnixs3JFL2HbnrLqC8HIiPB1577cI7iI2Vl4UAeflo06b2VejMGXljQ0C2smi17dsfERGRgzCwuFFO/hnkn6qCj0aNm/qHAk88IYcx6/XAf/8rW1Fa8uc/A8nJchjyvffKS0Rt9corcsh0//5yv0RERB0EA4sbfXJ27pWkAWHw+fxT4J//lC+8+y4QE9P6HS1ZIltbCgsbw4u9Skoa3/+55+RU/ERERB0EA4ubmC0KPt8t76d0d2ANcHYeGzz2GDBunH078/OT/Vl0OuDLL2WHXHs9+yxQVQUkJABNTOpHRETkTgwsbvLDoTKcMtUhUiswYsZf5c0Nr7mm7Z1nBw+WU/gDcqK3n39u/bZHjzbeVDEjQ873QkRE1IEwsLjJ+h2ys+3in96BavduOefJhx8CXl5t3+nDDzfOjHv33bI/SmvMnSs7/N50E3DDDW1/fyIiIidhYHGDytp6fLWvGHfu3ogrvl4rWzQ++ACIjGx54wtRqeSkb9HRwLFjwIMPyuHRF7J3L7BqlXzsqKHRREREDsbA4gZf/VqMvgWH8ezGs0OS588HbrzRMTvX62V/Fi8vYN064PXXL1x+9mwZau64Axg2zDF1ICIicjAGFjfIzD6IpetfgLa+Dhg9uvGuyI4ybBjw0kvycVqavIlhU376Cfj0Uzki6NlnHVsHIiIiB2JgcbFSYzXGLZ6D6NOFqI/sCaxcCXg44Z/h738Hbr8dqKuT/VoqKmxfF6LxLsz33w9cdpnj60BEROQgDCwulvdUBsYc+BFmtSc8//sx0L27c95IpQLeeQeIigIOH5bT7J/bn2XDBuD77+VstnPnOqcOREREDsLA4krZ2Ri2RHZs3T59NnDllc59v6Ag2ZlXrQbef18GGEBOLNdwGSo1VYYaIiKiDoyBxVXKy1F/x53wVCz43+XX4pL5M13zvldfDTzzjHw8bRrw66/Axx/Lfi3+/o2XhYiIiDowT3dX4KJgsQCTJsGzsABHgnris2lP4xb/VtwnyFGeeELe0XnjRtmfxWyW6x97DAgOdl09iIiI2ogtLK6wcCHw1Veo8dJi6riZGDXyUte+v4eH7NwbFgbs2wccOiQnqnv0UdfWg4iIqI0YWJytvFzOswJg3h8fxvGIGHlnZlcLDZUTxDVMuz97trwkRERE1AnwkpCzzZ8PGI0ojL4cq+NuxtgBofDVuuljv/FGeSfoXbuAqVPdUwciIqI2YGBxpoMHgTfkbLZPX3c/hMoDY4e0c/r99po82b3vT0RE1Aa8JORMs2YB9fUo/0MiNoQOQHdfDa69hJ1ciYiI7MXA4iybNwNr1wIeHvjozukAgFEDw+Cp5kdORERkL549nUEI4B//kI8fegi/dusJAIgJ8XNjpYiIiDovBhZn+OgjYOtWwNcXePpplFXUAgBC/LVurhgREVHnxMDiaLW1jbPHPvEEEBaGcgYWIiKidmFgcbSlS4GjR4GICCAtDQBQVikDS7AfAwsREVFbMLA40qlTjffteeYZwNcXNWYLKmrqAbCFhYiIqK0YWBzp2WeBM2eAQYOA5GQAsPZf0Xh6IEDHaW+IiIjagoHFUfLygCVL5ONXXgHUagCNl4NC/LRQNUyLT0RERHZhYHGUWbPkXZBvvlkuZzV0uA3m5SAiIqI2Y2BxhOxsOZRZpQJeftnmpXNbWIiIiKhtGFjaSwjgscfk45QUYPBgm5c5BwsREVH7tSmwLF26FH369IFOp0NCQgK2bt3abFmz2Yz58+cjJiYGOp0OcXFxyMzMPK9cQUEB7rvvPnTv3h3e3t4YNGgQtm3b1pbquda6dcBPPwE+PvLOzL9TXsnAQkRE1F52B5bVq1cjLS0Nc+fORU5ODuLi4pCUlITS0tImy6enp2P58uVYvHgx9u3bhylTpmD8+PHYsWOHtczp06dx9dVXw8vLC19++SX27duHV199Fd26dWv7kblCXZ2cHA6QU/FHnn8nZmsLi5/GlTUjIiLqUlRCCGHPBgkJCRg+fDiWnB0RoygKoqKiMH36dMycOfO88hEREZg9ezZSU1Ot6yZMmABvb2+sWrUKADBz5kz8+OOP+OGHH9p8IEajEXq9HgaDAQEBAW3ej11eew34+9+B0FDg0CHA3/+8In96/Ufk5J/BsvuuwKiB4a6pFxERUSfR2vO3XS0sdXV12L59OxITExt34OGBxMREZGdnN7lNbW0tdDqdzTpvb29s3rzZ+vzTTz/FsGHDcOedd6JHjx4YMmQI3nzzzQvWpba2Fkaj0WZxqTNngKeflo/nz28yrADndLrlJSEiIqI2syuwlJeXw2KxIDQ01GZ9aGgoiouLm9wmKSkJCxYswKFDh6AoCjZu3Ii1a9eiqKjIWiYvLw9vvPEG+vXrhw0bNmDq1Kn4v//7P6xYsaLZumRkZECv11uXqKgoew6l/TIy5My2l18OPPBAk0WEECivqAMAhPjpmixDRERELXP6KKFFixahX79+iI2NhUajwbRp05CSkgIPj8a3VhQFV1xxBZ5//nkMGTIEf/nLX/Dwww9j2bJlze531qxZMBgM1uX48ePOPpRGv/0GLFokH7/8MuDZ9Ay2pjoLqs0WAECwP/uwEBERtZVdgSU4OBhqtRolJSU260tKShAWFtbkNiEhIVi/fj1MJhOOHTuG3Nxc+Pn5ITo62lomPDwc/fv3t9nu8ssvR35+frN10Wq1CAgIsFlcZvZseVfmP/4RGDOm2WINHW59NWr4aDgtPxERUVvZFVg0Gg2GDh2KrKws6zpFUZCVlYWRI0decFudTofIyEjU19djzZo1GDt2rPW1q6++GgcOHLApf/DgQfTu3due6rnGtm3A++/LSeJeeUX+bAbnYCEiInIMu//sT0tLQ3JyMoYNG4YRI0Zg4cKFMJlMSElJAQBMnjwZkZGRyMjIAABs2bIFBQUFiI+PR0FBAebNmwdFUTBjxgzrPh999FFcddVVeP7553HXXXdh69at+Ne//oV//etfDjpMBzl3krj77gOGDLlg8YY5WII5yy0REVG72B1YJk6ciLKyMsyZMwfFxcWIj49HZmamtSNufn6+Tf+UmpoapKenIy8vD35+fhgzZgxWrlyJwMBAa5nhw4dj3bp1mDVrFubPn4++ffti4cKFmDRpUvuP0JE++wzYtAnQ6eSdmVvAFhYiIiLHsHselo7K6fOwmM3AoEHAgQPyRofPP9/iJq9sOIAl3x7G5JG9MX/sQMfXiYiIqJNzyjwsF7U335RhJSQEaGKCvKY0znLLFhYiIqL2YGBpDaMRmDdPPp47F2hlC461DwsvCREREbULA0trvPgiUFYGXHop8Je/tHoz6yy3bGEhIiJqFwaWlhw/DixYIB+/9BLg5dXqTdnploiIyDEYWFqSng7U1ADXXgvcfnurNxNCWC8JMbAQERG1DwPLhZSUAB99JB+3MEnc7xmqzTBb5ACs7n6clp+IiKg9OF/8hYSGAvv2AV98AYwYYdemDZeD9N5e0HqqnVE7IiKiiwZbWFrSty+Qmmr3Zuy/QkRE5DgMLE7CEUJERESOw8DiJA0tLJyDhYiIqP0YWJyELSxERESOw8DiJOzDQkRE5DgMLE7CwEJEROQ4DCxOUl5ZBwAI5hwsRERE7cbA4iRsYSEiInIcBhYnsCgCp0wMLERERI7CwOIEp0x1UATgoQK6+zKwEBERtRcDixM0XA4K8tVA7dH6+w8RERFR0xhYnKBhDpZgzsFCRETkEAwsTsAOt0RERI7FwOIE5ZUMLERERI7EwOIE1hYWXhIiIiJyCAYWJ+AlISIiIsdiYHECBhYiIiLHYmBxgnKOEiIiInIoBhYnKGOnWyIiIodiYHGw2noLzlSZAbDTLRERkaMwsDjYybN3afZSq6D39nJzbYiIiLoGBhYHa+i/0t1XCw9Oy09EROQQDCwOxhFCREREjsfA4mAMLERERI7HwOJgnOWWiIjI8doUWJYuXYo+ffpAp9MhISEBW7dubbas2WzG/PnzERMTA51Oh7i4OGRmZtqUmTdvHlQqlc0SGxvblqq5nXUOFn+Nm2tCRETUddgdWFavXo20tDTMnTsXOTk5iIuLQ1JSEkpLS5ssn56ejuXLl2Px4sXYt28fpkyZgvHjx2PHjh025QYMGICioiLrsnnz5rYdkZtZ52BhCwsREZHD2B1YFixYgIcffhgpKSno378/li1bBh8fH7z99ttNll+5ciWefPJJjBkzBtHR0Zg6dSrGjBmDV1991aacp6cnwsLCrEtwcHDbjsjNGvuw6NxcEyIioq7DrsBSV1eH7du3IzExsXEHHh5ITExEdnZ2k9vU1tZCp7M9eXt7e5/XgnLo0CFEREQgOjoakyZNQn5+/gXrUltbC6PRaLN0BOx0S0RE5Hh2BZby8nJYLBaEhobarA8NDUVxcXGT2yQlJWHBggU4dOgQFEXBxo0bsXbtWhQVFVnLJCQk4N1330VmZibeeOMNHD16FNdeey0qKiqarUtGRgb0er11iYqKsudQnKb87MRxwX7sw0JEROQoTh8ltGjRIvTr1w+xsbHQaDSYNm0aUlJS4OHR+NajR4/GnXfeicGDByMpKQlffPEFzpw5g48++qjZ/c6aNQsGg8G6HD9+3NmH0qKqunpU1tYDYAsLERGRI9kVWIKDg6FWq1FSUmKzvqSkBGFhYU1uExISgvXr18NkMuHYsWPIzc2Fn58foqOjm32fwMBAXHrppTh8+HCzZbRaLQICAmwWdyuvkK0rOi8P+Gk93VwbIiKirsOuwKLRaDB06FBkZWVZ1ymKgqysLIwcOfKC2+p0OkRGRqK+vh5r1qzB2LFjmy1bWVmJI0eOIDw83J7quV1ZZQ0A2bqiUnFafiIiIkex+5JQWloa3nzzTaxYsQL79+/H1KlTYTKZkJKSAgCYPHkyZs2aZS2/ZcsWrF27Fnl5efjhhx8watQoKIqCGTNmWMs89thj2LRpE3777Tf89NNPGD9+PNRqNe655x4HHKLrlFU09F/h5SAiIiJHsvu6xcSJE1FWVoY5c+aguLgY8fHxyMzMtHbEzc/Pt+mfUlNTg/T0dOTl5cHPzw9jxozBypUrERgYaC1z4sQJ3HPPPTh58iRCQkJwzTXX4Oeff0ZISEj7j9CFOAcLERGRc6iEEMLdlXAEo9EIvV4Pg8Hgtv4sCzYexGtZhzApoReeGz/ILXUgIiLqTFp7/ua9hByoYVp+jhAiIiJyLAYWB2qYNI59WIiIiByLgcWBOMstERGRczCwOBADCxERkXMwsDiIEKKxDwsvCRERETkUA4uDVNTWo7ZeAcAWFiIiIkdjYHGQhstB/lpP6LzUbq4NERFR18LA4iDsv0JEROQ8DCwO0tB/JZiBhYiIyOEYWBzE2sLCDrdEREQOx8DiILwkRERE5DwMLA7CwEJEROQ8DCwOYu3D4qdxc02IiIi6HgYWBynjjQ+JiIichoHFQRo73ercXBMiIqKuh4HFARRFoLyyDgBbWIiIiJyBgcUBzlSbYVEEAKA7+7AQERE5HAOLAzRcDurm4wUvNT9SIiIiR+PZ1QE4pJmIiMi5GFgcoKyyBgADCxERkbMwsDhAeYXscBvMafmJiIicgoHFAaxzsDCwEBEROQUDiwOwDwsREZFzMbA4AAMLERGRczGwOEDjfYQYWIiIiJyBgcUB2MJCRETkXAws7VRvUXCqitPyExERORMDSzudMtVBCEDtoUI3H07LT0RE5AwMLO1UevZyUJCvBmoPlZtrQ0RE1DUxsLQT52AhIiJyPgaWdmKHWyIiIudjYGmnhiHNDCxERETO06bAsnTpUvTp0wc6nQ4JCQnYunVrs2XNZjPmz5+PmJgY6HQ6xMXFITMzs9nyL7zwAlQqFR555JG2VM3lGlpYOAcLERGR89gdWFavXo20tDTMnTsXOTk5iIuLQ1JSEkpLS5ssn56ejuXLl2Px4sXYt28fpkyZgvHjx2PHjh3nlf3ll1+wfPlyDB482P4jcRNeEiIiInI+uwPLggUL8PDDDyMlJQX9+/fHsmXL4OPjg7fffrvJ8itXrsSTTz6JMWPGIDo6GlOnTsWYMWPw6quv2pSrrKzEpEmT8Oabb6Jbt25tOxo3YGAhIiJyPrsCS11dHbZv347ExMTGHXh4IDExEdnZ2U1uU1tbC51OZ7PO29sbmzdvtlmXmpqKW265xWbfF1JbWwuj0WizuEM5RwkRERE5nV2Bpby8HBaLBaGhoTbrQ0NDUVxc3OQ2SUlJWLBgAQ4dOgRFUbBx40asXbsWRUVF1jIffvghcnJykJGR0eq6ZGRkQK/XW5eoqCh7DsVhGltYOGkcERGRszh9lNCiRYvQr18/xMbGQqPRYNq0aUhJSYGHh3zr48eP4+9//zvee++981piLmTWrFkwGAzW5fjx4846hGbVmC0w1tQDAEL8Wl93IiIiso9dgSU4OBhqtRolJSU260tKShAWFtbkNiEhIVi/fj1MJhOOHTuG3Nxc+Pn5ITo6GgCwfft2lJaW4oorroCnpyc8PT2xadMmvPbaa/D09ITFYmlyv1qtFgEBATaLqzVcDtKoPRDg7eny9yciIrpY2BVYNBoNhg4diqysLOs6RVGQlZWFkSNHXnBbnU6HyMhI1NfXY82aNRg7diwA4MYbb8SePXuwc+dO6zJs2DBMmjQJO3fuhFqtbsNhuUZ5pbzpYbCfBioVp+UnIiJyFrubBdLS0pCcnIxhw4ZhxIgRWLhwIUwmE1JSUgAAkydPRmRkpLU/ypYtW1BQUID4+HgUFBRg3rx5UBQFM2bMAAD4+/tj4MCBNu/h6+uL7t27n7e+o+EIISIiItewO7BMnDgRZWVlmDNnDoqLixEfH4/MzExrR9z8/Hxr/xQAqKmpQXp6OvLy8uDn54cxY8Zg5cqVCAwMdNhBuAsDCxERkWuohBDC3ZVwBKPRCL1eD4PB4LL+LIu+PoR/fn0Q94yIQsafOs9kd0RERB1Fa8/fvJdQOzR0uuW0/ERERM7FwNIOvCRERETkGgws7VDGWW6JiIhcgoGlHdjCQkRE5BoMLO3APixERESuwcDSRqbaelTVyVl42cJCRETkXAwsbdRwOchHo4avltPyExERORMDSxtZO9yydYWIiMjpGFjaqLyC/VeIiIhchYGljTikmYiIyHUYWNqIQ5qJiIhch4GljcrZh4WIiMhlGFjaqIx9WIiIiFyGgaWNeEmIiIjIdRhY2oiBhYiIyHUYWNpACIHyyjoADCxERESuwMDSBsbqetRZFABAd1+Nm2tDRETU9TGwtEFZZQ0AIEDnCZ2X2s21ISIi6voYWNqglP1XiIiIXIqBpQ3Yf4WIiMi1GFjagHOwEBERuRYDSxtwSDMREZFrMbC0AQMLERGRazGwtEE579RMRETkUgwsbWDtw8IWFiIiIpdgYGmDMrawEBERuRQDi50sisDJs4GlB1tYiIiIXIKBxU6nq+qgCEClAoI4LT8REZFLMLDYqaH/SpCPBp5qfnxERESuwDOunTikmYiIyPUYWOzEwEJEROR6DCx2apiDhdPyExERuU6bAsvSpUvRp08f6HQ6JCQkYOvWrc2WNZvNmD9/PmJiYqDT6RAXF4fMzEybMm+88QYGDx6MgIAABAQEYOTIkfjyyy/bUjWnYwsLERGR69kdWFavXo20tDTMnTsXOTk5iIuLQ1JSEkpLS5ssn56ejuXLl2Px4sXYt28fpkyZgvHjx2PHjh3WMj179sQLL7yA7du3Y9u2bfjjH/+IsWPH4tdff237kTkJ52AhIiJyPZUQQtizQUJCAoYPH44lS5YAABRFQVRUFKZPn46ZM2eeVz4iIgKzZ89Gamqqdd2ECRPg7e2NVatWNfs+QUFBePnll/Hggw+2ql5GoxF6vR4GgwEBAQH2HJJd7n3zZ/x05CQWTozHuCGRTnsfIiKii0Frz992tbDU1dVh+/btSExMbNyBhwcSExORnZ3d5Da1tbXQ6XQ267y9vbF58+Ymy1ssFnz44YcwmUwYOXKkPdVzCfZhISIicj1PewqXl5fDYrEgNDTUZn1oaChyc3Ob3CYpKQkLFizAddddh5iYGGRlZWHt2rWwWCw25fbs2YORI0eipqYGfn5+WLduHfr3799sXWpra1FbW2t9bjQa7TmUNmMfFiIiItdz+iihRYsWoV+/foiNjYVGo8G0adOQkpICDw/bt77sssuwc+dObNmyBVOnTkVycjL27dvX7H4zMjKg1+utS1RUlLMPBWaLgtNVZgAMLERERK5kV2AJDg6GWq1GSUmJzfqSkhKEhYU1uU1ISAjWr18Pk8mEY8eOITc3F35+foiOjrYpp9FocMkll2Do0KHIyMhAXFwcFi1a1GxdZs2aBYPBYF2OHz9uz6G0ycnKOgCAp4cKgd5eTn8/IiIikuwKLBqNBkOHDkVWVpZ1naIoyMrKarG/iU6nQ2RkJOrr67FmzRqMHTv2guUVRbG55PN7Wq3WOgy6YXG2hstB3f008PBQOf39iIiISLKrDwsApKWlITk5GcOGDcOIESOwcOFCmEwmpKSkAAAmT56MyMhIZGRkAAC2bNmCgoICxMfHo6CgAPPmzYOiKJgxY4Z1n7NmzcLo0aPRq1cvVFRU4P3338d3332HDRs2OOgwHaOssgYALwcRERG5mt2BZeLEiSgrK8OcOXNQXFyM+Ph4ZGZmWjvi5ufn2/RPqampQXp6OvLy8uDn54cxY8Zg5cqVCAwMtJYpLS3F5MmTUVRUBL1ej8GDB2PDhg246aab2n+EDmTtcMsRQkRERC5l9zwsHZUr5mFZ+u1hvLzhAO4a1hMv3RHnlPcgIiK6mDhlHpaLXUMLC+dgISIici0GFjtwDhYiIiL3YGCxAwMLERGRezCw2KGcNz4kIiJyCwYWO1j7sLCFhYiIyKUYWFqpus6Citp6ALwkRERE5GoMLK3UcDlI6+kBf63d09cQERFROzCwtFJZZWOHW5WK0/ITERG5EgNLK3EOFiIiIvdhYGklDmkmIiJyHwaWVmJgISIich8GllZq6HTLS0JERESux8DSSmxhISIich8GllYq4yy3REREbsPA0kpsYSEiInIfBpZWEELwPkJERERuxMDSCpW19agxKwCAYH+Nm2tDRER08WFgaYWGy0F+Wk/4aDgtPxERkasxsLQC+68QERG5FwNLK5RX1gEAgv14OYiIiMgdGFhaoayiBgBbWIiIiNyFgaUVOAcLERGRezGwtEJ5hbwkxBYWIiIi92BgaYUy3keIiIjIrRhYWoGjhIiIiNyLgaUVGFiIiIjci4GlBYoicNLEwEJERORODCwtMFSbYbYIAEB3XwYWIiIid2BgaUFDh9tAHy9oPPlxERERuQPPwC2w9l/hCCEiIiK3YWBpQXkl+68QERG5GwNLCxpaWDgHCxERkfswsLSAQ5qJiIjcr02BZenSpejTpw90Oh0SEhKwdevWZsuazWbMnz8fMTEx0Ol0iIuLQ2Zmpk2ZjIwMDB8+HP7+/ujRowfGjRuHAwcOtKVqDsfAQkRE5H52B5bVq1cjLS0Nc+fORU5ODuLi4pCUlITS0tImy6enp2P58uVYvHgx9u3bhylTpmD8+PHYsWOHtcymTZuQmpqKn3/+GRs3boTZbMbNN98Mk8nU9iNzEN74kIiIyP1UQghhzwYJCQkYPnw4lixZAgBQFAVRUVGYPn06Zs6ceV75iIgIzJ49G6mpqdZ1EyZMgLe3N1atWtXke5SVlaFHjx7YtGkTrrvuulbVy2g0Qq/Xw2AwICAgwJ5DuqBRC79HbnEFVjwwAn+4NMRh+yUiIqLWn7/tamGpq6vD9u3bkZiY2LgDDw8kJiYiOzu7yW1qa2uh0+ls1nl7e2Pz5s3Nvo/BYAAABAUFNVumtrYWRqPRZnGGcrawEBERuZ1dgaW8vBwWiwWhoaE260NDQ1FcXNzkNklJSViwYAEOHToERVGwceNGrF27FkVFRU2WVxQFjzzyCK6++moMHDiw2bpkZGRAr9dbl6ioKHsOpdX+cl00HrymLyIDvZ2yfyIiImqZ00cJLVq0CP369UNsbCw0Gg2mTZuGlJQUeHg0/dapqanYu3cvPvzwwwvud9asWTAYDNbl+PHjzqg+/nJdDJ66tT/0Pl5O2T8RERG1zK7AEhwcDLVajZKSEpv1JSUlCAsLa3KbkJAQrF+/HiaTCceOHUNubi78/PwQHR19Xtlp06bh888/x7fffouePXtesC5arRYBAQE2CxEREXVNdgUWjUaDoUOHIisry7pOURRkZWVh5MiRF9xWp9MhMjIS9fX1WLNmDcaOHWt9TQiBadOmYd26dfjmm2/Qt29fOw+DiIiIujJPezdIS0tDcnIyhg0bhhEjRmDhwoUwmUxISUkBAEyePBmRkZHIyMgAAGzZsgUFBQWIj49HQUEB5s2bB0VRMGPGDOs+U1NT8f777+OTTz6Bv7+/tT+MXq+Htzf7jhAREV3s7A4sEydORFlZGebMmYPi4mLEx8cjMzPT2hE3Pz/fpn9KTU0N0tPTkZeXBz8/P4wZMwYrV65EYGCgtcwbb7wBALj++utt3uudd97B/fffb/9RERERUZdi9zwsHZWz5mEhIiIi53HKPCxERERE7sDAQkRERB0eAwsRERF1eAwsRERE1OExsBAREVGHx8BCREREHR4DCxEREXV4DCxERETU4dk9021H1TD/ndFodHNNiIiIqLUaztstzWPbZQJLRUUFACAqKsrNNSEiIiJ7VVRUQK/XN/t6l5maX1EUFBYWwt/fHyqVymH7NRqNiIqKwvHjxznlv4Pxs3UefrbOwc/VefjZOk9H/2yFEKioqEBERITNvQh/r8u0sHh4eKBnz55O239AQECH/IfuCvjZOg8/W+fg5+o8/GydpyN/thdqWWnATrdERETU4TGwEBERUYfHwNICrVaLuXPnQqvVursqXQ4/W+fhZ+sc/Fydh5+t83SVz7bLdLolIiKirostLERERNThMbAQERFRh8fAQkRERB0eAwsRERF1eAwsLVi6dCn69OkDnU6HhIQEbN261d1V6vTmzZsHlUpls8TGxrq7Wp3O999/j9tuuw0RERFQqVRYv369zetCCMyZMwfh4eHw9vZGYmIiDh065J7KdjItfbb333//ed/hUaNGuaeynUhGRgaGDx8Of39/9OjRA+PGjcOBAwdsytTU1CA1NRXdu3eHn58fJkyYgJKSEjfVuPNozWd7/fXXn/e9nTJliptqbD8GlgtYvXo10tLSMHfuXOTk5CAuLg5JSUkoLS11d9U6vQEDBqCoqMi6bN682d1V6nRMJhPi4uKwdOnSJl9/6aWX8Nprr2HZsmXYsmULfH19kZSUhJqaGhfXtPNp6bMFgFGjRtl8hz/44AMX1rBz2rRpE1JTU/Hzzz9j48aNMJvNuPnmm2EymaxlHn30UXz22Wf4+OOPsWnTJhQWFuJPf/qTG2vdObTmswWAhx9+2OZ7+9JLL7mpxm0gqFkjRowQqamp1ucWi0VERESIjIwMN9aq85s7d66Ii4tzdzW6FABi3bp11ueKooiwsDDx8ssvW9edOXNGaLVa8cEHH7ihhp3X7z9bIYRITk4WY8eOdUt9upLS0lIBQGzatEkIIb+jXl5e4uOPP7aW2b9/vwAgsrOz3VXNTun3n60QQvzhD38Qf//7391XqXZiC0sz6urqsH37diQmJlrXeXh4IDExEdnZ2W6sWddw6NAhREREIDo6GpMmTUJ+fr67q9SlHD16FMXFxTbfX71ej4SEBH5/HeS7775Djx49cNlll2Hq1Kk4efKku6vU6RgMBgBAUFAQAGD79u0wm80239vY2Fj06tWL31s7/f6zbfDee+8hODgYAwcOxKxZs1BVVeWO6rVJl7n5oaOVl5fDYrEgNDTUZn1oaChyc3PdVKuuISEhAe+++y4uu+wyFBUV4emnn8a1116LvXv3wt/f393V6xKKi4sBoMnvb8Nr1HajRo3Cn/70J/Tt2xdHjhzBk08+idGjRyM7Oxtqtdrd1esUFEXBI488gquvvhoDBw4EIL+3Go0GgYGBNmX5vbVPU58tANx7773o3bs3IiIisHv3bjzxxBM4cOAA1q5d68bath4DC7nc6NGjrY8HDx6MhIQE9O7dGx999BEefPBBN9aMqHXuvvtu6+NBgwZh8ODBiImJwXfffYcbb7zRjTXrPFJTU7F37172X3OC5j7bv/zlL9bHgwYNQnh4OG688UYcOXIEMTExrq6m3XhJqBnBwcFQq9Xn9U4vKSlBWFiYm2rVNQUGBuLSSy/F4cOH3V2VLqPhO8rvr2tER0cjODiY3+FWmjZtGj7//HN8++236Nmzp3V9WFgY6urqcObMGZvy/N62XnOfbVMSEhIAoNN8bxlYmqHRaDB06FBkZWVZ1ymKgqysLIwcOdKNNet6KisrceTIEYSHh7u7Kl1G3759ERYWZvP9NRqN2LJlC7+/TnDixAmcPHmS3+EWCCEwbdo0rFu3Dt988w369u1r8/rQoUPh5eVl8709cOAA8vPz+b1tQUufbVN27twJAJ3me8tLQheQlpaG5ORkDBs2DCNGjMDChQthMpmQkpLi7qp1ao899hhuu+029O7dG4WFhZg7dy7UajXuueced1etU6msrLT5y+jo0aPYuXMngoKC0KtXLzzyyCN49tln0a9fP/Tt2xdPPfUUIiIiMG7cOPdVupO40GcbFBSEp59+GhMmTEBYWBiOHDmCGTNm4JJLLkFSUpIba93xpaam4v3338cnn3wCf39/a78UvV4Pb29v6PV6PPjgg0hLS0NQUBACAgIwffp0jBw5EldeeaWba9+xtfTZHjlyBO+//z7GjBmD7t27Y/fu3Xj00Udx3XXXYfDgwW6ufSu5e5hSR7d48WLRq1cvodFoxIgRI8TPP//s7ip1ehMnThTh4eFCo9GIyMhIMXHiRHH48GF3V6vT+fbbbwWA85bk5GQhhBza/NRTT4nQ0FCh1WrFjTfeKA4cOODeSncSF/psq6qqxM033yxCQkKEl5eX6N27t3j44YdFcXGxu6vd4TX1mQIQ77zzjrVMdXW1+Nvf/ia6desmfHx8xPjx40VRUZH7Kt1JtPTZ5ufni+uuu04EBQUJrVYrLrnkEvH4448Lg8Hg3orbQSWEEK4MSERERET2Yh8WIiIi6vAYWIiIiKjDY2AhIiKiDo+BhYiIiDo8BhYiIiLq8BhYiIiIqMNjYCEiIqIOj4GFiIiIOjwGFiIiIurwGFiIiIiow2NgISIiog6PgYWIiIg6vP8HqMMq4NTCt8MAAAAASUVORK5CYII=",
      "text/plain": [
       "<Figure size 640x480 with 1 Axes>"
      ]
     },
     "metadata": {},
     "output_type": "display_data"
    }
   ],
   "source": [
    "\n",
    "plt.plot(history.history[\"accuracy\"])\n",
    "plt.plot(history.history[\"val_accuracy\"],c=\"r\")\n"
   ]
  },
  {
   "cell_type": "code",
   "execution_count": 23,
   "metadata": {},
   "outputs": [
    {
     "data": {
      "text/plain": [
       "array([5, 0, 4, ..., 5, 6, 8], dtype=uint8)"
      ]
     },
     "execution_count": 23,
     "metadata": {},
     "output_type": "execute_result"
    }
   ],
   "source": [
    "\n",
    "y_train\n"
   ]
  },
  {
   "cell_type": "code",
   "execution_count": 24,
   "metadata": {},
   "outputs": [
    {
     "data": {
      "text/plain": [
       "<matplotlib.image.AxesImage at 0x7b874e442330>"
      ]
     },
     "execution_count": 24,
     "metadata": {},
     "output_type": "execute_result"
    },
    {
     "data": {
      "image/png": "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",
      "text/plain": [
       "<Figure size 640x480 with 1 Axes>"
      ]
     },
     "metadata": {},
     "output_type": "display_data"
    }
   ],
   "source": [
    "plt.imshow(X_test[4])"
   ]
  },
  {
   "cell_type": "code",
   "execution_count": 25,
   "metadata": {},
   "outputs": [
    {
     "name": "stdout",
     "output_type": "stream",
     "text": [
      "\u001b[1m1/1\u001b[0m \u001b[32m━━━━━━━━━━━━━━━━━━━━\u001b[0m\u001b[37m\u001b[0m \u001b[1m0s\u001b[0m 86ms/step\n"
     ]
    },
    {
     "data": {
      "text/plain": [
       "array([4])"
      ]
     },
     "execution_count": 25,
     "metadata": {},
     "output_type": "execute_result"
    }
   ],
   "source": [
    "\n",
    "model.predict(X_test[4].reshape(1,28,28)).argmax(axis=1)\n"
>>>>>>> 59df7fa (ml)
   ]
  }
 ],
 "metadata": {
  "kernelspec": {
   "display_name": "Python 3",
   "language": "python",
   "name": "python3"
  },
  "language_info": {
   "codemirror_mode": {
    "name": "ipython",
    "version": 3
   },
   "file_extension": ".py",
   "mimetype": "text/x-python",
   "name": "python",
   "nbconvert_exporter": "python",
   "pygments_lexer": "ipython3",
   "version": "3.12.3"
  }
 },
 "nbformat": 4,
 "nbformat_minor": 2
}
