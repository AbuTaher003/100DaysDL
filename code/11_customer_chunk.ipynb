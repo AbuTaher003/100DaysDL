{
 "cells": [
  {
   "cell_type": "code",
   "execution_count": 1,
   "metadata": {},
   "outputs": [
    {
     "name": "stderr",
     "output_type": "stream",
     "text": [
      "2024-04-06 13:38:17.615894: I tensorflow/core/platform/cpu_feature_guard.cc:182] This TensorFlow binary is optimized to use available CPU instructions in performance-critical operations.\n",
      "To enable the following instructions: SSE3 SSE4.1 SSE4.2 AVX AVX2 FMA, in other operations, rebuild TensorFlow with the appropriate compiler flags.\n"
     ]
    }
   ],
   "source": [
    "import numpy as np \n",
    "import pandas as pd \n",
    "\n",
    "import tensorflow as tf \n",
    "import keras \n"
   ]
  },
  {
   "cell_type": "code",
   "execution_count": 2,
   "metadata": {},
   "outputs": [
    {
     "data": {
      "text/html": [
       "<div>\n",
       "<style scoped>\n",
       "    .dataframe tbody tr th:only-of-type {\n",
       "        vertical-align: middle;\n",
       "    }\n",
       "\n",
       "    .dataframe tbody tr th {\n",
       "        vertical-align: top;\n",
       "    }\n",
       "\n",
       "    .dataframe thead th {\n",
       "        text-align: right;\n",
       "    }\n",
       "</style>\n",
       "<table border=\"1\" class=\"dataframe\">\n",
       "  <thead>\n",
       "    <tr style=\"text-align: right;\">\n",
       "      <th></th>\n",
       "      <th>RowNumber</th>\n",
       "      <th>CustomerId</th>\n",
       "      <th>Surname</th>\n",
       "      <th>CreditScore</th>\n",
       "      <th>Geography</th>\n",
       "      <th>Gender</th>\n",
       "      <th>Age</th>\n",
       "      <th>Tenure</th>\n",
       "      <th>Balance</th>\n",
       "      <th>NumOfProducts</th>\n",
       "      <th>HasCrCard</th>\n",
       "      <th>IsActiveMember</th>\n",
       "      <th>EstimatedSalary</th>\n",
       "      <th>Exited</th>\n",
       "    </tr>\n",
       "  </thead>\n",
       "  <tbody>\n",
       "    <tr>\n",
       "      <th>0</th>\n",
       "      <td>1</td>\n",
       "      <td>15634602</td>\n",
       "      <td>Hargrave</td>\n",
       "      <td>619</td>\n",
       "      <td>France</td>\n",
       "      <td>Female</td>\n",
       "      <td>42</td>\n",
       "      <td>2</td>\n",
       "      <td>0.00</td>\n",
       "      <td>1</td>\n",
       "      <td>1</td>\n",
       "      <td>1</td>\n",
       "      <td>101348.88</td>\n",
       "      <td>1</td>\n",
       "    </tr>\n",
       "    <tr>\n",
       "      <th>1</th>\n",
       "      <td>2</td>\n",
       "      <td>15647311</td>\n",
       "      <td>Hill</td>\n",
       "      <td>608</td>\n",
       "      <td>Spain</td>\n",
       "      <td>Female</td>\n",
       "      <td>41</td>\n",
       "      <td>1</td>\n",
       "      <td>83807.86</td>\n",
       "      <td>1</td>\n",
       "      <td>0</td>\n",
       "      <td>1</td>\n",
       "      <td>112542.58</td>\n",
       "      <td>0</td>\n",
       "    </tr>\n",
       "    <tr>\n",
       "      <th>2</th>\n",
       "      <td>3</td>\n",
       "      <td>15619304</td>\n",
       "      <td>Onio</td>\n",
       "      <td>502</td>\n",
       "      <td>France</td>\n",
       "      <td>Female</td>\n",
       "      <td>42</td>\n",
       "      <td>8</td>\n",
       "      <td>159660.80</td>\n",
       "      <td>3</td>\n",
       "      <td>1</td>\n",
       "      <td>0</td>\n",
       "      <td>113931.57</td>\n",
       "      <td>1</td>\n",
       "    </tr>\n",
       "    <tr>\n",
       "      <th>3</th>\n",
       "      <td>4</td>\n",
       "      <td>15701354</td>\n",
       "      <td>Boni</td>\n",
       "      <td>699</td>\n",
       "      <td>France</td>\n",
       "      <td>Female</td>\n",
       "      <td>39</td>\n",
       "      <td>1</td>\n",
       "      <td>0.00</td>\n",
       "      <td>2</td>\n",
       "      <td>0</td>\n",
       "      <td>0</td>\n",
       "      <td>93826.63</td>\n",
       "      <td>0</td>\n",
       "    </tr>\n",
       "    <tr>\n",
       "      <th>4</th>\n",
       "      <td>5</td>\n",
       "      <td>15737888</td>\n",
       "      <td>Mitchell</td>\n",
       "      <td>850</td>\n",
       "      <td>Spain</td>\n",
       "      <td>Female</td>\n",
       "      <td>43</td>\n",
       "      <td>2</td>\n",
       "      <td>125510.82</td>\n",
       "      <td>1</td>\n",
       "      <td>1</td>\n",
       "      <td>1</td>\n",
       "      <td>79084.10</td>\n",
       "      <td>0</td>\n",
       "    </tr>\n",
       "  </tbody>\n",
       "</table>\n",
       "</div>"
      ],
      "text/plain": [
       "   RowNumber  CustomerId   Surname  CreditScore Geography  Gender  Age  \\\n",
       "0          1    15634602  Hargrave          619    France  Female   42   \n",
       "1          2    15647311      Hill          608     Spain  Female   41   \n",
       "2          3    15619304      Onio          502    France  Female   42   \n",
       "3          4    15701354      Boni          699    France  Female   39   \n",
       "4          5    15737888  Mitchell          850     Spain  Female   43   \n",
       "\n",
       "   Tenure    Balance  NumOfProducts  HasCrCard  IsActiveMember  \\\n",
       "0       2       0.00              1          1               1   \n",
       "1       1   83807.86              1          0               1   \n",
       "2       8  159660.80              3          1               0   \n",
       "3       1       0.00              2          0               0   \n",
       "4       2  125510.82              1          1               1   \n",
       "\n",
       "   EstimatedSalary  Exited  \n",
       "0        101348.88       1  \n",
       "1        112542.58       0  \n",
       "2        113931.57       1  \n",
       "3         93826.63       0  \n",
       "4         79084.10       0  "
      ]
     },
     "execution_count": 2,
     "metadata": {},
     "output_type": "execute_result"
    }
   ],
   "source": [
    "df = pd.read_csv(\"dataset/Churn_Modelling.csv\")\n",
    "\n",
    "df.head()\n",
    "\n",
    " \n",
    "#______________________Info About The Dataset_________________________\n",
    "\n",
    "# আমাদের এইখানে, RowNumber, CustomerId, Surname তেমন কোন কাজের না । \n",
    "# CredicScore -> customer এর credibility এর হিসাব করে । \n",
    "# Tenure -> কত সাল ধরে customer এই banker সাথে যুক্ত । \n",
    "# Number of products -> debit cart, credit cart etc.\n",
    "# HasCrCard -> (Number of credit card) \n",
    "# isActiveMember -> (depends on number of trasaction)\n",
    "# EstimatedSalary -> (customer এর income)\n",
    "# Exited বলে customer টা এখনো bank এ আছে নাকি নাই । \n",
    "\n"
   ]
  },
  {
   "cell_type": "code",
   "execution_count": 3,
   "metadata": {},
   "outputs": [
    {
     "data": {
      "text/plain": [
       "(10000, 14)"
      ]
     },
     "execution_count": 3,
     "metadata": {},
     "output_type": "execute_result"
    }
   ],
   "source": [
    "\n",
    "# Check the shape of the dataset:\n",
    "df.shape"
   ]
  },
  {
   "cell_type": "code",
   "execution_count": 4,
   "metadata": {},
   "outputs": [
    {
     "data": {
      "text/plain": [
       "RowNumber          0\n",
       "CustomerId         0\n",
       "Surname            0\n",
       "CreditScore        0\n",
       "Geography          0\n",
       "Gender             0\n",
       "Age                0\n",
       "Tenure             0\n",
       "Balance            0\n",
       "NumOfProducts      0\n",
       "HasCrCard          0\n",
       "IsActiveMember     0\n",
       "EstimatedSalary    0\n",
       "Exited             0\n",
       "dtype: int64"
      ]
     },
     "execution_count": 4,
     "metadata": {},
     "output_type": "execute_result"
    }
   ],
   "source": [
    "\n",
    "# check if there any null vaule present\n",
    "\n",
    "df.isnull().sum()\n"
   ]
  },
  {
   "cell_type": "code",
   "execution_count": 5,
   "metadata": {},
   "outputs": [
    {
     "name": "stdout",
     "output_type": "stream",
     "text": [
      "<class 'pandas.core.frame.DataFrame'>\n",
      "RangeIndex: 10000 entries, 0 to 9999\n",
      "Data columns (total 14 columns):\n",
      " #   Column           Non-Null Count  Dtype  \n",
      "---  ------           --------------  -----  \n",
      " 0   RowNumber        10000 non-null  int64  \n",
      " 1   CustomerId       10000 non-null  int64  \n",
      " 2   Surname          10000 non-null  object \n",
      " 3   CreditScore      10000 non-null  int64  \n",
      " 4   Geography        10000 non-null  object \n",
      " 5   Gender           10000 non-null  object \n",
      " 6   Age              10000 non-null  int64  \n",
      " 7   Tenure           10000 non-null  int64  \n",
      " 8   Balance          10000 non-null  float64\n",
      " 9   NumOfProducts    10000 non-null  int64  \n",
      " 10  HasCrCard        10000 non-null  int64  \n",
      " 11  IsActiveMember   10000 non-null  int64  \n",
      " 12  EstimatedSalary  10000 non-null  float64\n",
      " 13  Exited           10000 non-null  int64  \n",
      "dtypes: float64(2), int64(9), object(3)\n",
      "memory usage: 1.1+ MB\n"
     ]
    }
   ],
   "source": [
    "\n",
    "# Check Data Type:\n",
    "\n",
    "df.info()\n"
   ]
  },
  {
   "cell_type": "code",
   "execution_count": 6,
   "metadata": {},
   "outputs": [
    {
     "data": {
      "text/plain": [
       "0"
      ]
     },
     "execution_count": 6,
     "metadata": {},
     "output_type": "execute_result"
    }
   ],
   "source": [
    "\n",
    "# Check Duplicate Row:\n",
    "\n",
    "df.duplicated().sum()"
   ]
  },
  {
   "cell_type": "code",
   "execution_count": 7,
   "metadata": {},
   "outputs": [
    {
     "data": {
      "text/plain": [
       "0    7963\n",
       "1    2037\n",
       "Name: Exited, dtype: int64"
      ]
     },
     "execution_count": 7,
     "metadata": {},
     "output_type": "execute_result"
    }
   ],
   "source": [
    "\n",
    "# Check how many person left the bank:\n",
    "\n",
    "df[\"Exited\"].value_counts()\n",
    "\n",
    "# 1 bank ছেড়ে চলে গেছে । \n"
   ]
  },
  {
   "cell_type": "code",
   "execution_count": 8,
   "metadata": {},
   "outputs": [
    {
     "data": {
      "text/plain": [
       "France     5014\n",
       "Germany    2509\n",
       "Spain      2477\n",
       "Name: Geography, dtype: int64"
      ]
     },
     "execution_count": 8,
     "metadata": {},
     "output_type": "execute_result"
    }
   ],
   "source": [
    "\n",
    "# simillary check geography and gender\n",
    "\n",
    "df[\"Geography\"].value_counts()\n"
   ]
  },
  {
   "cell_type": "code",
   "execution_count": 9,
   "metadata": {},
   "outputs": [
    {
     "data": {
      "text/plain": [
       "Male      5457\n",
       "Female    4543\n",
       "Name: Gender, dtype: int64"
      ]
     },
     "execution_count": 9,
     "metadata": {},
     "output_type": "execute_result"
    }
   ],
   "source": [
    "\n",
    "df[\"Gender\"].value_counts()\n"
   ]
  },
  {
   "cell_type": "code",
   "execution_count": 10,
   "metadata": {},
   "outputs": [
    {
     "data": {
      "text/html": [
       "<div>\n",
       "<style scoped>\n",
       "    .dataframe tbody tr th:only-of-type {\n",
       "        vertical-align: middle;\n",
       "    }\n",
       "\n",
       "    .dataframe tbody tr th {\n",
       "        vertical-align: top;\n",
       "    }\n",
       "\n",
       "    .dataframe thead th {\n",
       "        text-align: right;\n",
       "    }\n",
       "</style>\n",
       "<table border=\"1\" class=\"dataframe\">\n",
       "  <thead>\n",
       "    <tr style=\"text-align: right;\">\n",
       "      <th></th>\n",
       "      <th>CreditScore</th>\n",
       "      <th>Geography</th>\n",
       "      <th>Gender</th>\n",
       "      <th>Age</th>\n",
       "      <th>Tenure</th>\n",
       "      <th>Balance</th>\n",
       "      <th>NumOfProducts</th>\n",
       "      <th>HasCrCard</th>\n",
       "      <th>IsActiveMember</th>\n",
       "      <th>EstimatedSalary</th>\n",
       "      <th>Exited</th>\n",
       "    </tr>\n",
       "  </thead>\n",
       "  <tbody>\n",
       "    <tr>\n",
       "      <th>0</th>\n",
       "      <td>619</td>\n",
       "      <td>France</td>\n",
       "      <td>Female</td>\n",
       "      <td>42</td>\n",
       "      <td>2</td>\n",
       "      <td>0.00</td>\n",
       "      <td>1</td>\n",
       "      <td>1</td>\n",
       "      <td>1</td>\n",
       "      <td>101348.88</td>\n",
       "      <td>1</td>\n",
       "    </tr>\n",
       "    <tr>\n",
       "      <th>1</th>\n",
       "      <td>608</td>\n",
       "      <td>Spain</td>\n",
       "      <td>Female</td>\n",
       "      <td>41</td>\n",
       "      <td>1</td>\n",
       "      <td>83807.86</td>\n",
       "      <td>1</td>\n",
       "      <td>0</td>\n",
       "      <td>1</td>\n",
       "      <td>112542.58</td>\n",
       "      <td>0</td>\n",
       "    </tr>\n",
       "    <tr>\n",
       "      <th>2</th>\n",
       "      <td>502</td>\n",
       "      <td>France</td>\n",
       "      <td>Female</td>\n",
       "      <td>42</td>\n",
       "      <td>8</td>\n",
       "      <td>159660.80</td>\n",
       "      <td>3</td>\n",
       "      <td>1</td>\n",
       "      <td>0</td>\n",
       "      <td>113931.57</td>\n",
       "      <td>1</td>\n",
       "    </tr>\n",
       "    <tr>\n",
       "      <th>3</th>\n",
       "      <td>699</td>\n",
       "      <td>France</td>\n",
       "      <td>Female</td>\n",
       "      <td>39</td>\n",
       "      <td>1</td>\n",
       "      <td>0.00</td>\n",
       "      <td>2</td>\n",
       "      <td>0</td>\n",
       "      <td>0</td>\n",
       "      <td>93826.63</td>\n",
       "      <td>0</td>\n",
       "    </tr>\n",
       "    <tr>\n",
       "      <th>4</th>\n",
       "      <td>850</td>\n",
       "      <td>Spain</td>\n",
       "      <td>Female</td>\n",
       "      <td>43</td>\n",
       "      <td>2</td>\n",
       "      <td>125510.82</td>\n",
       "      <td>1</td>\n",
       "      <td>1</td>\n",
       "      <td>1</td>\n",
       "      <td>79084.10</td>\n",
       "      <td>0</td>\n",
       "    </tr>\n",
       "  </tbody>\n",
       "</table>\n",
       "</div>"
      ],
      "text/plain": [
       "   CreditScore Geography  Gender  Age  Tenure    Balance  NumOfProducts  \\\n",
       "0          619    France  Female   42       2       0.00              1   \n",
       "1          608     Spain  Female   41       1   83807.86              1   \n",
       "2          502    France  Female   42       8  159660.80              3   \n",
       "3          699    France  Female   39       1       0.00              2   \n",
       "4          850     Spain  Female   43       2  125510.82              1   \n",
       "\n",
       "   HasCrCard  IsActiveMember  EstimatedSalary  Exited  \n",
       "0          1               1        101348.88       1  \n",
       "1          0               1        112542.58       0  \n",
       "2          1               0        113931.57       1  \n",
       "3          0               0         93826.63       0  \n",
       "4          1               1         79084.10       0  "
      ]
     },
     "execution_count": 10,
     "metadata": {},
     "output_type": "execute_result"
    }
   ],
   "source": [
    "\n",
    "# আমাদের এইখানে, RowNumber, CustomerId, Surname তেমন কোন কাজের না । \n",
    "# so, drop these column:\n",
    "\n",
    "# inplace = ture ; so that the df.drop actually drop from real df. otherwise we will create another variable.\n",
    "\n",
    "df.drop(columns=[\"RowNumber\",\t\"CustomerId\",\t\"Surname\" ],inplace=True)\n",
    "\n",
    "df.head()\n"
   ]
  },
  {
   "cell_type": "code",
   "execution_count": 11,
   "metadata": {},
   "outputs": [
    {
     "data": {
      "text/html": [
       "<div>\n",
       "<style scoped>\n",
       "    .dataframe tbody tr th:only-of-type {\n",
       "        vertical-align: middle;\n",
       "    }\n",
       "\n",
       "    .dataframe tbody tr th {\n",
       "        vertical-align: top;\n",
       "    }\n",
       "\n",
       "    .dataframe thead th {\n",
       "        text-align: right;\n",
       "    }\n",
       "</style>\n",
       "<table border=\"1\" class=\"dataframe\">\n",
       "  <thead>\n",
       "    <tr style=\"text-align: right;\">\n",
       "      <th></th>\n",
       "      <th>CreditScore</th>\n",
       "      <th>Age</th>\n",
       "      <th>Tenure</th>\n",
       "      <th>Balance</th>\n",
       "      <th>NumOfProducts</th>\n",
       "      <th>HasCrCard</th>\n",
       "      <th>IsActiveMember</th>\n",
       "      <th>EstimatedSalary</th>\n",
       "      <th>Exited</th>\n",
       "      <th>Geography_Germany</th>\n",
       "      <th>Geography_Spain</th>\n",
       "      <th>Gender_Male</th>\n",
       "    </tr>\n",
       "  </thead>\n",
       "  <tbody>\n",
       "    <tr>\n",
       "      <th>0</th>\n",
       "      <td>619</td>\n",
       "      <td>42</td>\n",
       "      <td>2</td>\n",
       "      <td>0.00</td>\n",
       "      <td>1</td>\n",
       "      <td>1</td>\n",
       "      <td>1</td>\n",
       "      <td>101348.88</td>\n",
       "      <td>1</td>\n",
       "      <td>0</td>\n",
       "      <td>0</td>\n",
       "      <td>0</td>\n",
       "    </tr>\n",
       "    <tr>\n",
       "      <th>1</th>\n",
       "      <td>608</td>\n",
       "      <td>41</td>\n",
       "      <td>1</td>\n",
       "      <td>83807.86</td>\n",
       "      <td>1</td>\n",
       "      <td>0</td>\n",
       "      <td>1</td>\n",
       "      <td>112542.58</td>\n",
       "      <td>0</td>\n",
       "      <td>0</td>\n",
       "      <td>1</td>\n",
       "      <td>0</td>\n",
       "    </tr>\n",
       "    <tr>\n",
       "      <th>2</th>\n",
       "      <td>502</td>\n",
       "      <td>42</td>\n",
       "      <td>8</td>\n",
       "      <td>159660.80</td>\n",
       "      <td>3</td>\n",
       "      <td>1</td>\n",
       "      <td>0</td>\n",
       "      <td>113931.57</td>\n",
       "      <td>1</td>\n",
       "      <td>0</td>\n",
       "      <td>0</td>\n",
       "      <td>0</td>\n",
       "    </tr>\n",
       "    <tr>\n",
       "      <th>3</th>\n",
       "      <td>699</td>\n",
       "      <td>39</td>\n",
       "      <td>1</td>\n",
       "      <td>0.00</td>\n",
       "      <td>2</td>\n",
       "      <td>0</td>\n",
       "      <td>0</td>\n",
       "      <td>93826.63</td>\n",
       "      <td>0</td>\n",
       "      <td>0</td>\n",
       "      <td>0</td>\n",
       "      <td>0</td>\n",
       "    </tr>\n",
       "    <tr>\n",
       "      <th>4</th>\n",
       "      <td>850</td>\n",
       "      <td>43</td>\n",
       "      <td>2</td>\n",
       "      <td>125510.82</td>\n",
       "      <td>1</td>\n",
       "      <td>1</td>\n",
       "      <td>1</td>\n",
       "      <td>79084.10</td>\n",
       "      <td>0</td>\n",
       "      <td>0</td>\n",
       "      <td>1</td>\n",
       "      <td>0</td>\n",
       "    </tr>\n",
       "    <tr>\n",
       "      <th>...</th>\n",
       "      <td>...</td>\n",
       "      <td>...</td>\n",
       "      <td>...</td>\n",
       "      <td>...</td>\n",
       "      <td>...</td>\n",
       "      <td>...</td>\n",
       "      <td>...</td>\n",
       "      <td>...</td>\n",
       "      <td>...</td>\n",
       "      <td>...</td>\n",
       "      <td>...</td>\n",
       "      <td>...</td>\n",
       "    </tr>\n",
       "    <tr>\n",
       "      <th>9995</th>\n",
       "      <td>771</td>\n",
       "      <td>39</td>\n",
       "      <td>5</td>\n",
       "      <td>0.00</td>\n",
       "      <td>2</td>\n",
       "      <td>1</td>\n",
       "      <td>0</td>\n",
       "      <td>96270.64</td>\n",
       "      <td>0</td>\n",
       "      <td>0</td>\n",
       "      <td>0</td>\n",
       "      <td>1</td>\n",
       "    </tr>\n",
       "    <tr>\n",
       "      <th>9996</th>\n",
       "      <td>516</td>\n",
       "      <td>35</td>\n",
       "      <td>10</td>\n",
       "      <td>57369.61</td>\n",
       "      <td>1</td>\n",
       "      <td>1</td>\n",
       "      <td>1</td>\n",
       "      <td>101699.77</td>\n",
       "      <td>0</td>\n",
       "      <td>0</td>\n",
       "      <td>0</td>\n",
       "      <td>1</td>\n",
       "    </tr>\n",
       "    <tr>\n",
       "      <th>9997</th>\n",
       "      <td>709</td>\n",
       "      <td>36</td>\n",
       "      <td>7</td>\n",
       "      <td>0.00</td>\n",
       "      <td>1</td>\n",
       "      <td>0</td>\n",
       "      <td>1</td>\n",
       "      <td>42085.58</td>\n",
       "      <td>1</td>\n",
       "      <td>0</td>\n",
       "      <td>0</td>\n",
       "      <td>0</td>\n",
       "    </tr>\n",
       "    <tr>\n",
       "      <th>9998</th>\n",
       "      <td>772</td>\n",
       "      <td>42</td>\n",
       "      <td>3</td>\n",
       "      <td>75075.31</td>\n",
       "      <td>2</td>\n",
       "      <td>1</td>\n",
       "      <td>0</td>\n",
       "      <td>92888.52</td>\n",
       "      <td>1</td>\n",
       "      <td>1</td>\n",
       "      <td>0</td>\n",
       "      <td>1</td>\n",
       "    </tr>\n",
       "    <tr>\n",
       "      <th>9999</th>\n",
       "      <td>792</td>\n",
       "      <td>28</td>\n",
       "      <td>4</td>\n",
       "      <td>130142.79</td>\n",
       "      <td>1</td>\n",
       "      <td>1</td>\n",
       "      <td>0</td>\n",
       "      <td>38190.78</td>\n",
       "      <td>0</td>\n",
       "      <td>0</td>\n",
       "      <td>0</td>\n",
       "      <td>0</td>\n",
       "    </tr>\n",
       "  </tbody>\n",
       "</table>\n",
       "<p>10000 rows × 12 columns</p>\n",
       "</div>"
      ],
      "text/plain": [
       "      CreditScore  Age  Tenure    Balance  NumOfProducts  HasCrCard  \\\n",
       "0             619   42       2       0.00              1          1   \n",
       "1             608   41       1   83807.86              1          0   \n",
       "2             502   42       8  159660.80              3          1   \n",
       "3             699   39       1       0.00              2          0   \n",
       "4             850   43       2  125510.82              1          1   \n",
       "...           ...  ...     ...        ...            ...        ...   \n",
       "9995          771   39       5       0.00              2          1   \n",
       "9996          516   35      10   57369.61              1          1   \n",
       "9997          709   36       7       0.00              1          0   \n",
       "9998          772   42       3   75075.31              2          1   \n",
       "9999          792   28       4  130142.79              1          1   \n",
       "\n",
       "      IsActiveMember  EstimatedSalary  Exited  Geography_Germany  \\\n",
       "0                  1        101348.88       1                  0   \n",
       "1                  1        112542.58       0                  0   \n",
       "2                  0        113931.57       1                  0   \n",
       "3                  0         93826.63       0                  0   \n",
       "4                  1         79084.10       0                  0   \n",
       "...              ...              ...     ...                ...   \n",
       "9995               0         96270.64       0                  0   \n",
       "9996               1        101699.77       0                  0   \n",
       "9997               1         42085.58       1                  0   \n",
       "9998               0         92888.52       1                  1   \n",
       "9999               0         38190.78       0                  0   \n",
       "\n",
       "      Geography_Spain  Gender_Male  \n",
       "0                   0            0  \n",
       "1                   1            0  \n",
       "2                   0            0  \n",
       "3                   0            0  \n",
       "4                   1            0  \n",
       "...               ...          ...  \n",
       "9995                0            1  \n",
       "9996                0            1  \n",
       "9997                0            0  \n",
       "9998                0            1  \n",
       "9999                0            0  \n",
       "\n",
       "[10000 rows x 12 columns]"
      ]
     },
     "execution_count": 11,
     "metadata": {},
     "output_type": "execute_result"
    }
   ],
   "source": [
    "\n",
    "# manage categorical data: \n",
    "\n",
    "\n",
    "# drop_first=True convert one_hot_encoding_scheme to dummy_coding_scheme\n",
    "\n",
    "df = pd.get_dummies(df,columns=[\"Geography\"\t,\"Gender\"],drop_first=True)\n",
    "\n",
    "df"
   ]
  },
  {
   "cell_type": "code",
   "execution_count": 12,
   "metadata": {},
   "outputs": [],
   "source": [
    "\n",
    "# doing train test split \n",
    "\n",
    "X = df.drop(columns=[\"Exited\"])\n",
    "y = df[\"Exited\"]\n",
    "\n",
    "\n",
    "from sklearn.model_selection import train_test_split\n",
    "\n",
    "X_train, X_test, y_train, y_test = train_test_split(X,y,test_size=0.2,random_state=1)\n",
    "\n",
    "\n"
   ]
  },
  {
   "cell_type": "code",
   "execution_count": 13,
   "metadata": {},
   "outputs": [],
   "source": [
    "\n",
    "# do feature scaling \n",
    "\n",
    "from sklearn.preprocessing import StandardScaler\n",
    "\n",
    "sc = StandardScaler()\n",
    "sc.fit(X_train)\n",
    "\n",
    "X_train_sc = sc.transform(X_train)\n",
    "X_test_sc = sc.transform(X_test)\n",
    "\n"
   ]
  },
  {
   "cell_type": "code",
   "execution_count": 14,
   "metadata": {},
   "outputs": [
    {
     "data": {
      "text/plain": [
       "array([[-0.23082038, -0.94449979, -0.70174202, ...,  1.71490137,\n",
       "        -0.57273139,  0.91509065],\n",
       "       [-0.25150912, -0.94449979, -0.35520275, ..., -0.58312392,\n",
       "        -0.57273139, -1.09278791],\n",
       "       [-0.3963303 ,  0.77498705,  0.33787579, ...,  1.71490137,\n",
       "        -0.57273139, -1.09278791],\n",
       "       ...,\n",
       "       [ 0.22433188,  0.58393295,  1.3774936 , ..., -0.58312392,\n",
       "        -0.57273139, -1.09278791],\n",
       "       [ 0.13123255,  0.01077067,  1.03095433, ..., -0.58312392,\n",
       "        -0.57273139, -1.09278791],\n",
       "       [ 1.1656695 ,  0.29735181,  0.33787579, ...,  1.71490137,\n",
       "        -0.57273139,  0.91509065]])"
      ]
     },
     "execution_count": 14,
     "metadata": {},
     "output_type": "execute_result"
    }
   ],
   "source": [
    "X_train_sc"
   ]
  },
  {
   "cell_type": "markdown",
   "metadata": {},
   "source": [
    "<br>\n",
    "\n",
    "---\n",
    "\n",
    "### keras এ আমরা দুই ধরনের model create করতে পারি । \n",
    "- i) sequential \n",
    "- ii) non sequential \n",
    "**Beginner হিসেবে আমরা sequential model নিয়ে কাজ করবো**\n",
    "\n",
    "### model create করার পর আমরা সেই model এ layer add করবো । \n",
    "\n",
    "`আমরা এখন একটা input layer, একটা hidden layer and finally একটা output layer বানাবো । আর hidden layer এ আমরা তিনটা perceptron রাখবো । layer create করার জন্য আমরা keras.layers থেকে Dense ব্যবহার করি । `\n",
    "\n",
    "---\n",
    "\n",
    "<br>"
   ]
  },
  {
   "cell_type": "code",
   "execution_count": 15,
   "metadata": {},
   "outputs": [
    {
     "name": "stderr",
     "output_type": "stream",
     "text": [
      "2024-04-06 13:38:21.789304: I tensorflow/core/common_runtime/process_util.cc:146] Creating new thread pool with default inter op setting: 2. Tune using inter_op_parallelism_threads for best performance.\n"
     ]
    }
   ],
   "source": [
    "from keras import Sequential\n",
    "from keras.layers import Dense\n",
    "\n",
    "model = Sequential()\n",
    "\n",
    "# let's create a hidder layer first with the number of input dimentation\n",
    "# এখানে এই hidden layer টা input এর সাথে connected থাকবে তাই একে বলে দিতে হবে input এর dimention কত হবে । \n",
    "model.add(Dense(11,activation=\"relu\",input_dim = 11))\n",
    "model.add(Dense(11,activation=\"relu\"))\n",
    "# now let's create output layer\n",
    "model.add(Dense(1,activation='sigmoid'))\n",
    "\n"
   ]
  },
  {
   "cell_type": "markdown",
   "metadata": {},
   "source": [
    "\n",
    "<br>\n",
    "\n",
    "---\n",
    "\n",
    "## model এর summary দেখতে পারি আমরা । model.summary() দিয়ে । \n",
    "\n",
    "---\n",
    "\n",
    "<br>"
   ]
  },
  {
   "attachments": {
    "image.png": {
     "image/png": "[encoded data removed]"
    }
   },
   "cell_type": "markdown",
   "metadata": {},
   "source": [
    "\n",
    "### visualization of model \n",
    "\n",
    "![image.png](attachment:image.png)\n"
   ]
  },
  {
   "cell_type": "code",
   "execution_count": 16,
   "metadata": {},
   "outputs": [
    {
     "name": "stdout",
     "output_type": "stream",
     "text": [
      "Model: \"sequential\"\n",
      "_________________________________________________________________\n",
      " Layer (type)                Output Shape              Param #   \n",
      "=================================================================\n",
      " dense (Dense)               (None, 11)                132       \n",
      "                                                                 \n",
      " dense_1 (Dense)             (None, 11)                132       \n",
      "                                                                 \n",
      " dense_2 (Dense)             (None, 1)                 12        \n",
      "                                                                 \n",
      "=================================================================\n",
      "Total params: 276\n",
      "Trainable params: 276\n",
      "Non-trainable params: 0\n",
      "_________________________________________________________________\n"
     ]
    }
   ],
   "source": [
    "model.summary()"
   ]
  },
  {
   "cell_type": "markdown",
   "metadata": {},
   "source": [
    "<br>\n",
    "\n",
    "`উপরের কাজ গুলো করার পর আমাদের model কে compile করতে হবে । Compilation এ আমরা কোন loss function use করবো । কোন optimizer use করবো gradient descent  এর জন্য তা আমরা বলে দিব। `\n",
    "\n",
    "- এইখানে আমাদের প্রবলেম হচ্ছে binary classification এর তাই আমরা এইখানে `loss function হিসেবে **binary_crossentropy** or **log loss**`\n",
    "<br>"
   ]
  },
  {
   "cell_type": "code",
   "execution_count": 17,
   "metadata": {},
   "outputs": [],
   "source": [
    "\n",
    "# metrics=[\"accuracy\"] add করেছি loss এর সাথে accuracy ও দেখার জন্য । \n",
    "\n",
    "model.compile(loss=\"binary_crossentropy\",optimizer=\"Adam\",metrics=[\"accuracy\"])\n"
   ]
  },
  {
   "cell_type": "code",
   "execution_count": 18,
   "metadata": {},
   "outputs": [
    {
     "name": "stdout",
     "output_type": "stream",
     "text": [
      "Epoch 1/20\n"
     ]
    },
    {
     "name": "stdout",
     "output_type": "stream",
     "text": [
      "200/200 [==============================] - 4s 13ms/step - loss: 0.6803 - accuracy: 0.5975 - val_loss: 0.5168 - val_accuracy: 0.7975\n",
      "Epoch 2/20\n",
      "200/200 [==============================] - 2s 12ms/step - loss: 0.4781 - accuracy: 0.7981 - val_loss: 0.4600 - val_accuracy: 0.8000\n",
      "Epoch 3/20\n",
      "200/200 [==============================] - 2s 11ms/step - loss: 0.4434 - accuracy: 0.8058 - val_loss: 0.4374 - val_accuracy: 0.8062\n",
      "Epoch 4/20\n",
      "200/200 [==============================] - 2s 12ms/step - loss: 0.4238 - accuracy: 0.8108 - val_loss: 0.4198 - val_accuracy: 0.8188\n",
      "Epoch 5/20\n",
      "200/200 [==============================] - 2s 11ms/step - loss: 0.4057 - accuracy: 0.8172 - val_loss: 0.4022 - val_accuracy: 0.8244\n",
      "Epoch 6/20\n",
      "200/200 [==============================] - 2s 10ms/step - loss: 0.3875 - accuracy: 0.8325 - val_loss: 0.3861 - val_accuracy: 0.8338\n",
      "Epoch 7/20\n",
      "200/200 [==============================] - 3s 16ms/step - loss: 0.3741 - accuracy: 0.8452 - val_loss: 0.3725 - val_accuracy: 0.8475\n",
      "Epoch 8/20\n",
      "200/200 [==============================] - 3s 13ms/step - loss: 0.3643 - accuracy: 0.8483 - val_loss: 0.3652 - val_accuracy: 0.8525\n",
      "Epoch 9/20\n",
      "200/200 [==============================] - 3s 13ms/step - loss: 0.3580 - accuracy: 0.8522 - val_loss: 0.3603 - val_accuracy: 0.8519\n",
      "Epoch 10/20\n",
      "200/200 [==============================] - 3s 16ms/step - loss: 0.3539 - accuracy: 0.8562 - val_loss: 0.3572 - val_accuracy: 0.8506\n",
      "Epoch 11/20\n",
      "200/200 [==============================] - 3s 16ms/step - loss: 0.3507 - accuracy: 0.8589 - val_loss: 0.3555 - val_accuracy: 0.8512\n",
      "Epoch 12/20\n",
      "200/200 [==============================] - 2s 11ms/step - loss: 0.3489 - accuracy: 0.8569 - val_loss: 0.3575 - val_accuracy: 0.8537\n",
      "Epoch 13/20\n",
      "200/200 [==============================] - 3s 14ms/step - loss: 0.3467 - accuracy: 0.8597 - val_loss: 0.3539 - val_accuracy: 0.8500\n",
      "Epoch 14/20\n",
      "200/200 [==============================] - 2s 9ms/step - loss: 0.3448 - accuracy: 0.8597 - val_loss: 0.3551 - val_accuracy: 0.8537\n",
      "Epoch 15/20\n",
      "200/200 [==============================] - 2s 11ms/step - loss: 0.3439 - accuracy: 0.8612 - val_loss: 0.3518 - val_accuracy: 0.8519\n",
      "Epoch 16/20\n",
      "200/200 [==============================] - 3s 13ms/step - loss: 0.3428 - accuracy: 0.8622 - val_loss: 0.3507 - val_accuracy: 0.8531\n",
      "Epoch 17/20\n",
      "200/200 [==============================] - 2s 10ms/step - loss: 0.3420 - accuracy: 0.8614 - val_loss: 0.3495 - val_accuracy: 0.8544\n",
      "Epoch 18/20\n",
      "200/200 [==============================] - 2s 11ms/step - loss: 0.3408 - accuracy: 0.8600 - val_loss: 0.3495 - val_accuracy: 0.8544\n",
      "Epoch 19/20\n",
      "200/200 [==============================] - 2s 12ms/step - loss: 0.3396 - accuracy: 0.8620 - val_loss: 0.3481 - val_accuracy: 0.8531\n",
      "Epoch 20/20\n",
      "200/200 [==============================] - 2s 12ms/step - loss: 0.3385 - accuracy: 0.8614 - val_loss: 0.3499 - val_accuracy: 0.8544\n"
     ]
    }
   ],
   "source": [
    "\n",
    "# ধরি, আম্যাদের কাছে 8k dataset আছে । এর মধ্যে আমরা (8k = 20%) এই dataset এর উপর আমাদের মডেল run করবে । \n",
    "# এই 20 dataset দিয়ে এরা নিজেরা test করে আমাদের accuracy ও provide করবে । \n",
    "\n",
    "# output এ আমরা tarining loss and accuracy and validation portion loss and accuracy দেখতে পারবো । \n",
    "# এখন, যদি আমাদের training loss and accuracy যথাক্রমে কম ও বাড়তে থাকে কিন্তু validation portion এর loss and accuracy \n",
    "# এর ক্ষেত্রে তেমন কোন change  হয় না তাহলে আমাদের বুঝতে হবে আমাদের overfitting problem আছে । \n",
    "\n",
    "history = model.fit(X_train_sc,y_train,epochs=20,validation_split=0.2)\n"
   ]
  },
  {
   "cell_type": "markdown",
   "metadata": {},
   "source": [
    "---\n",
    "\n",
    "<br>\n",
    "\n",
    "###  এখন, আমরা যেই weight and bias এর ভ্যালু গুলো পেলাম model train করার পর সেই গুলো দেখবো। \n",
    "\n",
    "- প্রথম layer এ আমাদের ৩৬ টা parameter ছিল । আর এর মধ্যে ৩ টা ছিল bias । \n",
    "\n",
    "- output layer এ আমাদের ৪ টা parameter ছিল । এর মধ্যে ১ টা bias ছিল । \n",
    "\n",
    "<br>\n",
    "\n",
    "---"
   ]
  },
  {
   "cell_type": "code",
   "execution_count": 19,
   "metadata": {},
   "outputs": [
    {
     "data": {
      "text/plain": [
       "[array([[-0.2036861 ,  0.03936031,  0.27941984, -0.05394261, -0.18374011,\n",
       "          0.33076915,  0.01591547,  0.1009002 ,  0.12449894, -0.01399401,\n",
       "          0.08863023],\n",
       "        [ 0.27824232,  0.1824073 , -0.4423651 ,  0.37511212,  0.02965022,\n",
       "          0.55703557, -0.86337095,  0.05887201, -0.71792626, -0.06673579,\n",
       "         -0.26175073],\n",
       "        [-0.06559636,  0.15568046,  0.44646236,  0.00474154, -0.2459595 ,\n",
       "          0.28675777,  0.05414426,  0.09285074, -0.1747346 ,  0.03551431,\n",
       "         -0.17699772],\n",
       "        [-0.1161427 ,  0.03118698, -0.5019273 , -0.06036985,  0.05532486,\n",
       "         -0.3122067 , -0.01919299,  0.20693891,  0.2927776 ,  0.1466779 ,\n",
       "         -0.7281792 ],\n",
       "        [-0.21199884,  0.13721828,  0.14393193,  1.3112962 , -0.20991479,\n",
       "         -0.3759116 ,  0.04563754,  0.7791669 ,  0.03218485,  0.8616968 ,\n",
       "         -0.04469875],\n",
       "        [-0.26795968,  0.4070115 , -0.26490924,  0.08905703,  0.10499768,\n",
       "         -0.6700088 ,  0.2162395 ,  0.17595382, -0.35239977, -0.13000834,\n",
       "          0.2856836 ],\n",
       "        [ 0.7670185 ,  0.52027977,  0.42534354, -0.05179503, -0.5110274 ,\n",
       "         -0.12826881, -0.5632968 , -0.13595216, -0.12900831,  0.20817226,\n",
       "         -0.07671472],\n",
       "        [ 0.0042603 ,  0.0035659 , -0.04717561,  0.08421247, -0.25678593,\n",
       "          0.12454614, -0.10232383, -0.22007953,  0.05649245, -0.1754413 ,\n",
       "         -0.05128412],\n",
       "        [-0.01756593, -0.11671614, -0.19767661, -0.11310404,  0.32755384,\n",
       "         -0.14784683,  0.04761828, -0.31748495, -0.17799771, -0.29398948,\n",
       "         -0.7519219 ],\n",
       "        [ 0.24384846,  0.16905122,  0.19404465,  0.29813525, -0.1350295 ,\n",
       "          0.13321668,  0.06331415,  0.10349892, -0.09295242, -0.60818994,\n",
       "         -0.21495901],\n",
       "        [ 0.19503766,  0.17257454, -0.3884668 ,  0.06768805,  0.46393442,\n",
       "         -0.06825724,  0.0826498 ,  0.03766026,  0.22540924,  0.17580603,\n",
       "          0.26038006]], dtype=float32),\n",
       " array([ 0.20985204,  0.28021604,  0.07749257, -0.07415315,  0.4895031 ,\n",
       "         0.4196129 ,  0.7550226 ,  0.08351892,  0.47767788,  0.6817072 ,\n",
       "         0.53838855], dtype=float32)]"
      ]
     },
     "execution_count": 19,
     "metadata": {},
     "output_type": "execute_result"
    }
   ],
   "source": [
    "\n",
    "# we get two array one is for weights and another is for bias:\n",
    "\n",
    "model.layers[0].get_weights()\n"
   ]
  },
  {
   "cell_type": "code",
   "execution_count": 20,
   "metadata": {},
   "outputs": [
    {
     "data": {
      "text/plain": [
       "[array([[ 0.02620233,  0.4061471 ,  0.19163568,  0.24247837, -0.8110078 ,\n",
       "          0.29723367,  0.39525628, -0.243158  , -0.50405437,  0.44715735,\n",
       "         -0.59925526],\n",
       "        [ 0.05698433,  0.5646123 ,  0.3929246 , -0.34850168, -0.1161449 ,\n",
       "          0.5683683 , -0.34348616, -0.08885108, -0.10518233,  0.72963595,\n",
       "         -0.34604603],\n",
       "        [ 0.14603879,  0.3973725 , -0.07280312, -0.10745664,  0.14400364,\n",
       "         -0.0210198 ,  0.12520473, -0.31788906,  0.02705621,  0.6689538 ,\n",
       "          0.33457494],\n",
       "        [-0.7737302 ,  0.45906   , -0.9259596 ,  0.66430163,  0.6321042 ,\n",
       "         -0.13699241, -0.69750595,  0.03537459,  0.7351174 ,  0.4027499 ,\n",
       "         -0.5486901 ],\n",
       "        [-0.20000333, -0.26885018, -0.40316015, -0.28253898, -0.18729934,\n",
       "         -0.08479375,  0.31320933,  0.420651  , -0.1886146 ,  0.31380427,\n",
       "          0.01603614],\n",
       "        [-0.01911914,  0.34058294, -0.58291245, -0.48299295, -0.18409908,\n",
       "         -0.22893834,  0.16553316,  0.13585888, -0.06848931,  0.18782571,\n",
       "          0.5158116 ],\n",
       "        [-0.15637225,  0.8667382 , -0.09510323, -0.41798934, -0.12048247,\n",
       "          0.06525196, -0.47887295, -0.31223774, -0.5196808 ,  0.17139027,\n",
       "          0.1140106 ],\n",
       "        [ 0.1643949 ,  0.13371876, -0.4169935 ,  0.43378404, -0.18317904,\n",
       "          0.23658608,  0.42442062,  0.24747445,  0.56178   ,  0.06306732,\n",
       "         -0.36101002],\n",
       "        [-0.5164522 ,  0.7270968 ,  0.19624181,  0.04552154, -0.43035027,\n",
       "          0.33177486, -0.57502186, -0.18598863,  0.23983163, -0.22845374,\n",
       "         -0.48463568],\n",
       "        [-0.2079966 ,  0.40736246,  0.16905788,  0.15065575,  0.5257268 ,\n",
       "          0.4208838 ,  0.01143634, -0.44177064,  0.33327413,  0.57421005,\n",
       "         -0.6949995 ],\n",
       "        [ 0.4717825 ,  0.17119116, -0.6722665 , -0.26825008, -0.35220444,\n",
       "          0.49166703,  0.28216207, -0.22652406, -0.4044309 ,  0.22340587,\n",
       "          0.30001563]], dtype=float32),\n",
       " array([ 0.21134809,  0.30537975, -0.08602177, -0.27859294, -0.40375823,\n",
       "         0.36201927,  0.25185123,  0.29223067, -0.28505358,  0.20869063,\n",
       "         0.09272698], dtype=float32)]"
      ]
     },
     "execution_count": 20,
     "metadata": {},
     "output_type": "execute_result"
    }
   ],
   "source": [
    "model.layers[1].get_weights()"
   ]
  },
  {
   "cell_type": "code",
   "execution_count": 21,
   "metadata": {},
   "outputs": [
    {
     "name": "stdout",
     "output_type": "stream",
     "text": [
      "63/63 [==============================] - 1s 6ms/step\n"
     ]
    },
    {
     "data": {
      "text/plain": [
       "array([[0.02151891],\n",
       "       [0.07722035],\n",
       "       [0.05601417],\n",
       "       ...,\n",
       "       [0.00803686],\n",
       "       [0.11547936],\n",
       "       [0.24741326]], dtype=float32)"
      ]
     },
     "execution_count": 21,
     "metadata": {},
     "output_type": "execute_result"
    }
   ],
   "source": [
    "# now show the output: \n",
    "\n",
    "model.predict(X_test_sc)"
   ]
  },
  {
   "cell_type": "markdown",
   "metadata": {},
   "source": [
    "<br>\n",
    "\n",
    "---\n",
    "\n",
    "- আমরা যা predict করেছি তার ভ্যালু গুলো (0~1) এর মধ্যে থাকবে । কারণ, আমরা activation function হিসেবে **sigmoid function**  ব্যবহার করেছি ।\n",
    "\n",
    "- আমরা একটা theshold ব্যবহার করবো । যেমনঃ এই ক্ষেত্রে আমরা 0.5 ব্যবহার করতে পারি । 0.5 এর উপরে পেলে 1 আর এর নিচে পেলে 0 \n",
    "---\n",
    "\n",
    "<br>"
   ]
  },
  {
   "cell_type": "code",
   "execution_count": 22,
   "metadata": {},
   "outputs": [
    {
     "name": "stdout",
     "output_type": "stream",
     "text": [
      "21/63 [=========>....................] - ETA: 0s"
     ]
    },
    {
     "name": "stdout",
     "output_type": "stream",
     "text": [
      "63/63 [==============================] - 0s 6ms/step\n"
     ]
    }
   ],
   "source": [
    "\n",
    "y_log = model.predict(X_test_sc)\n"
   ]
  },
  {
   "cell_type": "code",
   "execution_count": 23,
   "metadata": {},
   "outputs": [],
   "source": [
    "y_pred = np.where(y_log>0.5,1,0)"
   ]
  },
  {
   "cell_type": "code",
   "execution_count": 24,
   "metadata": {},
   "outputs": [
    {
     "data": {
      "text/plain": [
       "0.8575"
      ]
     },
     "execution_count": 24,
     "metadata": {},
     "output_type": "execute_result"
    }
   ],
   "source": [
    "from sklearn.metrics import accuracy_score\n",
    "\n",
    "score = accuracy_score(y_test,y_pred)\n",
    "\n",
    "score"
   ]
  },
  {
   "cell_type": "markdown",
   "metadata": {},
   "source": [
    "---\n",
    "\n",
    "# আমরা accuracy পেয়েছিঃ 79% \n",
    "## এখন অ্যামরা এই accuracy কে বাড়াতে পারিঃ \n",
    "- number of epochs বাড়াতে পারি, normally 100,1000 রাখা হয় । \n",
    "- activation function relu ব্যবহার করলে accuracy বাড়তে পারে । \n",
    "- Hidder layer এ number of node বাড়ানোর মাধ্যমে । \n",
    "- Number of hidden layer বাড়াতে পারি ।  \n",
    "\n",
    "---"
   ]
  },
  {
   "cell_type": "markdown",
   "metadata": {},
   "source": [
    "<br> <br>\n",
    "\n",
    "আমরা আমাদের model fit করার সময় তার সকল  information গুলো history নামে  একটা dictionary তে save  করে রেখেছিলাম এখন আমরা সেই dictionary  থেকে এখন আমরা যেকোন stage এর গ্রাফ একে analysis করতে পারি । \n",
    "\n",
    "<br> <br>"
   ]
  },
  {
   "cell_type": "code",
   "execution_count": 25,
   "metadata": {},
   "outputs": [],
   "source": [
    "import matplotlib.pyplot as plt\n"
   ]
  },
  {
   "cell_type": "code",
   "execution_count": 26,
   "metadata": {},
   "outputs": [
    {
     "data": {
      "text/plain": [
       "{'loss': [0.6803125739097595,\n",
       "  0.47808343172073364,\n",
       "  0.4434231221675873,\n",
       "  0.42383354902267456,\n",
       "  0.40569934248924255,\n",
       "  0.3875312805175781,\n",
       "  0.3740704357624054,\n",
       "  0.3642667531967163,\n",
       "  0.3580312430858612,\n",
       "  0.3538600206375122,\n",
       "  0.3506506085395813,\n",
       "  0.3488548994064331,\n",
       "  0.3466634750366211,\n",
       "  0.3448167145252228,\n",
       "  0.3439325988292694,\n",
       "  0.34284424781799316,\n",
       "  0.34203723073005676,\n",
       "  0.34084373712539673,\n",
       "  0.33962002396583557,\n",
       "  0.33853602409362793],\n",
       " 'accuracy': [0.5975000262260437,\n",
       "  0.7981250286102295,\n",
       "  0.8057812452316284,\n",
       "  0.8107812404632568,\n",
       "  0.817187488079071,\n",
       "  0.8324999809265137,\n",
       "  0.8451562523841858,\n",
       "  0.8482812643051147,\n",
       "  0.8521875143051147,\n",
       "  0.856249988079071,\n",
       "  0.8589062690734863,\n",
       "  0.8568750023841858,\n",
       "  0.8596875071525574,\n",
       "  0.8596875071525574,\n",
       "  0.8612499833106995,\n",
       "  0.8621875047683716,\n",
       "  0.8614062666893005,\n",
       "  0.8600000143051147,\n",
       "  0.8620312213897705,\n",
       "  0.8614062666893005],\n",
       " 'val_loss': [0.51677405834198,\n",
       "  0.4600471556186676,\n",
       "  0.4374127984046936,\n",
       "  0.41984453797340393,\n",
       "  0.4022170603275299,\n",
       "  0.38612788915634155,\n",
       "  0.3725357949733734,\n",
       "  0.36524757742881775,\n",
       "  0.36026138067245483,\n",
       "  0.35720643401145935,\n",
       "  0.3555152118206024,\n",
       "  0.3574742078781128,\n",
       "  0.3538816571235657,\n",
       "  0.35509011149406433,\n",
       "  0.3518427908420563,\n",
       "  0.35066795349121094,\n",
       "  0.3494741916656494,\n",
       "  0.34951314330101013,\n",
       "  0.34805598855018616,\n",
       "  0.3498585820198059],\n",
       " 'val_accuracy': [0.7975000143051147,\n",
       "  0.800000011920929,\n",
       "  0.8062499761581421,\n",
       "  0.8187500238418579,\n",
       "  0.8243749737739563,\n",
       "  0.8337500095367432,\n",
       "  0.8475000262260437,\n",
       "  0.8525000214576721,\n",
       "  0.8518750071525574,\n",
       "  0.8506249785423279,\n",
       "  0.8512499928474426,\n",
       "  0.8537499904632568,\n",
       "  0.8500000238418579,\n",
       "  0.8537499904632568,\n",
       "  0.8518750071525574,\n",
       "  0.8531249761581421,\n",
       "  0.8543750047683716,\n",
       "  0.8543750047683716,\n",
       "  0.8531249761581421,\n",
       "  0.8543750047683716]}"
      ]
     },
     "execution_count": 26,
     "metadata": {},
     "output_type": "execute_result"
    }
   ],
   "source": [
    "\n",
    "history.history"
   ]
  },
  {
   "cell_type": "code",
   "execution_count": 27,
   "metadata": {},
   "outputs": [
    {
     "data": {
      "text/plain": [
       "[<matplotlib.lines.Line2D at 0x7d0c80d05590>]"
      ]
     },
     "execution_count": 27,
     "metadata": {},
     "output_type": "execute_result"
    },
    {
     "data": {
      "image/png": "[encoded data removed]",
      "text/plain": [
       "<Figure size 640x480 with 1 Axes>"
      ]
     },
     "metadata": {},
     "output_type": "display_data"
    }
   ],
   "source": [
    "\n",
    "\n",
    "plt.plot(history.history[\"loss\"])\n",
    "plt.plot(history.history[\"val_loss\"],c='r')\n",
    "\n",
    "#  আমাদের overfitting অনেক কম সেইটা এই গ্রাফ থেকে আমরা দেখতে পারি । \n"
   ]
  },
  {
   "cell_type": "code",
   "execution_count": 28,
   "metadata": {},
   "outputs": [
    {
     "data": {
      "text/plain": [
       "[<matplotlib.lines.Line2D at 0x7d0c80d9c750>]"
      ]
     },
     "execution_count": 28,
     "metadata": {},
     "output_type": "execute_result"
    },
    {
     "data": {
      "image/png": "[encoded data removed]",
      "text/plain": [
       "<Figure size 640x480 with 1 Axes>"
      ]
     },
     "metadata": {},
     "output_type": "display_data"
    }
   ],
   "source": [
    "\n",
    "plt.plot(history.history[\"accuracy\"],c='y')\n",
    "plt.plot(history.history[\"val_accuracy\"],c='r')\n",
    "\n",
    "#  আমাদের overfitting অনেক কম সেইটা এই গ্রাফ থেকে আমরা দেখতে পারি । "
   ]
  }
 ],
 "metadata": {
  "kernelspec": {
   "display_name": "Python 3",
   "language": "python",
   "name": "python3"
  },
  "language_info": {
   "codemirror_mode": {
    "name": "ipython",
    "version": 3
   },
   "file_extension": ".py",
   "mimetype": "text/x-python",
   "name": "python",
   "nbconvert_exporter": "python",
   "pygments_lexer": "ipython3",
   "version": "3.11.8"
  }
 },
 "nbformat": 4,
 "nbformat_minor": 2
}
