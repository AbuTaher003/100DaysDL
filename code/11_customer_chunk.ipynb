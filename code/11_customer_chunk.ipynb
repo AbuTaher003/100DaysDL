{
 "cells": [
  {
   "cell_type": "code",
   "execution_count": 98,
   "metadata": {},
   "outputs": [],
   "source": [
    "import numpy as np \n",
    "import pandas as pd \n",
    "\n",
    "import tensorflow as tf \n",
    "import keras \n"
   ]
  },
  {
   "cell_type": "code",
   "execution_count": 99,
   "metadata": {},
   "outputs": [
    {
     "data": {
      "text/html": [
       "<div>\n",
       "<style scoped>\n",
       "    .dataframe tbody tr th:only-of-type {\n",
       "        vertical-align: middle;\n",
       "    }\n",
       "\n",
       "    .dataframe tbody tr th {\n",
       "        vertical-align: top;\n",
       "    }\n",
       "\n",
       "    .dataframe thead th {\n",
       "        text-align: right;\n",
       "    }\n",
       "</style>\n",
       "<table border=\"1\" class=\"dataframe\">\n",
       "  <thead>\n",
       "    <tr style=\"text-align: right;\">\n",
       "      <th></th>\n",
       "      <th>RowNumber</th>\n",
       "      <th>CustomerId</th>\n",
       "      <th>Surname</th>\n",
       "      <th>CreditScore</th>\n",
       "      <th>Geography</th>\n",
       "      <th>Gender</th>\n",
       "      <th>Age</th>\n",
       "      <th>Tenure</th>\n",
       "      <th>Balance</th>\n",
       "      <th>NumOfProducts</th>\n",
       "      <th>HasCrCard</th>\n",
       "      <th>IsActiveMember</th>\n",
       "      <th>EstimatedSalary</th>\n",
       "      <th>Exited</th>\n",
       "    </tr>\n",
       "  </thead>\n",
       "  <tbody>\n",
       "    <tr>\n",
       "      <th>0</th>\n",
       "      <td>1</td>\n",
       "      <td>15634602</td>\n",
       "      <td>Hargrave</td>\n",
       "      <td>619</td>\n",
       "      <td>France</td>\n",
       "      <td>Female</td>\n",
       "      <td>42</td>\n",
       "      <td>2</td>\n",
       "      <td>0.00</td>\n",
       "      <td>1</td>\n",
       "      <td>1</td>\n",
       "      <td>1</td>\n",
       "      <td>101348.88</td>\n",
       "      <td>1</td>\n",
       "    </tr>\n",
       "    <tr>\n",
       "      <th>1</th>\n",
       "      <td>2</td>\n",
       "      <td>15647311</td>\n",
       "      <td>Hill</td>\n",
       "      <td>608</td>\n",
       "      <td>Spain</td>\n",
       "      <td>Female</td>\n",
       "      <td>41</td>\n",
       "      <td>1</td>\n",
       "      <td>83807.86</td>\n",
       "      <td>1</td>\n",
       "      <td>0</td>\n",
       "      <td>1</td>\n",
       "      <td>112542.58</td>\n",
       "      <td>0</td>\n",
       "    </tr>\n",
       "    <tr>\n",
       "      <th>2</th>\n",
       "      <td>3</td>\n",
       "      <td>15619304</td>\n",
       "      <td>Onio</td>\n",
       "      <td>502</td>\n",
       "      <td>France</td>\n",
       "      <td>Female</td>\n",
       "      <td>42</td>\n",
       "      <td>8</td>\n",
       "      <td>159660.80</td>\n",
       "      <td>3</td>\n",
       "      <td>1</td>\n",
       "      <td>0</td>\n",
       "      <td>113931.57</td>\n",
       "      <td>1</td>\n",
       "    </tr>\n",
       "    <tr>\n",
       "      <th>3</th>\n",
       "      <td>4</td>\n",
       "      <td>15701354</td>\n",
       "      <td>Boni</td>\n",
       "      <td>699</td>\n",
       "      <td>France</td>\n",
       "      <td>Female</td>\n",
       "      <td>39</td>\n",
       "      <td>1</td>\n",
       "      <td>0.00</td>\n",
       "      <td>2</td>\n",
       "      <td>0</td>\n",
       "      <td>0</td>\n",
       "      <td>93826.63</td>\n",
       "      <td>0</td>\n",
       "    </tr>\n",
       "    <tr>\n",
       "      <th>4</th>\n",
       "      <td>5</td>\n",
       "      <td>15737888</td>\n",
       "      <td>Mitchell</td>\n",
       "      <td>850</td>\n",
       "      <td>Spain</td>\n",
       "      <td>Female</td>\n",
       "      <td>43</td>\n",
       "      <td>2</td>\n",
       "      <td>125510.82</td>\n",
       "      <td>1</td>\n",
       "      <td>1</td>\n",
       "      <td>1</td>\n",
       "      <td>79084.10</td>\n",
       "      <td>0</td>\n",
       "    </tr>\n",
       "  </tbody>\n",
       "</table>\n",
       "</div>"
      ],
      "text/plain": [
       "   RowNumber  CustomerId   Surname  CreditScore Geography  Gender  Age  \\\n",
       "0          1    15634602  Hargrave          619    France  Female   42   \n",
       "1          2    15647311      Hill          608     Spain  Female   41   \n",
       "2          3    15619304      Onio          502    France  Female   42   \n",
       "3          4    15701354      Boni          699    France  Female   39   \n",
       "4          5    15737888  Mitchell          850     Spain  Female   43   \n",
       "\n",
       "   Tenure    Balance  NumOfProducts  HasCrCard  IsActiveMember  \\\n",
       "0       2       0.00              1          1               1   \n",
       "1       1   83807.86              1          0               1   \n",
       "2       8  159660.80              3          1               0   \n",
       "3       1       0.00              2          0               0   \n",
       "4       2  125510.82              1          1               1   \n",
       "\n",
       "   EstimatedSalary  Exited  \n",
       "0        101348.88       1  \n",
       "1        112542.58       0  \n",
       "2        113931.57       1  \n",
       "3         93826.63       0  \n",
       "4         79084.10       0  "
      ]
     },
     "execution_count": 99,
     "metadata": {},
     "output_type": "execute_result"
    }
   ],
   "source": [
    "df = pd.read_csv(\"dataset/Churn_Modelling.csv\")\n",
    "\n",
    "df.head()\n",
    "\n",
    " \n",
    "#______________________Info About The Dataset_________________________\n",
    "\n",
    "# আমাদের এইখানে, RowNumber, CustomerId, Surname তেমন কোন কাজের না । \n",
    "# CredicScore -> customer এর credibility এর হিসাব করে । \n",
    "# Tenure -> কত সাল ধরে customer এই banker সাথে যুক্ত । \n",
    "# Number of products -> debit cart, credit cart etc.\n",
    "# HasCrCard -> (Number of credit card) \n",
    "# isActiveMember -> (depends on number of trasaction)\n",
    "# EstimatedSalary -> (customer এর income)\n",
    "# Exited বলে customer টা এখনো bank এ আছে নাকি নাই । \n",
    "\n"
   ]
  },
  {
   "cell_type": "code",
   "execution_count": 100,
   "metadata": {},
   "outputs": [
    {
     "data": {
      "text/plain": [
       "(10000, 14)"
      ]
     },
     "execution_count": 100,
     "metadata": {},
     "output_type": "execute_result"
    }
   ],
   "source": [
    "\n",
    "# Check the shape of the dataset:\n",
    "df.shape"
   ]
  },
  {
   "cell_type": "code",
   "execution_count": 101,
   "metadata": {},
   "outputs": [
    {
     "data": {
      "text/plain": [
       "RowNumber          0\n",
       "CustomerId         0\n",
       "Surname            0\n",
       "CreditScore        0\n",
       "Geography          0\n",
       "Gender             0\n",
       "Age                0\n",
       "Tenure             0\n",
       "Balance            0\n",
       "NumOfProducts      0\n",
       "HasCrCard          0\n",
       "IsActiveMember     0\n",
       "EstimatedSalary    0\n",
       "Exited             0\n",
       "dtype: int64"
      ]
     },
     "execution_count": 101,
     "metadata": {},
     "output_type": "execute_result"
    }
   ],
   "source": [
    "\n",
    "# check if there any null vaule present\n",
    "\n",
    "df.isnull().sum()\n"
   ]
  },
  {
   "cell_type": "code",
   "execution_count": 102,
   "metadata": {},
   "outputs": [
    {
     "name": "stdout",
     "output_type": "stream",
     "text": [
      "<class 'pandas.core.frame.DataFrame'>\n",
      "RangeIndex: 10000 entries, 0 to 9999\n",
      "Data columns (total 14 columns):\n",
      " #   Column           Non-Null Count  Dtype  \n",
      "---  ------           --------------  -----  \n",
      " 0   RowNumber        10000 non-null  int64  \n",
      " 1   CustomerId       10000 non-null  int64  \n",
      " 2   Surname          10000 non-null  object \n",
      " 3   CreditScore      10000 non-null  int64  \n",
      " 4   Geography        10000 non-null  object \n",
      " 5   Gender           10000 non-null  object \n",
      " 6   Age              10000 non-null  int64  \n",
      " 7   Tenure           10000 non-null  int64  \n",
      " 8   Balance          10000 non-null  float64\n",
      " 9   NumOfProducts    10000 non-null  int64  \n",
      " 10  HasCrCard        10000 non-null  int64  \n",
      " 11  IsActiveMember   10000 non-null  int64  \n",
      " 12  EstimatedSalary  10000 non-null  float64\n",
      " 13  Exited           10000 non-null  int64  \n",
      "dtypes: float64(2), int64(9), object(3)\n",
      "memory usage: 1.1+ MB\n"
     ]
    }
   ],
   "source": [
    "\n",
    "# Check Data Type:\n",
    "\n",
    "df.info()\n"
   ]
  },
  {
   "cell_type": "code",
   "execution_count": 103,
   "metadata": {},
   "outputs": [
    {
     "data": {
      "text/plain": [
       "0"
      ]
     },
     "execution_count": 103,
     "metadata": {},
     "output_type": "execute_result"
    }
   ],
   "source": [
    "\n",
    "# Check Duplicate Row:\n",
    "\n",
    "df.duplicated().sum()"
   ]
  },
  {
   "cell_type": "code",
   "execution_count": 104,
   "metadata": {},
   "outputs": [
    {
     "data": {
      "text/plain": [
       "0    7963\n",
       "1    2037\n",
       "Name: Exited, dtype: int64"
      ]
     },
     "execution_count": 104,
     "metadata": {},
     "output_type": "execute_result"
    }
   ],
   "source": [
    "\n",
    "# Check how many person left the bank:\n",
    "\n",
    "df[\"Exited\"].value_counts()\n",
    "\n",
    "# 1 bank ছেড়ে চলে গেছে । \n"
   ]
  },
  {
   "cell_type": "code",
   "execution_count": 105,
   "metadata": {},
   "outputs": [
    {
     "data": {
      "text/plain": [
       "France     5014\n",
       "Germany    2509\n",
       "Spain      2477\n",
       "Name: Geography, dtype: int64"
      ]
     },
     "execution_count": 105,
     "metadata": {},
     "output_type": "execute_result"
    }
   ],
   "source": [
    "\n",
    "# simillary check geography and gender\n",
    "\n",
    "df[\"Geography\"].value_counts()\n"
   ]
  },
  {
   "cell_type": "code",
   "execution_count": 106,
   "metadata": {},
   "outputs": [
    {
     "data": {
      "text/plain": [
       "Male      5457\n",
       "Female    4543\n",
       "Name: Gender, dtype: int64"
      ]
     },
     "execution_count": 106,
     "metadata": {},
     "output_type": "execute_result"
    }
   ],
   "source": [
    "\n",
    "df[\"Gender\"].value_counts()\n"
   ]
  },
  {
   "cell_type": "code",
   "execution_count": 107,
   "metadata": {},
   "outputs": [
    {
     "data": {
      "text/html": [
       "<div>\n",
       "<style scoped>\n",
       "    .dataframe tbody tr th:only-of-type {\n",
       "        vertical-align: middle;\n",
       "    }\n",
       "\n",
       "    .dataframe tbody tr th {\n",
       "        vertical-align: top;\n",
       "    }\n",
       "\n",
       "    .dataframe thead th {\n",
       "        text-align: right;\n",
       "    }\n",
       "</style>\n",
       "<table border=\"1\" class=\"dataframe\">\n",
       "  <thead>\n",
       "    <tr style=\"text-align: right;\">\n",
       "      <th></th>\n",
       "      <th>CreditScore</th>\n",
       "      <th>Geography</th>\n",
       "      <th>Gender</th>\n",
       "      <th>Age</th>\n",
       "      <th>Tenure</th>\n",
       "      <th>Balance</th>\n",
       "      <th>NumOfProducts</th>\n",
       "      <th>HasCrCard</th>\n",
       "      <th>IsActiveMember</th>\n",
       "      <th>EstimatedSalary</th>\n",
       "      <th>Exited</th>\n",
       "    </tr>\n",
       "  </thead>\n",
       "  <tbody>\n",
       "    <tr>\n",
       "      <th>0</th>\n",
       "      <td>619</td>\n",
       "      <td>France</td>\n",
       "      <td>Female</td>\n",
       "      <td>42</td>\n",
       "      <td>2</td>\n",
       "      <td>0.00</td>\n",
       "      <td>1</td>\n",
       "      <td>1</td>\n",
       "      <td>1</td>\n",
       "      <td>101348.88</td>\n",
       "      <td>1</td>\n",
       "    </tr>\n",
       "    <tr>\n",
       "      <th>1</th>\n",
       "      <td>608</td>\n",
       "      <td>Spain</td>\n",
       "      <td>Female</td>\n",
       "      <td>41</td>\n",
       "      <td>1</td>\n",
       "      <td>83807.86</td>\n",
       "      <td>1</td>\n",
       "      <td>0</td>\n",
       "      <td>1</td>\n",
       "      <td>112542.58</td>\n",
       "      <td>0</td>\n",
       "    </tr>\n",
       "    <tr>\n",
       "      <th>2</th>\n",
       "      <td>502</td>\n",
       "      <td>France</td>\n",
       "      <td>Female</td>\n",
       "      <td>42</td>\n",
       "      <td>8</td>\n",
       "      <td>159660.80</td>\n",
       "      <td>3</td>\n",
       "      <td>1</td>\n",
       "      <td>0</td>\n",
       "      <td>113931.57</td>\n",
       "      <td>1</td>\n",
       "    </tr>\n",
       "    <tr>\n",
       "      <th>3</th>\n",
       "      <td>699</td>\n",
       "      <td>France</td>\n",
       "      <td>Female</td>\n",
       "      <td>39</td>\n",
       "      <td>1</td>\n",
       "      <td>0.00</td>\n",
       "      <td>2</td>\n",
       "      <td>0</td>\n",
       "      <td>0</td>\n",
       "      <td>93826.63</td>\n",
       "      <td>0</td>\n",
       "    </tr>\n",
       "    <tr>\n",
       "      <th>4</th>\n",
       "      <td>850</td>\n",
       "      <td>Spain</td>\n",
       "      <td>Female</td>\n",
       "      <td>43</td>\n",
       "      <td>2</td>\n",
       "      <td>125510.82</td>\n",
       "      <td>1</td>\n",
       "      <td>1</td>\n",
       "      <td>1</td>\n",
       "      <td>79084.10</td>\n",
       "      <td>0</td>\n",
       "    </tr>\n",
       "  </tbody>\n",
       "</table>\n",
       "</div>"
      ],
      "text/plain": [
       "   CreditScore Geography  Gender  Age  Tenure    Balance  NumOfProducts  \\\n",
       "0          619    France  Female   42       2       0.00              1   \n",
       "1          608     Spain  Female   41       1   83807.86              1   \n",
       "2          502    France  Female   42       8  159660.80              3   \n",
       "3          699    France  Female   39       1       0.00              2   \n",
       "4          850     Spain  Female   43       2  125510.82              1   \n",
       "\n",
       "   HasCrCard  IsActiveMember  EstimatedSalary  Exited  \n",
       "0          1               1        101348.88       1  \n",
       "1          0               1        112542.58       0  \n",
       "2          1               0        113931.57       1  \n",
       "3          0               0         93826.63       0  \n",
       "4          1               1         79084.10       0  "
      ]
     },
     "execution_count": 107,
     "metadata": {},
     "output_type": "execute_result"
    }
   ],
   "source": [
    "\n",
    "# আমাদের এইখানে, RowNumber, CustomerId, Surname তেমন কোন কাজের না । \n",
    "# so, drop these column:\n",
    "\n",
    "# inplace = ture ; so that the df.drop actually drop from real df. otherwise we will create another variable.\n",
    "\n",
    "df.drop(columns=[\"RowNumber\",\t\"CustomerId\",\t\"Surname\" ],inplace=True)\n",
    "\n",
    "df.head()\n"
   ]
  },
  {
   "cell_type": "code",
   "execution_count": 108,
   "metadata": {},
   "outputs": [
    {
     "data": {
      "text/html": [
       "<div>\n",
       "<style scoped>\n",
       "    .dataframe tbody tr th:only-of-type {\n",
       "        vertical-align: middle;\n",
       "    }\n",
       "\n",
       "    .dataframe tbody tr th {\n",
       "        vertical-align: top;\n",
       "    }\n",
       "\n",
       "    .dataframe thead th {\n",
       "        text-align: right;\n",
       "    }\n",
       "</style>\n",
       "<table border=\"1\" class=\"dataframe\">\n",
       "  <thead>\n",
       "    <tr style=\"text-align: right;\">\n",
       "      <th></th>\n",
       "      <th>CreditScore</th>\n",
       "      <th>Age</th>\n",
       "      <th>Tenure</th>\n",
       "      <th>Balance</th>\n",
       "      <th>NumOfProducts</th>\n",
       "      <th>HasCrCard</th>\n",
       "      <th>IsActiveMember</th>\n",
       "      <th>EstimatedSalary</th>\n",
       "      <th>Exited</th>\n",
       "      <th>Geography_Germany</th>\n",
       "      <th>Geography_Spain</th>\n",
       "      <th>Gender_Male</th>\n",
       "    </tr>\n",
       "  </thead>\n",
       "  <tbody>\n",
       "    <tr>\n",
       "      <th>0</th>\n",
       "      <td>619</td>\n",
       "      <td>42</td>\n",
       "      <td>2</td>\n",
       "      <td>0.00</td>\n",
       "      <td>1</td>\n",
       "      <td>1</td>\n",
       "      <td>1</td>\n",
       "      <td>101348.88</td>\n",
       "      <td>1</td>\n",
       "      <td>0</td>\n",
       "      <td>0</td>\n",
       "      <td>0</td>\n",
       "    </tr>\n",
       "    <tr>\n",
       "      <th>1</th>\n",
       "      <td>608</td>\n",
       "      <td>41</td>\n",
       "      <td>1</td>\n",
       "      <td>83807.86</td>\n",
       "      <td>1</td>\n",
       "      <td>0</td>\n",
       "      <td>1</td>\n",
       "      <td>112542.58</td>\n",
       "      <td>0</td>\n",
       "      <td>0</td>\n",
       "      <td>1</td>\n",
       "      <td>0</td>\n",
       "    </tr>\n",
       "    <tr>\n",
       "      <th>2</th>\n",
       "      <td>502</td>\n",
       "      <td>42</td>\n",
       "      <td>8</td>\n",
       "      <td>159660.80</td>\n",
       "      <td>3</td>\n",
       "      <td>1</td>\n",
       "      <td>0</td>\n",
       "      <td>113931.57</td>\n",
       "      <td>1</td>\n",
       "      <td>0</td>\n",
       "      <td>0</td>\n",
       "      <td>0</td>\n",
       "    </tr>\n",
       "    <tr>\n",
       "      <th>3</th>\n",
       "      <td>699</td>\n",
       "      <td>39</td>\n",
       "      <td>1</td>\n",
       "      <td>0.00</td>\n",
       "      <td>2</td>\n",
       "      <td>0</td>\n",
       "      <td>0</td>\n",
       "      <td>93826.63</td>\n",
       "      <td>0</td>\n",
       "      <td>0</td>\n",
       "      <td>0</td>\n",
       "      <td>0</td>\n",
       "    </tr>\n",
       "    <tr>\n",
       "      <th>4</th>\n",
       "      <td>850</td>\n",
       "      <td>43</td>\n",
       "      <td>2</td>\n",
       "      <td>125510.82</td>\n",
       "      <td>1</td>\n",
       "      <td>1</td>\n",
       "      <td>1</td>\n",
       "      <td>79084.10</td>\n",
       "      <td>0</td>\n",
       "      <td>0</td>\n",
       "      <td>1</td>\n",
       "      <td>0</td>\n",
       "    </tr>\n",
       "    <tr>\n",
       "      <th>...</th>\n",
       "      <td>...</td>\n",
       "      <td>...</td>\n",
       "      <td>...</td>\n",
       "      <td>...</td>\n",
       "      <td>...</td>\n",
       "      <td>...</td>\n",
       "      <td>...</td>\n",
       "      <td>...</td>\n",
       "      <td>...</td>\n",
       "      <td>...</td>\n",
       "      <td>...</td>\n",
       "      <td>...</td>\n",
       "    </tr>\n",
       "    <tr>\n",
       "      <th>9995</th>\n",
       "      <td>771</td>\n",
       "      <td>39</td>\n",
       "      <td>5</td>\n",
       "      <td>0.00</td>\n",
       "      <td>2</td>\n",
       "      <td>1</td>\n",
       "      <td>0</td>\n",
       "      <td>96270.64</td>\n",
       "      <td>0</td>\n",
       "      <td>0</td>\n",
       "      <td>0</td>\n",
       "      <td>1</td>\n",
       "    </tr>\n",
       "    <tr>\n",
       "      <th>9996</th>\n",
       "      <td>516</td>\n",
       "      <td>35</td>\n",
       "      <td>10</td>\n",
       "      <td>57369.61</td>\n",
       "      <td>1</td>\n",
       "      <td>1</td>\n",
       "      <td>1</td>\n",
       "      <td>101699.77</td>\n",
       "      <td>0</td>\n",
       "      <td>0</td>\n",
       "      <td>0</td>\n",
       "      <td>1</td>\n",
       "    </tr>\n",
       "    <tr>\n",
       "      <th>9997</th>\n",
       "      <td>709</td>\n",
       "      <td>36</td>\n",
       "      <td>7</td>\n",
       "      <td>0.00</td>\n",
       "      <td>1</td>\n",
       "      <td>0</td>\n",
       "      <td>1</td>\n",
       "      <td>42085.58</td>\n",
       "      <td>1</td>\n",
       "      <td>0</td>\n",
       "      <td>0</td>\n",
       "      <td>0</td>\n",
       "    </tr>\n",
       "    <tr>\n",
       "      <th>9998</th>\n",
       "      <td>772</td>\n",
       "      <td>42</td>\n",
       "      <td>3</td>\n",
       "      <td>75075.31</td>\n",
       "      <td>2</td>\n",
       "      <td>1</td>\n",
       "      <td>0</td>\n",
       "      <td>92888.52</td>\n",
       "      <td>1</td>\n",
       "      <td>1</td>\n",
       "      <td>0</td>\n",
       "      <td>1</td>\n",
       "    </tr>\n",
       "    <tr>\n",
       "      <th>9999</th>\n",
       "      <td>792</td>\n",
       "      <td>28</td>\n",
       "      <td>4</td>\n",
       "      <td>130142.79</td>\n",
       "      <td>1</td>\n",
       "      <td>1</td>\n",
       "      <td>0</td>\n",
       "      <td>38190.78</td>\n",
       "      <td>0</td>\n",
       "      <td>0</td>\n",
       "      <td>0</td>\n",
       "      <td>0</td>\n",
       "    </tr>\n",
       "  </tbody>\n",
       "</table>\n",
       "<p>10000 rows × 12 columns</p>\n",
       "</div>"
      ],
      "text/plain": [
       "      CreditScore  Age  Tenure    Balance  NumOfProducts  HasCrCard  \\\n",
       "0             619   42       2       0.00              1          1   \n",
       "1             608   41       1   83807.86              1          0   \n",
       "2             502   42       8  159660.80              3          1   \n",
       "3             699   39       1       0.00              2          0   \n",
       "4             850   43       2  125510.82              1          1   \n",
       "...           ...  ...     ...        ...            ...        ...   \n",
       "9995          771   39       5       0.00              2          1   \n",
       "9996          516   35      10   57369.61              1          1   \n",
       "9997          709   36       7       0.00              1          0   \n",
       "9998          772   42       3   75075.31              2          1   \n",
       "9999          792   28       4  130142.79              1          1   \n",
       "\n",
       "      IsActiveMember  EstimatedSalary  Exited  Geography_Germany  \\\n",
       "0                  1        101348.88       1                  0   \n",
       "1                  1        112542.58       0                  0   \n",
       "2                  0        113931.57       1                  0   \n",
       "3                  0         93826.63       0                  0   \n",
       "4                  1         79084.10       0                  0   \n",
       "...              ...              ...     ...                ...   \n",
       "9995               0         96270.64       0                  0   \n",
       "9996               1        101699.77       0                  0   \n",
       "9997               1         42085.58       1                  0   \n",
       "9998               0         92888.52       1                  1   \n",
       "9999               0         38190.78       0                  0   \n",
       "\n",
       "      Geography_Spain  Gender_Male  \n",
       "0                   0            0  \n",
       "1                   1            0  \n",
       "2                   0            0  \n",
       "3                   0            0  \n",
       "4                   1            0  \n",
       "...               ...          ...  \n",
       "9995                0            1  \n",
       "9996                0            1  \n",
       "9997                0            0  \n",
       "9998                0            1  \n",
       "9999                0            0  \n",
       "\n",
       "[10000 rows x 12 columns]"
      ]
     },
     "execution_count": 108,
     "metadata": {},
     "output_type": "execute_result"
    }
   ],
   "source": [
    "\n",
    "# manage categorical data: \n",
    "\n",
    "\n",
    "# drop_first=True convert one_hot_encoding_scheme to dummy_coding_scheme\n",
    "\n",
    "df = pd.get_dummies(df,columns=[\"Geography\"\t,\"Gender\"],drop_first=True)\n",
    "\n",
    "df"
   ]
  },
  {
   "cell_type": "code",
   "execution_count": 109,
   "metadata": {},
   "outputs": [],
   "source": [
    "\n",
    "# doing train test split \n",
    "\n",
    "X = df.drop(columns=[\"Exited\"])\n",
    "y = df[\"Exited\"]\n",
    "\n",
    "\n",
    "from sklearn.model_selection import train_test_split\n",
    "\n",
    "X_train, X_test, y_train, y_test = train_test_split(X,y,test_size=0.2,random_state=1)\n",
    "\n",
    "\n"
   ]
  },
  {
   "cell_type": "code",
   "execution_count": 110,
   "metadata": {},
   "outputs": [],
   "source": [
    "\n",
    "# do feature scaling \n",
    "\n",
    "from sklearn.preprocessing import StandardScaler\n",
    "\n",
    "sc = StandardScaler()\n",
    "sc.fit(X_train)\n",
    "\n",
    "X_train_sc = sc.transform(X_train)\n",
    "X_test_sc = sc.transform(X_test)\n",
    "\n"
   ]
  },
  {
   "cell_type": "code",
   "execution_count": 111,
   "metadata": {},
   "outputs": [
    {
     "data": {
      "text/plain": [
       "array([[-0.23082038, -0.94449979, -0.70174202, ...,  1.71490137,\n",
       "        -0.57273139,  0.91509065],\n",
       "       [-0.25150912, -0.94449979, -0.35520275, ..., -0.58312392,\n",
       "        -0.57273139, -1.09278791],\n",
       "       [-0.3963303 ,  0.77498705,  0.33787579, ...,  1.71490137,\n",
       "        -0.57273139, -1.09278791],\n",
       "       ...,\n",
       "       [ 0.22433188,  0.58393295,  1.3774936 , ..., -0.58312392,\n",
       "        -0.57273139, -1.09278791],\n",
       "       [ 0.13123255,  0.01077067,  1.03095433, ..., -0.58312392,\n",
       "        -0.57273139, -1.09278791],\n",
       "       [ 1.1656695 ,  0.29735181,  0.33787579, ...,  1.71490137,\n",
       "        -0.57273139,  0.91509065]])"
      ]
     },
     "execution_count": 111,
     "metadata": {},
     "output_type": "execute_result"
    }
   ],
   "source": [
    "X_train_sc"
   ]
  },
  {
   "cell_type": "markdown",
   "metadata": {},
   "source": [
    "<br>\n",
    "\n",
    "---\n",
    "\n",
    "### keras এ আমরা দুই ধরনের model create করতে পারি । \n",
    "- i) sequential \n",
    "- ii) non sequential \n",
    "**Beginner হিসেবে আমরা sequential model নিয়ে কাজ করবো**\n",
    "\n",
    "### model create করার পর আমরা সেই model এ layer add করবো । \n",
    "\n",
    "`আমরা এখন একটা input layer, একটা hidden layer and finally একটা output layer বানাবো । আর hidden layer এ আমরা তিনটা perceptron রাখবো । layer create করার জন্য আমরা keras.layers থেকে Dense ব্যবহার করি । `\n",
    "\n",
    "---\n",
    "\n",
    "<br>"
   ]
  },
  {
   "cell_type": "code",
   "execution_count": 112,
   "metadata": {},
   "outputs": [],
   "source": [
    "from keras import Sequential\n",
    "from keras.layers import Dense\n",
    "\n",
    "model = Sequential()\n",
    "\n",
    "# let's create a hidder layer first with the number of input dimentation\n",
    "# এখানে এই hidden layer টা input এর সাথে connected থাকবে তাই একে বলে দিতে হবে input এর dimention কত হবে । \n",
    "model.add(Dense(11,activation=\"relu\",input_dim = 11))\n",
    "model.add(Dense(11,activation=\"relu\"))\n",
    "# now let's create output layer\n",
    "model.add(Dense(1,activation='sigmoid'))\n",
    "\n"
   ]
  },
  {
   "cell_type": "markdown",
   "metadata": {},
   "source": [
    "\n",
    "<br>\n",
    "\n",
    "---\n",
    "\n",
    "## model এর summary দেখতে পারি আমরা । model.summary() দিয়ে । \n",
    "\n",
    "---\n",
    "\n",
    "<br>"
   ]
  },
  {
   "attachments": {
    "image.png": {
     "image/png": "[encoded data removed]"
    }
   },
   "cell_type": "markdown",
   "metadata": {},
   "source": [
    "\n",
    "### visualization of model \n",
    "\n",
    "![image.png](attachment:image.png)\n"
   ]
  },
  {
   "cell_type": "code",
   "execution_count": 113,
   "metadata": {},
   "outputs": [
    {
     "name": "stdout",
     "output_type": "stream",
     "text": [
      "Model: \"sequential_4\"\n",
      "_________________________________________________________________\n",
      " Layer (type)                Output Shape              Param #   \n",
      "=================================================================\n",
      " dense_10 (Dense)            (None, 11)                132       \n",
      "                                                                 \n",
      " dense_11 (Dense)            (None, 11)                132       \n",
      "                                                                 \n",
      " dense_12 (Dense)            (None, 1)                 12        \n",
      "                                                                 \n",
      "=================================================================\n",
      "Total params: 276\n",
      "Trainable params: 276\n",
      "Non-trainable params: 0\n",
      "_________________________________________________________________\n"
     ]
    }
   ],
   "source": [
    "model.summary()"
   ]
  },
  {
   "cell_type": "markdown",
   "metadata": {},
   "source": [
    "<br>\n",
    "\n",
    "`উপরের কাজ গুলো করার পর আমাদের model কে compile করতে হবে । Compilation এ আমরা কোন loss function use করবো । কোন optimizer use করবো gradient descent  এর জন্য তা আমরা বলে দিব। `\n",
    "\n",
    "- এইখানে আমাদের প্রবলেম হচ্ছে binary classification এর তাই আমরা এইখানে `loss function হিসেবে **binary_crossentropy** or **log loss**`\n",
    "<br>"
   ]
  },
  {
   "cell_type": "code",
   "execution_count": 114,
   "metadata": {},
   "outputs": [],
   "source": [
    "\n",
    "# metrics=[\"accuracy\"] add করেছি loss এর সাথে accuracy ও দেখার জন্য । \n",
    "\n",
    "model.compile(loss=\"binary_crossentropy\",optimizer=\"adam\",metrics=[\"accuracy\"])\n"
   ]
  },
  {
   "cell_type": "code",
   "execution_count": 115,
   "metadata": {},
   "outputs": [
    {
     "name": "stdout",
     "output_type": "stream",
     "text": [
      "Epoch 1/20\n",
      " 38/200 [====>.........................] - ETA: 2s - loss: 0.8557 - accuracy: 0.4243"
     ]
    },
    {
     "name": "stdout",
     "output_type": "stream",
     "text": [
      "200/200 [==============================] - 5s 16ms/step - loss: 0.6019 - accuracy: 0.6759 - val_loss: 0.4843 - val_accuracy: 0.7969\n",
      "Epoch 2/20\n",
      "200/200 [==============================] - 3s 14ms/step - loss: 0.4591 - accuracy: 0.7983 - val_loss: 0.4569 - val_accuracy: 0.7975\n",
      "Epoch 3/20\n",
      "200/200 [==============================] - 3s 17ms/step - loss: 0.4433 - accuracy: 0.7992 - val_loss: 0.4430 - val_accuracy: 0.7994\n",
      "Epoch 4/20\n",
      "200/200 [==============================] - 3s 16ms/step - loss: 0.4336 - accuracy: 0.8023 - val_loss: 0.4320 - val_accuracy: 0.8044\n",
      "Epoch 5/20\n",
      "200/200 [==============================] - 4s 19ms/step - loss: 0.4256 - accuracy: 0.8064 - val_loss: 0.4236 - val_accuracy: 0.8081\n",
      "Epoch 6/20\n",
      "200/200 [==============================] - 4s 21ms/step - loss: 0.4183 - accuracy: 0.8116 - val_loss: 0.4170 - val_accuracy: 0.8144\n",
      "Epoch 7/20\n",
      "200/200 [==============================] - 4s 22ms/step - loss: 0.4115 - accuracy: 0.8142 - val_loss: 0.4106 - val_accuracy: 0.8175\n",
      "Epoch 8/20\n",
      "200/200 [==============================] - 4s 19ms/step - loss: 0.4034 - accuracy: 0.8219 - val_loss: 0.4027 - val_accuracy: 0.8194\n",
      "Epoch 9/20\n",
      "200/200 [==============================] - 3s 13ms/step - loss: 0.3920 - accuracy: 0.8322 - val_loss: 0.3892 - val_accuracy: 0.8263\n",
      "Epoch 10/20\n",
      "200/200 [==============================] - 3s 17ms/step - loss: 0.3792 - accuracy: 0.8420 - val_loss: 0.3766 - val_accuracy: 0.8306\n",
      "Epoch 11/20\n",
      "200/200 [==============================] - 3s 13ms/step - loss: 0.3679 - accuracy: 0.8480 - val_loss: 0.3655 - val_accuracy: 0.8381\n",
      "Epoch 12/20\n",
      "200/200 [==============================] - 3s 16ms/step - loss: 0.3596 - accuracy: 0.8550 - val_loss: 0.3594 - val_accuracy: 0.8425\n",
      "Epoch 13/20\n",
      "200/200 [==============================] - 4s 18ms/step - loss: 0.3529 - accuracy: 0.8570 - val_loss: 0.3555 - val_accuracy: 0.8487\n",
      "Epoch 14/20\n",
      "200/200 [==============================] - 3s 17ms/step - loss: 0.3487 - accuracy: 0.8584 - val_loss: 0.3530 - val_accuracy: 0.8450\n",
      "Epoch 15/20\n",
      "200/200 [==============================] - 3s 16ms/step - loss: 0.3462 - accuracy: 0.8589 - val_loss: 0.3508 - val_accuracy: 0.8456\n",
      "Epoch 16/20\n",
      "200/200 [==============================] - 3s 17ms/step - loss: 0.3442 - accuracy: 0.8589 - val_loss: 0.3499 - val_accuracy: 0.8475\n",
      "Epoch 17/20\n",
      "200/200 [==============================] - 3s 14ms/step - loss: 0.3425 - accuracy: 0.8606 - val_loss: 0.3490 - val_accuracy: 0.8462\n",
      "Epoch 18/20\n",
      "200/200 [==============================] - 3s 14ms/step - loss: 0.3411 - accuracy: 0.8617 - val_loss: 0.3488 - val_accuracy: 0.8475\n",
      "Epoch 19/20\n",
      "200/200 [==============================] - 4s 19ms/step - loss: 0.3403 - accuracy: 0.8612 - val_loss: 0.3489 - val_accuracy: 0.8456\n",
      "Epoch 20/20\n",
      "200/200 [==============================] - 3s 13ms/step - loss: 0.3393 - accuracy: 0.8630 - val_loss: 0.3513 - val_accuracy: 0.8444\n"
     ]
    }
   ],
   "source": [
    "\n",
    "# ধরি, আম্যাদের কাছে 8k dataset আছে । এর মধ্যে আমরা (8k = 20%) এই dataset এর উপর আমাদের মডেল run করবে । \n",
    "# এই 20 dataset দিয়ে এরা নিজেরা test করে আমাদের accuracy ও provide করবে । \n",
    "\n",
    "# output এ আমরা tarining loss and accuracy and validation portion loss and accuracy দেখতে পারবো । \n",
    "# এখন, যদি আমাদের training loss and accuracy যথাক্রমে কম ও বাড়তে থাকে কিন্তু validation portion এর loss and accuracy \n",
    "# এর ক্ষেত্রে তেমন কোন change  হয় না তাহলে আমাদের বুঝতে হবে আমাদের overfitting problem আছে । \n",
    "\n",
    "history = model.fit(X_train_sc,y_train,epochs=20,validation_split=0.2)\n"
   ]
  },
  {
   "cell_type": "markdown",
   "metadata": {},
   "source": [
    "---\n",
    "\n",
    "<br>\n",
    "\n",
    "###  এখন, আমরা যেই weight and bias এর ভ্যালু গুলো পেলাম model train করার পর সেই গুলো দেখবো। \n",
    "\n",
    "- প্রথম layer এ আমাদের ৩৬ টা parameter ছিল । আর এর মধ্যে ৩ টা ছিল bias । \n",
    "\n",
    "- output layer এ আমাদের ৪ টা parameter ছিল । এর মধ্যে ১ টা bias ছিল । \n",
    "\n",
    "<br>\n",
    "\n",
    "---"
   ]
  },
  {
   "cell_type": "code",
   "execution_count": 116,
   "metadata": {},
   "outputs": [
    {
     "data": {
      "text/plain": [
       "[array([[ 1.04795799e-01, -3.81137550e-01, -1.95347592e-01,\n",
       "          3.58197868e-01, -2.19040923e-02,  4.89894599e-01,\n",
       "         -1.68455362e-01, -2.31750965e-01,  1.44212931e-01,\n",
       "         -1.50936961e-01,  2.29097977e-01],\n",
       "        [-2.65287906e-02, -4.63660806e-01,  9.55030441e-01,\n",
       "          2.33261004e-01,  6.08871222e-01, -4.01687145e-01,\n",
       "          3.43711704e-01, -4.72408831e-01, -1.99685603e-01,\n",
       "         -1.17039047e-01,  6.46269321e-01],\n",
       "        [-5.96761564e-03,  7.54779801e-02, -3.37466449e-02,\n",
       "         -2.51737207e-01,  5.26706316e-02, -5.36522508e-01,\n",
       "          5.25703430e-02,  1.37848705e-01,  8.64881277e-02,\n",
       "          4.76097137e-01,  2.85358131e-01],\n",
       "        [-3.08717579e-01,  3.76315564e-01, -3.62511963e-01,\n",
       "          1.28531456e-01,  2.47934878e-01, -6.96012676e-01,\n",
       "         -3.78447354e-01, -2.44301006e-01, -3.98469493e-02,\n",
       "         -4.22535419e-01, -2.09813967e-01],\n",
       "        [-1.07870124e-01,  8.24999586e-02, -5.84670544e-01,\n",
       "         -2.63466150e-01,  1.08442569e+00, -8.49187300e-02,\n",
       "         -9.65588689e-01,  4.19357359e-01,  1.96005002e-01,\n",
       "          3.59728545e-01,  1.14666462e-01],\n",
       "        [ 2.45350406e-01,  9.74401310e-02,  2.18968429e-02,\n",
       "         -5.30956537e-02, -2.50644720e-04,  3.29642668e-02,\n",
       "         -4.24626507e-02, -3.27962071e-01, -1.03856273e-01,\n",
       "          4.35697228e-01,  7.22933263e-02],\n",
       "        [ 7.01223850e-01, -7.49231577e-02,  1.00800419e+00,\n",
       "         -1.70355409e-01,  1.43650547e-01,  3.13099809e-02,\n",
       "         -1.40190452e-01, -2.35176742e-01,  3.56011301e-01,\n",
       "          1.87681794e-01,  2.98630387e-01],\n",
       "        [-1.70142636e-01,  3.91150475e-01,  1.37445569e-01,\n",
       "         -7.10072637e-01, -7.42362887e-02,  5.99280000e-01,\n",
       "          1.32922560e-01, -2.38088444e-01, -3.24963927e-01,\n",
       "          2.63428725e-02, -3.64966005e-01],\n",
       "        [-8.59232619e-02, -4.97781515e-01,  3.22680883e-02,\n",
       "          4.32185262e-01, -1.66543230e-01, -1.52200967e-01,\n",
       "          4.35606055e-02,  9.29553881e-02, -2.04712853e-01,\n",
       "          1.61301464e-01,  8.25132243e-03],\n",
       "        [ 2.29694754e-01, -1.85660824e-01,  1.07938401e-01,\n",
       "         -5.03869712e-01,  6.61119670e-02, -1.20346449e-01,\n",
       "         -7.35498443e-02, -5.43625355e-02, -9.19042528e-03,\n",
       "         -1.46329403e-01, -6.80681914e-02],\n",
       "        [-5.96486628e-01, -2.68479615e-01,  3.72401088e-01,\n",
       "         -9.86766070e-03,  6.56076372e-02,  2.27422893e-01,\n",
       "         -1.68311760e-01, -5.02351344e-01,  8.65478456e-01,\n",
       "          4.43652302e-01, -1.72807038e-01]], dtype=float32),\n",
       " array([ 0.48509294,  0.59557337, -0.0763275 ,  0.06724654, -0.48551264,\n",
       "         0.4102703 ,  0.02802421,  0.24849838,  0.55318385,  0.14697313,\n",
       "        -0.14717738], dtype=float32)]"
      ]
     },
     "execution_count": 116,
     "metadata": {},
     "output_type": "execute_result"
    }
   ],
   "source": [
    "\n",
    "# we get two array one is for weights and another is for bias:\n",
    "\n",
    "model.layers[0].get_weights()\n"
   ]
  },
  {
   "cell_type": "code",
   "execution_count": 117,
   "metadata": {},
   "outputs": [
    {
     "data": {
      "text/plain": [
       "[array([[ 4.73860919e-01,  3.53103988e-02,  1.09871492e-01,\n",
       "          1.07186422e-01,  3.54041129e-01,  1.21013686e-01,\n",
       "         -6.01286769e-01, -1.67378575e-01,  2.20790476e-01,\n",
       "         -6.32146448e-02,  4.15741540e-02],\n",
       "        [ 1.18610375e-01,  2.03250691e-01, -5.15884399e-01,\n",
       "         -2.69031346e-01,  2.73741037e-01, -2.17301980e-01,\n",
       "          3.68807912e-01, -2.05877259e-01,  4.04782832e-01,\n",
       "         -2.84067448e-02,  1.09502085e-01],\n",
       "        [ 5.07744193e-01, -3.87155116e-01, -3.06660742e-01,\n",
       "         -5.91795444e-01, -3.10849011e-01, -1.22331791e-01,\n",
       "         -2.83769786e-01,  2.50077814e-01, -6.31109774e-01,\n",
       "         -1.48716211e-01, -5.03521860e-01],\n",
       "        [ 1.64148994e-02,  1.82134211e-01,  1.92655120e-02,\n",
       "          3.50487977e-01, -3.39332134e-01,  5.71651280e-01,\n",
       "         -1.34622589e-01,  1.52693331e-01,  1.78970069e-01,\n",
       "          4.32104021e-01, -3.06841642e-01],\n",
       "        [ 2.84105837e-01, -3.98954570e-01,  5.85980952e-01,\n",
       "          4.91363615e-01,  9.63244379e-01, -3.73597383e-01,\n",
       "          5.58985829e-01, -1.57990623e+00, -4.33285803e-01,\n",
       "          5.81907749e-01,  7.37435877e-01],\n",
       "        [-1.33198574e-01,  4.30447161e-01,  4.28220958e-01,\n",
       "         -2.76979834e-01, -1.22804612e-01, -6.18937612e-01,\n",
       "         -2.28277985e-02, -1.63568817e-02,  2.46354595e-01,\n",
       "         -4.94508594e-01,  1.47398725e-01],\n",
       "        [-2.43952036e-01, -1.51634082e-01,  8.81740570e-01,\n",
       "          3.14214975e-01,  3.53292972e-01, -2.04010643e-02,\n",
       "         -2.62448430e-01,  7.05457270e-01, -1.68192834e-02,\n",
       "          2.64163762e-01,  2.16957808e-01],\n",
       "        [ 2.55590584e-02,  2.48554617e-01, -1.73660368e-01,\n",
       "         -2.41451636e-01,  2.76189983e-01, -5.03253303e-02,\n",
       "          2.24729866e-01, -2.62827426e-01,  6.71250045e-01,\n",
       "         -9.80366603e-04,  3.29747468e-01],\n",
       "        [ 3.90547395e-01,  4.72539008e-01, -3.27508524e-02,\n",
       "          8.01681131e-02,  3.27601165e-01,  2.46514201e-01,\n",
       "         -3.79656047e-01,  1.09189637e-01,  3.29980642e-01,\n",
       "         -3.15863863e-02, -1.04964308e-01],\n",
       "        [ 3.64701629e-01,  3.60202163e-01,  4.51628584e-03,\n",
       "         -7.27991536e-02, -4.13050018e-02,  1.56978399e-01,\n",
       "          2.30045468e-01,  4.91978079e-02, -3.92377861e-02,\n",
       "          1.69044182e-01,  9.31137875e-02],\n",
       "        [ 3.68084311e-01, -3.83578122e-01, -3.30219448e-01,\n",
       "          3.76651943e-01, -5.13209462e-01,  2.07822733e-02,\n",
       "          5.70234470e-02,  1.94670647e-01, -3.61987561e-01,\n",
       "         -2.59703696e-01,  8.22508708e-02]], dtype=float32),\n",
       " array([ 0.19416793,  0.34800494,  0.01917427, -0.14244334, -0.31973243,\n",
       "        -0.0048799 , -0.13860968,  0.21443377,  0.32557192, -0.11190905,\n",
       "        -0.32058826], dtype=float32)]"
      ]
     },
     "execution_count": 117,
     "metadata": {},
     "output_type": "execute_result"
    }
   ],
   "source": [
    "model.layers[1].get_weights()"
   ]
  },
  {
   "cell_type": "code",
   "execution_count": 118,
   "metadata": {},
   "outputs": [
    {
     "name": "stdout",
     "output_type": "stream",
     "text": [
      "26/63 [===========>..................] - ETA: 0s"
     ]
    },
    {
     "name": "stdout",
     "output_type": "stream",
     "text": [
      "63/63 [==============================] - 1s 11ms/step\n"
     ]
    },
    {
     "data": {
      "text/plain": [
       "array([[0.03459561],\n",
       "       [0.06088424],\n",
       "       [0.05704546],\n",
       "       ...,\n",
       "       [0.00853075],\n",
       "       [0.03933302],\n",
       "       [0.2747606 ]], dtype=float32)"
      ]
     },
     "execution_count": 118,
     "metadata": {},
     "output_type": "execute_result"
    }
   ],
   "source": [
    "# now show the output: \n",
    "\n",
    "model.predict(X_test_sc)"
   ]
  },
  {
   "cell_type": "markdown",
   "metadata": {},
   "source": [
    "<br>\n",
    "\n",
    "---\n",
    "\n",
    "- আমরা যা predict করেছি তার ভ্যালু গুলো (0~1) এর মধ্যে থাকবে । কারণ, আমরা activation function হিসেবে **sigmoid function**  ব্যবহার করেছি ।\n",
    "\n",
    "- আমরা একটা theshold ব্যবহার করবো । যেমনঃ এই ক্ষেত্রে আমরা 0.5 ব্যবহার করতে পারি । 0.5 এর উপরে পেলে 1 আর এর নিচে পেলে 0 \n",
    "---\n",
    "\n",
    "<br>"
   ]
  },
  {
   "cell_type": "code",
   "execution_count": 119,
   "metadata": {},
   "outputs": [
    {
     "name": "stdout",
     "output_type": "stream",
     "text": [
      "63/63 [==============================] - 0s 5ms/step\n"
     ]
    }
   ],
   "source": [
    "\n",
    "y_log = model.predict(X_test_sc)\n"
   ]
  },
  {
   "cell_type": "code",
   "execution_count": 120,
   "metadata": {},
   "outputs": [],
   "source": [
    "y_pred = np.where(y_log>0.5,1,0)"
   ]
  },
  {
   "cell_type": "code",
   "execution_count": 121,
   "metadata": {},
   "outputs": [
    {
     "data": {
      "text/plain": [
       "0.8605"
      ]
     },
     "execution_count": 121,
     "metadata": {},
     "output_type": "execute_result"
    }
   ],
   "source": [
    "from sklearn.metrics import accuracy_score\n",
    "\n",
    "score = accuracy_score(y_test,y_pred)\n",
    "\n",
    "score"
   ]
  },
  {
   "cell_type": "markdown",
   "metadata": {},
   "source": [
    "---\n",
    "\n",
    "# আমরা accuracy পেয়েছিঃ 79% \n",
    "## এখন অ্যামরা এই accuracy কে বাড়াতে পারিঃ \n",
    "- number of epochs বাড়াতে পারি, normally 100,1000 রাখা হয় । \n",
    "- activation function relu ব্যবহার করলে accuracy বাড়তে পারে । \n",
    "- Hidder layer এ number of node বাড়ানোর মাধ্যমে । \n",
    "- Number of hidden layer বাড়াতে পারি ।  \n",
    "\n",
    "---"
   ]
  },
  {
   "cell_type": "markdown",
   "metadata": {},
   "source": [
    "<br> <br>\n",
    "\n",
    "আমরা আমাদের model fit করার সময় তার সকল  information গুলো history নামে  একটা dictionary তে save  করে রেখেছিলাম এখন আমরা সেই dictionary  থেকে এখন আমরা যেকোন stage এর গ্রাফ একে analysis করতে পারি । \n",
    "\n",
    "<br> <br>"
   ]
  },
  {
   "cell_type": "code",
   "execution_count": 122,
   "metadata": {},
   "outputs": [],
   "source": [
    "import matplotlib.pyplot as plt\n"
   ]
  },
  {
   "cell_type": "code",
   "execution_count": 124,
   "metadata": {},
   "outputs": [
    {
     "data": {
      "text/plain": [
       "{'loss': [0.6018612384796143,\n",
       "  0.4591243267059326,\n",
       "  0.44333890080451965,\n",
       "  0.43357306718826294,\n",
       "  0.4255586564540863,\n",
       "  0.41829097270965576,\n",
       "  0.4115229845046997,\n",
       "  0.4033621549606323,\n",
       "  0.3920390009880066,\n",
       "  0.3791554272174835,\n",
       "  0.3679288923740387,\n",
       "  0.3596145510673523,\n",
       "  0.3529002368450165,\n",
       "  0.3487393856048584,\n",
       "  0.34616565704345703,\n",
       "  0.3441770672798157,\n",
       "  0.3425244092941284,\n",
       "  0.34109634160995483,\n",
       "  0.34032341837882996,\n",
       "  0.3393488824367523],\n",
       " 'accuracy': [0.6759374737739563,\n",
       "  0.7982812523841858,\n",
       "  0.7992187738418579,\n",
       "  0.8023437261581421,\n",
       "  0.8064062595367432,\n",
       "  0.8115624785423279,\n",
       "  0.8142187595367432,\n",
       "  0.8218749761581421,\n",
       "  0.8321874737739563,\n",
       "  0.8420312404632568,\n",
       "  0.8479687571525574,\n",
       "  0.8550000190734863,\n",
       "  0.8570312261581421,\n",
       "  0.8584374785423279,\n",
       "  0.8589062690734863,\n",
       "  0.8589062690734863,\n",
       "  0.8606250286102295,\n",
       "  0.8617187738418579,\n",
       "  0.8612499833106995,\n",
       "  0.8629687428474426],\n",
       " 'val_loss': [0.4842720925807953,\n",
       "  0.4568893015384674,\n",
       "  0.4429849684238434,\n",
       "  0.43204957246780396,\n",
       "  0.4235697090625763,\n",
       "  0.4170270264148712,\n",
       "  0.4105648100376129,\n",
       "  0.4027210474014282,\n",
       "  0.3891943097114563,\n",
       "  0.3766487240791321,\n",
       "  0.36545220017433167,\n",
       "  0.35939717292785645,\n",
       "  0.3555110692977905,\n",
       "  0.3529570698738098,\n",
       "  0.3507861793041229,\n",
       "  0.3498574197292328,\n",
       "  0.3490486443042755,\n",
       "  0.34877488017082214,\n",
       "  0.3488991856575012,\n",
       "  0.35125401616096497],\n",
       " 'val_accuracy': [0.796875,\n",
       "  0.7975000143051147,\n",
       "  0.7993749976158142,\n",
       "  0.8043749928474426,\n",
       "  0.8081250190734863,\n",
       "  0.8143749833106995,\n",
       "  0.8174999952316284,\n",
       "  0.8193749785423279,\n",
       "  0.8262500166893005,\n",
       "  0.8306249976158142,\n",
       "  0.8381249904632568,\n",
       "  0.8424999713897705,\n",
       "  0.8487499952316284,\n",
       "  0.8450000286102295,\n",
       "  0.8456249833106995,\n",
       "  0.8475000262260437,\n",
       "  0.8462499976158142,\n",
       "  0.8475000262260437,\n",
       "  0.8456249833106995,\n",
       "  0.8443750143051147]}"
      ]
     },
     "execution_count": 124,
     "metadata": {},
     "output_type": "execute_result"
    }
   ],
   "source": [
    "\n",
    "history.history"
   ]
  },
  {
   "cell_type": "code",
   "execution_count": 132,
   "metadata": {},
   "outputs": [
    {
     "data": {
      "text/plain": [
       "[<matplotlib.lines.Line2D at 0x7da24278de50>]"
      ]
     },
     "execution_count": 132,
     "metadata": {},
     "output_type": "execute_result"
    },
    {
     "data": {
      "image/png": "[encoded data removed]",
      "text/plain": [
       "<Figure size 640x480 with 1 Axes>"
      ]
     },
     "metadata": {},
     "output_type": "display_data"
    }
   ],
   "source": [
    "\n",
    "\n",
    "plt.plot(history.history[\"loss\"])\n",
    "plt.plot(history.history[\"val_loss\"],c='r')\n",
    "\n",
    "#  আমাদের overfitting অনেক কম সেইটা এই গ্রাফ থেকে আমরা দেখতে পারি । \n"
   ]
  },
  {
   "cell_type": "code",
   "execution_count": 135,
   "metadata": {},
   "outputs": [
    {
     "data": {
      "text/plain": [
       "[<matplotlib.lines.Line2D at 0x7da24261a390>]"
      ]
     },
     "execution_count": 135,
     "metadata": {},
     "output_type": "execute_result"
    },
    {
     "data": {
      "image/png": "[encoded data removed]",
      "text/plain": [
       "<Figure size 640x480 with 1 Axes>"
      ]
     },
     "metadata": {},
     "output_type": "display_data"
    }
   ],
   "source": [
    "\n",
    "plt.plot(history.history[\"accuracy\"],c='y')\n",
    "plt.plot(history.history[\"val_accuracy\"],c='r')\n",
    "\n",
    "#  আমাদের overfitting অনেক কম সেইটা এই গ্রাফ থেকে আমরা দেখতে পারি । "
   ]
  }
 ],
 "metadata": {
  "kernelspec": {
   "display_name": "Python 3",
   "language": "python",
   "name": "python3"
  },
  "language_info": {
   "codemirror_mode": {
    "name": "ipython",
    "version": 3
   },
   "file_extension": ".py",
   "mimetype": "text/x-python",
   "name": "python",
   "nbconvert_exporter": "python",
   "pygments_lexer": "ipython3",
   "version": "3.11.8"
  }
 },
 "nbformat": 4,
 "nbformat_minor": 2
}
