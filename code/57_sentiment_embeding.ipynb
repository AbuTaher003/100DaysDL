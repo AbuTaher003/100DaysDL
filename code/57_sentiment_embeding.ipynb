{
 "cells": [
  {
   "cell_type": "code",
   "execution_count": 35,
   "metadata": {},
   "outputs": [],
   "source": [
    "\n",
    "import numpy as np \n",
    "import tensorflow as tf \n",
    "from tensorflow import keras\n",
    "from keras.layers import SimpleRNN,Embedding\n",
    "from keras.utils import pad_sequences"
   ]
  },
  {
   "cell_type": "code",
   "execution_count": 36,
   "metadata": {},
   "outputs": [],
   "source": [
    "docs = [ 'go india',\n",
    "'india india',\n",
    "'hip hip hurray',\n",
    "'jeetega bhai jeetega india jeetega',\n",
    "'bharat mata ki jai',\n",
    "'kohli kohli',\n",
    "'sachin sachin',\n",
    "'dhoni dhoni',\n",
    "'modi ji ki jai',\n",
    "'inquilab zindabad'\n",
    "]"
   ]
  },
  {
   "cell_type": "code",
   "execution_count": 37,
   "metadata": {},
   "outputs": [
    {
     "data": {
      "text/plain": [
       "{1: 'india',\n",
       " 2: 'jeetega',\n",
       " 3: 'hip',\n",
       " 4: 'ki',\n",
       " 5: 'jai',\n",
       " 6: 'kohli',\n",
       " 7: 'sachin',\n",
       " 8: 'dhoni',\n",
       " 9: 'go',\n",
       " 10: 'hurray',\n",
       " 11: 'bhai',\n",
       " 12: 'bharat',\n",
       " 13: 'mata',\n",
       " 14: 'modi',\n",
       " 15: 'ji',\n",
       " 16: 'inquilab',\n",
       " 17: 'zindabad'}"
      ]
     },
     "execution_count": 37,
     "metadata": {},
     "output_type": "execute_result"
    }
   ],
   "source": [
    "tokenize = tf.keras.preprocessing.text.Tokenizer()\n",
    "tokenize.fit_on_texts(docs)\n",
    "tokenize.index_word"
   ]
  },
  {
   "cell_type": "code",
   "execution_count": 38,
   "metadata": {},
   "outputs": [
    {
     "data": {
      "text/plain": [
       "[[9, 1],\n",
       " [1, 1],\n",
       " [3, 3, 10],\n",
       " [2, 11, 2, 1, 2],\n",
       " [12, 13, 4, 5],\n",
       " [6, 6],\n",
       " [7, 7],\n",
       " [8, 8],\n",
       " [14, 15, 4, 5],\n",
       " [16, 17]]"
      ]
     },
     "execution_count": 38,
     "metadata": {},
     "output_type": "execute_result"
    }
   ],
   "source": [
    "sequesces = tokenize.texts_to_sequences(docs)\n",
    "sequesces"
   ]
  },
  {
   "cell_type": "code",
   "execution_count": 39,
   "metadata": {},
   "outputs": [
    {
     "data": {
      "text/plain": [
       "array([[ 9,  1,  0,  0,  0],\n",
       "       [ 1,  1,  0,  0,  0],\n",
       "       [ 3,  3, 10,  0,  0],\n",
       "       [ 2, 11,  2,  1,  2],\n",
       "       [12, 13,  4,  5,  0],\n",
       "       [ 6,  6,  0,  0,  0],\n",
       "       [ 7,  7,  0,  0,  0],\n",
       "       [ 8,  8,  0,  0,  0],\n",
       "       [14, 15,  4,  5,  0],\n",
       "       [16, 17,  0,  0,  0]], dtype=int32)"
      ]
     },
     "execution_count": 39,
     "metadata": {},
     "output_type": "execute_result"
    }
   ],
   "source": [
    "sequesces = pad_sequences(sequesces,padding=\"post\")\n",
    "sequesces"
   ]
  },
  {
   "cell_type": "code",
   "execution_count": 50,
   "metadata": {},
   "outputs": [
    {
     "data": {
      "text/html": [
       "<pre style=\"white-space:pre;overflow-x:auto;line-height:normal;font-family:Menlo,'DejaVu Sans Mono',consolas,'Courier New',monospace\"><span style=\"font-weight: bold\">Model: \"sequential_16\"</span>\n",
       "</pre>\n"
      ],
      "text/plain": [
       "\u001b[1mModel: \"sequential_16\"\u001b[0m\n"
      ]
     },
     "metadata": {},
     "output_type": "display_data"
    },
    {
     "data": {
      "text/html": [
       "<pre style=\"white-space:pre;overflow-x:auto;line-height:normal;font-family:Menlo,'DejaVu Sans Mono',consolas,'Courier New',monospace\">┏━━━━━━━━━━━━━━━━━━━━━━━━━━━━━━━━━┳━━━━━━━━━━━━━━━━━━━━━━━━┳━━━━━━━━━━━━━━━┓\n",
       "┃<span style=\"font-weight: bold\"> Layer (type)                    </span>┃<span style=\"font-weight: bold\"> Output Shape           </span>┃<span style=\"font-weight: bold\">       Param # </span>┃\n",
       "┡━━━━━━━━━━━━━━━━━━━━━━━━━━━━━━━━━╇━━━━━━━━━━━━━━━━━━━━━━━━╇━━━━━━━━━━━━━━━┩\n",
       "│ embedding_13 (<span style=\"color: #0087ff; text-decoration-color: #0087ff\">Embedding</span>)        │ ?                      │   <span style=\"color: #00af00; text-decoration-color: #00af00\">0</span> (unbuilt) │\n",
       "├─────────────────────────────────┼────────────────────────┼───────────────┤\n",
       "│ dense (<span style=\"color: #0087ff; text-decoration-color: #0087ff\">Dense</span>)                   │ ?                      │   <span style=\"color: #00af00; text-decoration-color: #00af00\">0</span> (unbuilt) │\n",
       "└─────────────────────────────────┴────────────────────────┴───────────────┘\n",
       "</pre>\n"
      ],
      "text/plain": [
       "┏━━━━━━━━━━━━━━━━━━━━━━━━━━━━━━━━━┳━━━━━━━━━━━━━━━━━━━━━━━━┳━━━━━━━━━━━━━━━┓\n",
       "┃\u001b[1m \u001b[0m\u001b[1mLayer (type)                   \u001b[0m\u001b[1m \u001b[0m┃\u001b[1m \u001b[0m\u001b[1mOutput Shape          \u001b[0m\u001b[1m \u001b[0m┃\u001b[1m \u001b[0m\u001b[1m      Param #\u001b[0m\u001b[1m \u001b[0m┃\n",
       "┡━━━━━━━━━━━━━━━━━━━━━━━━━━━━━━━━━╇━━━━━━━━━━━━━━━━━━━━━━━━╇━━━━━━━━━━━━━━━┩\n",
       "│ embedding_13 (\u001b[38;5;33mEmbedding\u001b[0m)        │ ?                      │   \u001b[38;5;34m0\u001b[0m (unbuilt) │\n",
       "├─────────────────────────────────┼────────────────────────┼───────────────┤\n",
       "│ dense (\u001b[38;5;33mDense\u001b[0m)                   │ ?                      │   \u001b[38;5;34m0\u001b[0m (unbuilt) │\n",
       "└─────────────────────────────────┴────────────────────────┴───────────────┘\n"
      ]
     },
     "metadata": {},
     "output_type": "display_data"
    },
    {
     "data": {
      "text/html": [
       "<pre style=\"white-space:pre;overflow-x:auto;line-height:normal;font-family:Menlo,'DejaVu Sans Mono',consolas,'Courier New',monospace\"><span style=\"font-weight: bold\"> Total params: </span><span style=\"color: #00af00; text-decoration-color: #00af00\">0</span> (0.00 B)\n",
       "</pre>\n"
      ],
      "text/plain": [
       "\u001b[1m Total params: \u001b[0m\u001b[38;5;34m0\u001b[0m (0.00 B)\n"
      ]
     },
     "metadata": {},
     "output_type": "display_data"
    },
    {
     "data": {
      "text/html": [
       "<pre style=\"white-space:pre;overflow-x:auto;line-height:normal;font-family:Menlo,'DejaVu Sans Mono',consolas,'Courier New',monospace\"><span style=\"font-weight: bold\"> Trainable params: </span><span style=\"color: #00af00; text-decoration-color: #00af00\">0</span> (0.00 B)\n",
       "</pre>\n"
      ],
      "text/plain": [
       "\u001b[1m Trainable params: \u001b[0m\u001b[38;5;34m0\u001b[0m (0.00 B)\n"
      ]
     },
     "metadata": {},
     "output_type": "display_data"
    },
    {
     "data": {
      "text/html": [
       "<pre style=\"white-space:pre;overflow-x:auto;line-height:normal;font-family:Menlo,'DejaVu Sans Mono',consolas,'Courier New',monospace\"><span style=\"font-weight: bold\"> Non-trainable params: </span><span style=\"color: #00af00; text-decoration-color: #00af00\">0</span> (0.00 B)\n",
       "</pre>\n"
      ],
      "text/plain": [
       "\u001b[1m Non-trainable params: \u001b[0m\u001b[38;5;34m0\u001b[0m (0.00 B)\n"
      ]
     },
     "metadata": {},
     "output_type": "display_data"
    }
   ],
   "source": [
    "\n",
    "\n",
    "# Create a Sequential model\n",
    "model = tf.keras.Sequential()\n",
    "\n",
    "# Add an Embedding layer\n",
    "model.add(tf.keras.layers.Embedding(input_dim=len(tokenize.index_word)+1, output_dim=2))\n",
    "model.add(tf.keras.layers.Dense(1,activation=\"sigmoid\"))\n",
    "# Display the model summary\n",
    "model.summary()\n"
   ]
  },
  {
   "cell_type": "code",
   "execution_count": null,
   "metadata": {},
   "outputs": [],
   "source": []
  },
  {
   "cell_type": "code",
   "execution_count": 44,
   "metadata": {},
   "outputs": [],
   "source": [
    "model.compile('adam','accuracy')"
   ]
  },
  {
   "cell_type": "code",
   "execution_count": 49,
   "metadata": {},
   "outputs": [
    {
     "data": {
      "text/plain": [
       "array([[ 0.00602865, -0.03288539],\n",
       "       [ 0.03947176,  0.0268794 ],\n",
       "       [ 0.03893964, -0.03429698],\n",
       "       [-0.02680014, -0.03983754],\n",
       "       [ 0.04147157,  0.03420199],\n",
       "       [ 0.00440959,  0.04548777],\n",
       "       [-0.04998624, -0.04526759],\n",
       "       [-0.03294694,  0.04406265],\n",
       "       [ 0.00567443,  0.02216823],\n",
       "       [ 0.01480174, -0.0254536 ],\n",
       "       [-0.00249092,  0.01458105],\n",
       "       [-0.04685931,  0.0456298 ],\n",
       "       [-0.00415572,  0.03907143],\n",
       "       [ 0.04918016, -0.00439984],\n",
       "       [ 0.0182617 , -0.01173682],\n",
       "       [-0.02679716, -0.01801529],\n",
       "       [-0.00402814, -0.00355492],\n",
       "       [ 0.0207842 ,  0.03439024]], dtype=float32)"
      ]
     },
     "execution_count": 49,
     "metadata": {},
     "output_type": "execute_result"
    }
   ],
   "source": [
    "model.get_weights()[0]"
   ]
  },
  {
   "cell_type": "code",
   "execution_count": 46,
   "metadata": {},
   "outputs": [
    {
     "name": "stdout",
     "output_type": "stream",
     "text": [
      "\u001b[1m1/1\u001b[0m \u001b[32m━━━━━━━━━━━━━━━━━━━━\u001b[0m\u001b[37m\u001b[0m \u001b[1m0s\u001b[0m 34ms/step\n"
     ]
    },
    {
     "data": {
      "text/plain": [
       "array([[[ 0.01480174, -0.0254536 ],\n",
       "        [ 0.03947176,  0.0268794 ],\n",
       "        [ 0.00602865, -0.03288539],\n",
       "        [ 0.00602865, -0.03288539],\n",
       "        [ 0.00602865, -0.03288539]],\n",
       "\n",
       "       [[ 0.03947176,  0.0268794 ],\n",
       "        [ 0.03947176,  0.0268794 ],\n",
       "        [ 0.00602865, -0.03288539],\n",
       "        [ 0.00602865, -0.03288539],\n",
       "        [ 0.00602865, -0.03288539]],\n",
       "\n",
       "       [[-0.02680014, -0.03983754],\n",
       "        [-0.02680014, -0.03983754],\n",
       "        [-0.00249092,  0.01458105],\n",
       "        [ 0.00602865, -0.03288539],\n",
       "        [ 0.00602865, -0.03288539]],\n",
       "\n",
       "       [[ 0.03893964, -0.03429698],\n",
       "        [-0.04685931,  0.0456298 ],\n",
       "        [ 0.03893964, -0.03429698],\n",
       "        [ 0.03947176,  0.0268794 ],\n",
       "        [ 0.03893964, -0.03429698]],\n",
       "\n",
       "       [[-0.00415572,  0.03907143],\n",
       "        [ 0.04918016, -0.00439984],\n",
       "        [ 0.04147157,  0.03420199],\n",
       "        [ 0.00440959,  0.04548777],\n",
       "        [ 0.00602865, -0.03288539]],\n",
       "\n",
       "       [[-0.04998624, -0.04526759],\n",
       "        [-0.04998624, -0.04526759],\n",
       "        [ 0.00602865, -0.03288539],\n",
       "        [ 0.00602865, -0.03288539],\n",
       "        [ 0.00602865, -0.03288539]],\n",
       "\n",
       "       [[-0.03294694,  0.04406265],\n",
       "        [-0.03294694,  0.04406265],\n",
       "        [ 0.00602865, -0.03288539],\n",
       "        [ 0.00602865, -0.03288539],\n",
       "        [ 0.00602865, -0.03288539]],\n",
       "\n",
       "       [[ 0.00567443,  0.02216823],\n",
       "        [ 0.00567443,  0.02216823],\n",
       "        [ 0.00602865, -0.03288539],\n",
       "        [ 0.00602865, -0.03288539],\n",
       "        [ 0.00602865, -0.03288539]],\n",
       "\n",
       "       [[ 0.0182617 , -0.01173682],\n",
       "        [-0.02679716, -0.01801529],\n",
       "        [ 0.04147157,  0.03420199],\n",
       "        [ 0.00440959,  0.04548777],\n",
       "        [ 0.00602865, -0.03288539]],\n",
       "\n",
       "       [[-0.00402814, -0.00355492],\n",
       "        [ 0.0207842 ,  0.03439024],\n",
       "        [ 0.00602865, -0.03288539],\n",
       "        [ 0.00602865, -0.03288539],\n",
       "        [ 0.00602865, -0.03288539]]], dtype=float32)"
      ]
     },
     "execution_count": 46,
     "metadata": {},
     "output_type": "execute_result"
    }
   ],
   "source": [
    "pred = model.predict(sequesces)\n",
    "pred"
   ]
  }
 ],
 "metadata": {
  "kernelspec": {
   "display_name": "venvML",
   "language": "python",
   "name": "python3"
  },
  "language_info": {
   "codemirror_mode": {
    "name": "ipython",
    "version": 3
   },
   "file_extension": ".py",
   "mimetype": "text/x-python",
   "name": "python",
   "nbconvert_exporter": "python",
   "pygments_lexer": "ipython3",
   "version": "3.12.3"
  }
 },
 "nbformat": 4,
 "nbformat_minor": 2
}
