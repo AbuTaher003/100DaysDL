{
 "cells": [
  {
   "cell_type": "markdown",
   "metadata": {},
   "source": [
    "<br>\n",
    "<br>\n",
    "\n",
    "# `#1. getting started with pytorch: `\n",
    "\n",
    "<br>\n",
    "<br>"
   ]
  },
  {
   "cell_type": "code",
   "execution_count": 5,
   "metadata": {},
   "outputs": [
    {
     "data": {
      "text/plain": [
       "'2.5.1+cu124'"
      ]
     },
     "execution_count": 5,
     "metadata": {},
     "output_type": "execute_result"
    }
   ],
   "source": [
    "import torch \n",
    "import tensorflow as tf\n",
    "torch.__version__"
   ]
  },
  {
   "cell_type": "markdown",
   "metadata": {},
   "source": [
    "---\n",
    "\n",
    "<br>\n",
    "\n",
    "# `#1.1 Introduction to tensor in pytorch: `\n",
    "\n",
    "<br>\n",
    "\n",
    "---"
   ]
  },
  {
   "cell_type": "markdown",
   "metadata": {},
   "source": [
    "<br>\n",
    "\n",
    "#### `1.1.1: scalar in tensorflow and troch: `\n",
    "\n",
    "<br>"
   ]
  },
  {
   "cell_type": "code",
   "execution_count": 13,
   "metadata": {},
   "outputs": [
    {
     "name": "stdout",
     "output_type": "stream",
     "text": [
      "tf.Tensor(8.0, shape=(), dtype=float64)\n",
      "data type: <dtype: 'float64'>\n",
      "dimention:  0\n",
      "<class 'tensorflow.python.framework.ops.EagerTensor'>\n"
     ]
    }
   ],
   "source": [
    "# scalar tensor in tensorflow:\n",
    "scalar = tf.constant(8,dtype=tf.float64)\n",
    "print(scalar)\n",
    "print(\"data type:\", scalar.dtype)\n",
    "print(\"dimention: \", scalar.ndim)\n",
    "print(type(scalar))"
   ]
  },
  {
   "cell_type": "code",
   "execution_count": 14,
   "metadata": {},
   "outputs": [
    {
     "name": "stdout",
     "output_type": "stream",
     "text": [
      "tensor(8.)\n",
      "0\n",
      "torch.float32\n",
      "<class 'torch.Tensor'>\n"
     ]
    }
   ],
   "source": [
    "# scalar tensor in torch \n",
    "scalar = torch.tensor(8,dtype=torch.float32)\n",
    "print(scalar)\n",
    "print(scalar.ndim)\n",
    "print(scalar.dtype)\n",
    "print(type(scalar))"
   ]
  },
  {
   "cell_type": "markdown",
   "metadata": {},
   "source": [
    "\n",
    "<br>\n",
    "\n",
    "#### `1.1.2 vector in tensorflow and torch: `\n",
    "\n",
    "-> A \"vector\" or \"rank-1\" tensor is like a list of values. A vector has one axis:\n",
    "\n",
    "<br>"
   ]
  },
  {
   "cell_type": "code",
   "execution_count": 19,
   "metadata": {},
   "outputs": [
    {
     "name": "stdout",
     "output_type": "stream",
     "text": [
      "tf.Tensor([1. 2. 3.], shape=(3,), dtype=float32)\n",
      "dimention:  1\n",
      "shape: (3,)\n",
      "<dtype: 'float32'>\n",
      "<class 'tensorflow.python.framework.ops.EagerTensor'>\n"
     ]
    }
   ],
   "source": [
    "# vector in tensorflow: \n",
    "vector_rank_1 = tf.constant([1, 2, 3],dtype=tf.float32)\n",
    "print(vector_rank_1)\n",
    "print(\"dimention: \", vector_rank_1.ndim)\n",
    "print(\"shape:\", vector_rank_1.shape)\n",
    "print(vector_rank_1.dtype)\n",
    "print(type(vector_rank_1))"
   ]
  },
  {
   "cell_type": "code",
   "execution_count": 20,
   "metadata": {},
   "outputs": [
    {
     "name": "stdout",
     "output_type": "stream",
     "text": [
      "tensor([1, 2, 3])\n",
      "dimention:  1\n",
      "shape: torch.Size([3])\n",
      "torch.int64\n",
      "<class 'torch.Tensor'>\n"
     ]
    }
   ],
   "source": [
    "# vector in torch:\n",
    "vector_rank_1 = torch.tensor([1,2,3],dtype=torch.int64)\n",
    "print(vector_rank_1)\n",
    "print(\"dimention: \", vector_rank_1.ndim)\n",
    "print(\"shape:\", vector_rank_1.shape)\n",
    "print(vector_rank_1.dtype)\n",
    "print(type(vector_rank_1))"
   ]
  },
  {
   "cell_type": "markdown",
   "metadata": {},
   "source": [
    "<br>\n",
    "\n",
    "#### `#1.1.3 matrix in tensorflow and torch: `\n",
    "-> A \"matrix\" or \"rank-2\" tensor has two axes:\n",
    "<br>"
   ]
  },
  {
   "cell_type": "code",
   "execution_count": 22,
   "metadata": {},
   "outputs": [
    {
     "name": "stdout",
     "output_type": "stream",
     "text": [
      "tf.Tensor(\n",
      "[[1 2]\n",
      " [3 4]\n",
      " [5 6]], shape=(3, 2), dtype=int8)\n",
      "dimention:  2\n",
      "shape: (3, 2)\n",
      "<dtype: 'int8'>\n",
      "<class 'tensorflow.python.framework.ops.EagerTensor'>\n"
     ]
    }
   ],
   "source": [
    "\n",
    "# matrix in tensorflow: \n",
    "matrix_rank_2 = tf.constant([[1,2],\n",
    "                             [3,4],\n",
    "                             [5,6]],dtype=tf.int8)\n",
    "\n",
    "print(matrix_rank_2)\n",
    "print(\"dimention: \", matrix_rank_2.ndim)\n",
    "print(\"shape:\", matrix_rank_2.shape)\n",
    "print(matrix_rank_2.dtype)\n",
    "print(type(matrix_rank_2))\n"
   ]
  },
  {
   "cell_type": "code",
   "execution_count": 23,
   "metadata": {},
   "outputs": [
    {
     "name": "stdout",
     "output_type": "stream",
     "text": [
      "tensor([[1, 2],\n",
      "        [2, 3],\n",
      "        [3, 4]])\n",
      "dimention:  2\n",
      "shape: torch.Size([3, 2])\n",
      "torch.int64\n",
      "<class 'torch.Tensor'>\n"
     ]
    }
   ],
   "source": [
    "# matrix in torch:\n",
    "matrix_rank_2 = torch.tensor([[1,2],\n",
    "                              [2,3],\n",
    "                              [3,4]],dtype=torch.long)\n",
    "print(matrix_rank_2)\n",
    "print(\"dimention: \", matrix_rank_2.ndim)\n",
    "print(\"shape:\", matrix_rank_2.shape)\n",
    "print(matrix_rank_2.dtype)\n",
    "print(type(matrix_rank_2))\n"
   ]
  },
  {
   "cell_type": "markdown",
   "metadata": {},
   "source": [
    "<br>\n",
    "\n",
    "#### `#1.1.4 tensor in tensorflow and torch: `\n",
    "-> grather than rank_2\n",
    "<br>"
   ]
  },
  {
   "cell_type": "code",
   "execution_count": 24,
   "metadata": {},
   "outputs": [
    {
     "name": "stdout",
     "output_type": "stream",
     "text": [
      "tf.Tensor(\n",
      "[[[1 2 3]\n",
      "  [4 5 6]]], shape=(1, 2, 3), dtype=int16)\n",
      "dimention:  3\n",
      "shape: (1, 2, 3)\n",
      "<dtype: 'int16'>\n",
      "<class 'tensorflow.python.framework.ops.EagerTensor'>\n"
     ]
    }
   ],
   "source": [
    "#tensor with tensorflow: \n",
    "rank_3_tensors  = tf.constant([[[1,2,3],\n",
    "                                [4,5,6]]],dtype=tf.int16)\n",
    "print(rank_3_tensors)\n",
    "print(\"dimention: \", rank_3_tensors.ndim)\n",
    "print(\"shape:\", rank_3_tensors.shape)\n",
    "print(rank_3_tensors.dtype)\n",
    "print(type(rank_3_tensors))\n"
   ]
  },
  {
   "cell_type": "code",
   "execution_count": 26,
   "metadata": {},
   "outputs": [
    {
     "name": "stdout",
     "output_type": "stream",
     "text": [
      "tf.Tensor(\n",
      "[[[1 2 3]\n",
      "  [4 5 6]]\n",
      "\n",
      " [[1 2 3]\n",
      "  [4 5 6]]], shape=(2, 2, 3), dtype=int16)\n",
      "dimention:  3\n",
      "shape: (2, 2, 3)\n",
      "<dtype: 'int16'>\n",
      "<class 'tensorflow.python.framework.ops.EagerTensor'>\n"
     ]
    }
   ],
   "source": [
    "#tensor with tensorflow: \n",
    "rank_3_tensors  = tf.constant([[[1,2,3],\n",
    "                                [4,5,6]],\n",
    "                               [[1,2,3],\n",
    "                                [4,5,6]]],dtype=tf.int16)\n",
    "print(rank_3_tensors)\n",
    "print(\"dimention: \", rank_3_tensors.ndim)\n",
    "print(\"shape:\", rank_3_tensors.shape)\n",
    "print(rank_3_tensors.dtype)\n",
    "print(type(rank_3_tensors))"
   ]
  },
  {
   "cell_type": "code",
   "execution_count": 28,
   "metadata": {},
   "outputs": [
    {
     "name": "stdout",
     "output_type": "stream",
     "text": [
      "tensor([[[1, 2, 3],\n",
      "         [4, 5, 6]],\n",
      "\n",
      "        [[1, 2, 3],\n",
      "         [4, 5, 6]]])\n",
      "dimention:  3\n",
      "shape: torch.Size([2, 2, 3])\n",
      "torch.int64\n",
      "<class 'torch.Tensor'>\n"
     ]
    }
   ],
   "source": [
    "#tensor with pytorch: \n",
    "rank_3_tensors  = torch.tensor([[[1,2,3],\n",
    "                                [4,5,6]],\n",
    "                               [[1,2,3],\n",
    "                                [4,5,6]]],dtype=torch.int64)\n",
    "print(rank_3_tensors)\n",
    "print(\"dimention: \", rank_3_tensors.ndim)\n",
    "print(\"shape:\", rank_3_tensors.shape)\n",
    "print(rank_3_tensors.dtype)\n",
    "print(type(rank_3_tensors))"
   ]
  },
  {
   "cell_type": "markdown",
   "metadata": {},
   "source": [
    "<br>\n",
    "\n",
    "# `#1.1.5 make random tensor in tensorflow and pytorch: `\n",
    "\n",
    "<br>"
   ]
  },
  {
   "cell_type": "code",
   "execution_count": 44,
   "metadata": {},
   "outputs": [
    {
     "name": "stdout",
     "output_type": "stream",
     "text": [
      "tf.Tensor(\n",
      "[[[0.7927805  0.6472974  0.5189899  0.41505027]]\n",
      "\n",
      " [[0.9578258  0.29722786 0.1303531  0.05340147]]\n",
      "\n",
      " [[0.9496119  0.9112023  0.23980725 0.49721563]]], shape=(3, 1, 4), dtype=float32)\n",
      "\n",
      "Dimention:  3\n"
     ]
    }
   ],
   "source": [
    "#make a random tensor in tensorflow:\n",
    "random_tensor = tf.random.uniform(shape=(3,1,4))\n",
    "print(random_tensor)\n",
    "print()\n",
    "print(\"Dimention: \",random_tensor.ndim)"
   ]
  },
  {
   "cell_type": "code",
   "execution_count": 42,
   "metadata": {},
   "outputs": [
    {
     "name": "stdout",
     "output_type": "stream",
     "text": [
      "tensor([[[0.1839, 0.2321, 0.6647, 0.7850],\n",
      "         [0.7336, 0.7852, 0.2125, 0.4196],\n",
      "         [0.5224, 0.5281, 0.0537, 0.2556],\n",
      "         [0.7978, 0.8297, 0.8404, 0.4743]],\n",
      "\n",
      "        [[0.9162, 0.7947, 0.8838, 0.1013],\n",
      "         [0.5489, 0.4668, 0.1096, 0.3250],\n",
      "         [0.5347, 0.5197, 0.8337, 0.3613],\n",
      "         [0.1432, 0.0761, 0.6803, 0.2078]],\n",
      "\n",
      "        [[0.8781, 0.0720, 0.3168, 0.0594],\n",
      "         [0.9171, 0.7201, 0.7666, 0.9717],\n",
      "         [0.1766, 0.3491, 0.8245, 0.7631],\n",
      "         [0.6232, 0.0665, 0.2374, 0.9885]],\n",
      "\n",
      "        [[0.9225, 0.9715, 0.8563, 0.1454],\n",
      "         [0.6629, 0.9514, 0.9545, 0.6575],\n",
      "         [0.1733, 0.9662, 0.4924, 0.4752],\n",
      "         [0.3186, 0.7979, 0.3142, 0.1174]],\n",
      "\n",
      "        [[0.5644, 0.3015, 0.0523, 0.2514],\n",
      "         [0.1940, 0.7421, 0.6760, 0.7744],\n",
      "         [0.2999, 0.9153, 0.8587, 0.4782],\n",
      "         [0.9021, 0.7871, 0.7808, 0.7652]]])\n",
      "\n",
      "Dimention:  3\n",
      "Shape:  torch.Size([5, 4, 4])\n"
     ]
    }
   ],
   "source": [
    "\n",
    "random_tensor = torch.rand(5,4,4)\n",
    "print(random_tensor)\n",
    "print()\n",
    "print(\"Dimention: \", random_tensor.ndim)\n",
    "print(\"Shape: \",random_tensor.shape)"
   ]
  },
  {
   "cell_type": "markdown",
   "metadata": {},
   "source": [
    "<br>\n",
    "\n",
    "# `#1.1.6 make zero and one tensor:  `\n",
    "\n",
    "<br>"
   ]
  },
  {
   "cell_type": "code",
   "execution_count": 47,
   "metadata": {},
   "outputs": [
    {
     "name": "stdout",
     "output_type": "stream",
     "text": [
      "tf.Tensor(\n",
      "[[[0. 0. 0.]\n",
      "  [0. 0. 0.]]], shape=(1, 2, 3), dtype=float32)\n"
     ]
    }
   ],
   "source": [
    "# with tensorflow: zero \n",
    "\n",
    "zero_tensor = tf.zeros(shape=(1,2,3),dtype=tf.float32)\n",
    "print(zero_tensor)"
   ]
  },
  {
   "cell_type": "code",
   "execution_count": 48,
   "metadata": {},
   "outputs": [
    {
     "name": "stdout",
     "output_type": "stream",
     "text": [
      "tf.Tensor(\n",
      "[[[1. 1. 1. 1.]\n",
      "  [1. 1. 1. 1.]\n",
      "  [1. 1. 1. 1.]]\n",
      "\n",
      " [[1. 1. 1. 1.]\n",
      "  [1. 1. 1. 1.]\n",
      "  [1. 1. 1. 1.]]], shape=(2, 3, 4), dtype=float32)\n"
     ]
    }
   ],
   "source": [
    "#with tensorflow: one\n",
    "\n",
    "one_tensor = tf.ones(shape=(2,3,4),dtype=tf.float32)\n",
    "print(one_tensor)"
   ]
  },
  {
   "cell_type": "code",
   "execution_count": 54,
   "metadata": {},
   "outputs": [
    {
     "name": "stdout",
     "output_type": "stream",
     "text": [
      "tensor([[[0, 0, 0],\n",
      "         [0, 0, 0]]], dtype=torch.int8)\n"
     ]
    }
   ],
   "source": [
    "# with torch: zero\n",
    "zero_tensor = torch.zeros(size=(1,2,3),dtype=torch.int8)\n",
    "print(zero_tensor)"
   ]
  },
  {
   "cell_type": "code",
   "execution_count": 55,
   "metadata": {},
   "outputs": [
    {
     "name": "stdout",
     "output_type": "stream",
     "text": [
      "tensor([[[1, 1, 1],\n",
      "         [1, 1, 1]]], dtype=torch.int8)\n"
     ]
    }
   ],
   "source": [
    "# with torch: one\n",
    "one_tensor = torch.ones(size=(1,2,3),dtype=torch.int8)\n",
    "print(one_tensor)"
   ]
  },
  {
   "cell_type": "markdown",
   "metadata": {},
   "source": [
    "<br>\n",
    "\n",
    "# `#1.1.7 tensor with arrange: `\n",
    "\n",
    "<br>"
   ]
  },
  {
   "cell_type": "code",
   "execution_count": 58,
   "metadata": {},
   "outputs": [
    {
     "name": "stdout",
     "output_type": "stream",
     "text": [
      "tf.Tensor([0 1 2 3 4 5 6 7 8 9], shape=(10,), dtype=int32)\n"
     ]
    }
   ],
   "source": [
    "# with tensorflow:\n",
    "\n",
    "tensor_arrange = tf.range(start=0,limit=10,delta=1)\n",
    "print(tensor_arrange)"
   ]
  },
  {
   "cell_type": "code",
   "execution_count": 60,
   "metadata": {},
   "outputs": [
    {
     "name": "stdout",
     "output_type": "stream",
     "text": [
      "tensor([ 1,  2,  3,  4,  5,  6,  7,  8,  9, 10, 11, 12, 13, 14, 15, 16, 17, 18,\n",
      "        19])\n",
      "tensor([ 0.,  2.,  4.,  6.,  8., 10.])\n"
     ]
    },
    {
     "name": "stderr",
     "output_type": "stream",
     "text": [
      "/tmp/ipykernel_62843/426032705.py:5: UserWarning: torch.range is deprecated and will be removed in a future release because its behavior is inconsistent with Python's range builtin. Instead, use torch.arange, which produces values in [start, end).\n",
      "  tensor_arrange = torch.range(start=0,end=10,step=2)\n"
     ]
    }
   ],
   "source": [
    "# with pytorch:\n",
    "tensor_arrange = torch.arange(start=1,end=20)\n",
    "print(tensor_arrange)\n",
    "\n",
    "tensor_arrange = torch.range(start=0,end=10,step=2)\n",
    "print(tensor_arrange)"
   ]
  },
  {
   "cell_type": "markdown",
   "metadata": {},
   "source": [
    "<br>\n",
    "<br>\n",
    "\n",
    "# `#1.1.8 make ones or zeros, tensor like: `\n",
    "\n",
    "<br>\n",
    "<br>"
   ]
  },
  {
   "cell_type": "code",
   "execution_count": 61,
   "metadata": {},
   "outputs": [
    {
     "name": "stdout",
     "output_type": "stream",
     "text": [
      "tf.Tensor(\n",
      "[[[0. 0. 0. 0.]\n",
      "  [0. 0. 0. 0.]\n",
      "  [0. 0. 0. 0.]]\n",
      "\n",
      " [[0. 0. 0. 0.]\n",
      "  [0. 0. 0. 0.]\n",
      "  [0. 0. 0. 0.]]\n",
      "\n",
      " [[0. 0. 0. 0.]\n",
      "  [0. 0. 0. 0.]\n",
      "  [0. 0. 0. 0.]]\n",
      "\n",
      " [[0. 0. 0. 0.]\n",
      "  [0. 0. 0. 0.]\n",
      "  [0. 0. 0. 0.]]\n",
      "\n",
      " [[0. 0. 0. 0.]\n",
      "  [0. 0. 0. 0.]\n",
      "  [0. 0. 0. 0.]]], shape=(5, 3, 4), dtype=float32)\n"
     ]
    }
   ],
   "source": [
    "# with tensorflow: \n",
    "image = tf.random.uniform(shape=(5,3,4))\n",
    "zero_like = tf.zeros_like(image)\n",
    "print(zero_like)"
   ]
  },
  {
   "cell_type": "code",
   "execution_count": 63,
   "metadata": {},
   "outputs": [
    {
     "name": "stdout",
     "output_type": "stream",
     "text": [
      "tensor([[[1., 1., 1., 1.],\n",
      "         [1., 1., 1., 1.],\n",
      "         [1., 1., 1., 1.]],\n",
      "\n",
      "        [[1., 1., 1., 1.],\n",
      "         [1., 1., 1., 1.],\n",
      "         [1., 1., 1., 1.]],\n",
      "\n",
      "        [[1., 1., 1., 1.],\n",
      "         [1., 1., 1., 1.],\n",
      "         [1., 1., 1., 1.]],\n",
      "\n",
      "        [[1., 1., 1., 1.],\n",
      "         [1., 1., 1., 1.],\n",
      "         [1., 1., 1., 1.]],\n",
      "\n",
      "        [[1., 1., 1., 1.],\n",
      "         [1., 1., 1., 1.],\n",
      "         [1., 1., 1., 1.]]], dtype=torch.float16)\n"
     ]
    }
   ],
   "source": [
    "# with pytorch:\n",
    "image = torch.rand(size=(5,3,4),dtype=torch.float16)\n",
    "one_like = torch.ones_like(image)\n",
    "print(one_like)"
   ]
  },
  {
   "cell_type": "markdown",
   "metadata": {},
   "source": [
    "<br>\n",
    "<br>\n",
    "\n",
    "# `#1.1.8 make indentity matrix with tensorflow and pytorch`\n",
    "\n",
    "<br>\n",
    "<br>"
   ]
  },
  {
   "cell_type": "code",
   "execution_count": 64,
   "metadata": {},
   "outputs": [
    {
     "name": "stdout",
     "output_type": "stream",
     "text": [
      "tf.Tensor(\n",
      "[[1. 0. 0. 0.]\n",
      " [0. 1. 0. 0.]\n",
      " [0. 0. 1. 0.]\n",
      " [0. 0. 0. 1.]], shape=(4, 4), dtype=float32)\n"
     ]
    }
   ],
   "source": [
    "# with tensorflow: \n",
    "identity = tf.eye(4)\n",
    "print(identity)"
   ]
  },
  {
   "cell_type": "code",
   "execution_count": 65,
   "metadata": {},
   "outputs": [
    {
     "name": "stdout",
     "output_type": "stream",
     "text": [
      "tensor([[1., 0., 0., 0., 0.],\n",
      "        [0., 1., 0., 0., 0.],\n",
      "        [0., 0., 1., 0., 0.],\n",
      "        [0., 0., 0., 1., 0.],\n",
      "        [0., 0., 0., 0., 1.]])\n"
     ]
    }
   ],
   "source": [
    "# with pytorch:\n",
    "identity  = torch.eye(5)\n",
    "print(identity)"
   ]
  },
  {
   "cell_type": "markdown",
   "metadata": {},
   "source": [
    "<br>\n",
    "<br>\n",
    "\n",
    "# `1.1.9 make a tensor with same value tensorflow and pytorch: `\n",
    "\n",
    "<br>\n",
    "<br>"
   ]
  },
  {
   "cell_type": "code",
   "execution_count": 72,
   "metadata": {},
   "outputs": [
    {
     "name": "stdout",
     "output_type": "stream",
     "text": [
      "tf.Tensor(\n",
      "[[[3 3]\n",
      "  [3 3]\n",
      "  [3 3]\n",
      "  [3 3]\n",
      "  [3 3]]\n",
      "\n",
      " [[3 3]\n",
      "  [3 3]\n",
      "  [3 3]\n",
      "  [3 3]\n",
      "  [3 3]]], shape=(2, 5, 2), dtype=int32)\n"
     ]
    }
   ],
   "source": [
    "# with tensorflow:\n",
    "full_tensor = tf.fill(dims=(2,5,2),value=3)\n",
    "print(full_tensor)"
   ]
  },
  {
   "cell_type": "code",
   "execution_count": 69,
   "metadata": {},
   "outputs": [
    {
     "name": "stdout",
     "output_type": "stream",
     "text": [
      "tensor([[5, 5, 5],\n",
      "        [5, 5, 5],\n",
      "        [5, 5, 5]])\n"
     ]
    }
   ],
   "source": [
    "# with tensorflow:\n",
    "full_tensor = torch.full(size=(3,3),fill_value=5)\n",
    "print(full_tensor)"
   ]
  },
  {
   "cell_type": "markdown",
   "metadata": {},
   "source": [
    "<br>\n",
    "<br>\n",
    "\n",
    "# `#1.1.10: equally distributaed number: (when we line: )`\n",
    "<br>\n",
    "<br>"
   ]
  },
  {
   "cell_type": "code",
   "execution_count": 77,
   "metadata": {},
   "outputs": [
    {
     "name": "stdout",
     "output_type": "stream",
     "text": [
      "tf.Tensor([1.   2.75 4.5  6.25 8.  ], shape=(5,), dtype=float64)\n"
     ]
    }
   ],
   "source": [
    "#with tensorflow:\n",
    "line_space = tf.linspace(start=1,stop=8,num=5)\n",
    "print(line_space)"
   ]
  },
  {
   "cell_type": "code",
   "execution_count": 76,
   "metadata": {},
   "outputs": [
    {
     "name": "stdout",
     "output_type": "stream",
     "text": [
      "tensor([ 1,  3,  5,  7, 10], dtype=torch.int8)\n"
     ]
    }
   ],
   "source": [
    "#with torch: \n",
    "line_space = torch.linspace(start=1,end=10,steps=5,dtype=torch.int8)\n",
    "print(line_space)"
   ]
  },
  {
   "cell_type": "markdown",
   "metadata": {},
   "source": [
    "<br>\n",
    "<br>\n",
    "\n",
    "# `# 1.2 Datatype: `\n",
    "\n",
    "<br>\n",
    "<br>"
   ]
  },
  {
   "cell_type": "markdown",
   "metadata": {},
   "source": [
    "\n",
    "`Back propagation and Forward propagation এর সময়, আমাদের ভ্যালু গুলো point(0.001) আকারে পরিবর্তন হয় । যদি, আমাদের data type high হয় তাহলে আমরা অনেক accurate value store করতে পারি । like: float32 এর চেয়ে float64 এ accurate ভ্যালু পাওয়া যাবে । পাশাপাশি, computation float32 এর থেকে float64 slow হয় । `\n"
   ]
  }
 ],
 "metadata": {
  "kernelspec": {
   "display_name": "venvML",
   "language": "python",
   "name": "python3"
  },
  "language_info": {
   "codemirror_mode": {
    "name": "ipython",
    "version": 3
   },
   "file_extension": ".py",
   "mimetype": "text/x-python",
   "name": "python",
   "nbconvert_exporter": "python",
   "pygments_lexer": "ipython3",
   "version": "3.12.7"
  }
 },
 "nbformat": 4,
 "nbformat_minor": 2
}
