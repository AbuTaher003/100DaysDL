{
 "cells": [
  {
   "cell_type": "markdown",
   "metadata": {},
   "source": [
    "<br>\n",
    "<br>\n",
    "\n",
    "# `#1. getting started with pytorch: `\n",
    "\n",
    "<br>\n",
    "<br>"
   ]
  },
  {
   "cell_type": "code",
   "execution_count": 5,
   "metadata": {},
   "outputs": [
    {
     "data": {
      "text/plain": [
       "'2.5.1+cu124'"
      ]
     },
     "execution_count": 5,
     "metadata": {},
     "output_type": "execute_result"
    }
   ],
   "source": [
    "import torch \n",
    "import tensorflow as tf\n",
    "torch.__version__"
   ]
  },
  {
   "cell_type": "markdown",
   "metadata": {},
   "source": [
    "---\n",
    "\n",
    "<br>\n",
    "\n",
    "# `#1.1 Introduction to tensor in pytorch: `\n",
    "\n",
    "<br>\n",
    "\n",
    "---"
   ]
  },
  {
   "cell_type": "markdown",
   "metadata": {},
   "source": [
    "<br>\n",
    "\n",
    "#### `1.1.1: scalar in tensorflow and troch: `\n",
    "\n",
    "<br>"
   ]
  },
  {
   "cell_type": "code",
   "execution_count": 13,
   "metadata": {},
   "outputs": [
    {
     "name": "stdout",
     "output_type": "stream",
     "text": [
      "tf.Tensor(8.0, shape=(), dtype=float64)\n",
      "data type: <dtype: 'float64'>\n",
      "dimention:  0\n",
      "<class 'tensorflow.python.framework.ops.EagerTensor'>\n"
     ]
    }
   ],
   "source": [
    "# scalar tensor in tensorflow:\n",
    "scalar = tf.constant(8,dtype=tf.float64)\n",
    "print(scalar)\n",
    "print(\"data type:\", scalar.dtype)\n",
    "print(\"dimention: \", scalar.ndim)\n",
    "print(type(scalar))"
   ]
  },
  {
   "cell_type": "code",
   "execution_count": 14,
   "metadata": {},
   "outputs": [
    {
     "name": "stdout",
     "output_type": "stream",
     "text": [
      "tensor(8.)\n",
      "0\n",
      "torch.float32\n",
      "<class 'torch.Tensor'>\n"
     ]
    }
   ],
   "source": [
    "# scalar tensor in torch \n",
    "scalar = torch.tensor(8,dtype=torch.float32)\n",
    "print(scalar)\n",
    "print(scalar.ndim)\n",
    "print(scalar.dtype)\n",
    "print(type(scalar))"
   ]
  },
  {
   "cell_type": "markdown",
   "metadata": {},
   "source": [
    "\n",
    "<br>\n",
    "\n",
    "#### `1.1.2 vector in tensorflow and torch: `\n",
    "\n",
    "-> A \"vector\" or \"rank-1\" tensor is like a list of values. A vector has one axis:\n",
    "\n",
    "<br>"
   ]
  },
  {
   "cell_type": "code",
   "execution_count": 19,
   "metadata": {},
   "outputs": [
    {
     "name": "stdout",
     "output_type": "stream",
     "text": [
      "tf.Tensor([1. 2. 3.], shape=(3,), dtype=float32)\n",
      "dimention:  1\n",
      "shape: (3,)\n",
      "<dtype: 'float32'>\n",
      "<class 'tensorflow.python.framework.ops.EagerTensor'>\n"
     ]
    }
   ],
   "source": [
    "# vector in tensorflow: \n",
    "vector_rank_1 = tf.constant([1, 2, 3],dtype=tf.float32)\n",
    "print(vector_rank_1)\n",
    "print(\"dimention: \", vector_rank_1.ndim)\n",
    "print(\"shape:\", vector_rank_1.shape)\n",
    "print(vector_rank_1.dtype)\n",
    "print(type(vector_rank_1))"
   ]
  },
  {
   "cell_type": "code",
   "execution_count": 20,
   "metadata": {},
   "outputs": [
    {
     "name": "stdout",
     "output_type": "stream",
     "text": [
      "tensor([1, 2, 3])\n",
      "dimention:  1\n",
      "shape: torch.Size([3])\n",
      "torch.int64\n",
      "<class 'torch.Tensor'>\n"
     ]
    }
   ],
   "source": [
    "# vector in torch:\n",
    "vector_rank_1 = torch.tensor([1,2,3],dtype=torch.int64)\n",
    "print(vector_rank_1)\n",
    "print(\"dimention: \", vector_rank_1.ndim)\n",
    "print(\"shape:\", vector_rank_1.shape)\n",
    "print(vector_rank_1.dtype)\n",
    "print(type(vector_rank_1))"
   ]
  },
  {
   "cell_type": "markdown",
   "metadata": {},
   "source": [
    "<br>\n",
    "\n",
    "#### `#1.1.3 matrix in tensorflow and torch: `\n",
    "-> A \"matrix\" or \"rank-2\" tensor has two axes:\n",
    "<br>"
   ]
  },
  {
   "cell_type": "code",
   "execution_count": 22,
   "metadata": {},
   "outputs": [
    {
     "name": "stdout",
     "output_type": "stream",
     "text": [
      "tf.Tensor(\n",
      "[[1 2]\n",
      " [3 4]\n",
      " [5 6]], shape=(3, 2), dtype=int8)\n",
      "dimention:  2\n",
      "shape: (3, 2)\n",
      "<dtype: 'int8'>\n",
      "<class 'tensorflow.python.framework.ops.EagerTensor'>\n"
     ]
    }
   ],
   "source": [
    "\n",
    "# matrix in tensorflow: \n",
    "matrix_rank_2 = tf.constant([[1,2],\n",
    "                             [3,4],\n",
    "                             [5,6]],dtype=tf.int8)\n",
    "\n",
    "print(matrix_rank_2)\n",
    "print(\"dimention: \", matrix_rank_2.ndim)\n",
    "print(\"shape:\", matrix_rank_2.shape)\n",
    "print(matrix_rank_2.dtype)\n",
    "print(type(matrix_rank_2))\n"
   ]
  },
  {
   "cell_type": "code",
   "execution_count": 23,
   "metadata": {},
   "outputs": [
    {
     "name": "stdout",
     "output_type": "stream",
     "text": [
      "tensor([[1, 2],\n",
      "        [2, 3],\n",
      "        [3, 4]])\n",
      "dimention:  2\n",
      "shape: torch.Size([3, 2])\n",
      "torch.int64\n",
      "<class 'torch.Tensor'>\n"
     ]
    }
   ],
   "source": [
    "# matrix in torch:\n",
    "matrix_rank_2 = torch.tensor([[1,2],\n",
    "                              [2,3],\n",
    "                              [3,4]],dtype=torch.long)\n",
    "print(matrix_rank_2)\n",
    "print(\"dimention: \", matrix_rank_2.ndim)\n",
    "print(\"shape:\", matrix_rank_2.shape)\n",
    "print(matrix_rank_2.dtype)\n",
    "print(type(matrix_rank_2))\n"
   ]
  },
  {
   "cell_type": "markdown",
   "metadata": {},
   "source": [
    "<br>\n",
    "\n",
    "#### `#1.1.4 tensor in tensorflow and torch: `\n",
    "-> grather than rank_2\n",
    "<br>"
   ]
  },
  {
   "cell_type": "code",
   "execution_count": 24,
   "metadata": {},
   "outputs": [
    {
     "name": "stdout",
     "output_type": "stream",
     "text": [
      "tf.Tensor(\n",
      "[[[1 2 3]\n",
      "  [4 5 6]]], shape=(1, 2, 3), dtype=int16)\n",
      "dimention:  3\n",
      "shape: (1, 2, 3)\n",
      "<dtype: 'int16'>\n",
      "<class 'tensorflow.python.framework.ops.EagerTensor'>\n"
     ]
    }
   ],
   "source": [
    "#tensor with tensorflow: \n",
    "rank_3_tensors  = tf.constant([[[1,2,3],\n",
    "                                [4,5,6]]],dtype=tf.int16)\n",
    "print(rank_3_tensors)\n",
    "print(\"dimention: \", rank_3_tensors.ndim)\n",
    "print(\"shape:\", rank_3_tensors.shape)\n",
    "print(rank_3_tensors.dtype)\n",
    "print(type(rank_3_tensors))\n"
   ]
  },
  {
   "cell_type": "code",
   "execution_count": 26,
   "metadata": {},
   "outputs": [
    {
     "name": "stdout",
     "output_type": "stream",
     "text": [
      "tf.Tensor(\n",
      "[[[1 2 3]\n",
      "  [4 5 6]]\n",
      "\n",
      " [[1 2 3]\n",
      "  [4 5 6]]], shape=(2, 2, 3), dtype=int16)\n",
      "dimention:  3\n",
      "shape: (2, 2, 3)\n",
      "<dtype: 'int16'>\n",
      "<class 'tensorflow.python.framework.ops.EagerTensor'>\n"
     ]
    }
   ],
   "source": [
    "#tensor with tensorflow: \n",
    "rank_3_tensors  = tf.constant([[[1,2,3],\n",
    "                                [4,5,6]],\n",
    "                               [[1,2,3],\n",
    "                                [4,5,6]]],dtype=tf.int16)\n",
    "print(rank_3_tensors)\n",
    "print(\"dimention: \", rank_3_tensors.ndim)\n",
    "print(\"shape:\", rank_3_tensors.shape)\n",
    "print(rank_3_tensors.dtype)\n",
    "print(type(rank_3_tensors))"
   ]
  },
  {
   "cell_type": "code",
   "execution_count": 28,
   "metadata": {},
   "outputs": [
    {
     "name": "stdout",
     "output_type": "stream",
     "text": [
      "tensor([[[1, 2, 3],\n",
      "         [4, 5, 6]],\n",
      "\n",
      "        [[1, 2, 3],\n",
      "         [4, 5, 6]]])\n",
      "dimention:  3\n",
      "shape: torch.Size([2, 2, 3])\n",
      "torch.int64\n",
      "<class 'torch.Tensor'>\n"
     ]
    }
   ],
   "source": [
    "#tensor with pytorch: \n",
    "rank_3_tensors  = torch.tensor([[[1,2,3],\n",
    "                                [4,5,6]],\n",
    "                               [[1,2,3],\n",
    "                                [4,5,6]]],dtype=torch.int64)\n",
    "print(rank_3_tensors)\n",
    "print(\"dimention: \", rank_3_tensors.ndim)\n",
    "print(\"shape:\", rank_3_tensors.shape)\n",
    "print(rank_3_tensors.dtype)\n",
    "print(type(rank_3_tensors))"
   ]
  },
  {
   "cell_type": "markdown",
   "metadata": {},
   "source": [
    "<br>\n",
    "\n",
    "# `#1.1.5 make random tensor in tensorflow and pytorch: `\n",
    "\n",
    "<br>"
   ]
  },
  {
   "cell_type": "code",
   "execution_count": 44,
   "metadata": {},
   "outputs": [
    {
     "name": "stdout",
     "output_type": "stream",
     "text": [
      "tf.Tensor(\n",
      "[[[0.7927805  0.6472974  0.5189899  0.41505027]]\n",
      "\n",
      " [[0.9578258  0.29722786 0.1303531  0.05340147]]\n",
      "\n",
      " [[0.9496119  0.9112023  0.23980725 0.49721563]]], shape=(3, 1, 4), dtype=float32)\n",
      "\n",
      "Dimention:  3\n"
     ]
    }
   ],
   "source": [
    "#make a random tensor in tensorflow:\n",
    "random_tensor = tf.random.uniform(shape=(3,1,4))\n",
    "print(random_tensor)\n",
    "print()\n",
    "print(\"Dimention: \",random_tensor.ndim)"
   ]
  },
  {
   "cell_type": "code",
   "execution_count": 42,
   "metadata": {},
   "outputs": [
    {
     "name": "stdout",
     "output_type": "stream",
     "text": [
      "tensor([[[0.1839, 0.2321, 0.6647, 0.7850],\n",
      "         [0.7336, 0.7852, 0.2125, 0.4196],\n",
      "         [0.5224, 0.5281, 0.0537, 0.2556],\n",
      "         [0.7978, 0.8297, 0.8404, 0.4743]],\n",
      "\n",
      "        [[0.9162, 0.7947, 0.8838, 0.1013],\n",
      "         [0.5489, 0.4668, 0.1096, 0.3250],\n",
      "         [0.5347, 0.5197, 0.8337, 0.3613],\n",
      "         [0.1432, 0.0761, 0.6803, 0.2078]],\n",
      "\n",
      "        [[0.8781, 0.0720, 0.3168, 0.0594],\n",
      "         [0.9171, 0.7201, 0.7666, 0.9717],\n",
      "         [0.1766, 0.3491, 0.8245, 0.7631],\n",
      "         [0.6232, 0.0665, 0.2374, 0.9885]],\n",
      "\n",
      "        [[0.9225, 0.9715, 0.8563, 0.1454],\n",
      "         [0.6629, 0.9514, 0.9545, 0.6575],\n",
      "         [0.1733, 0.9662, 0.4924, 0.4752],\n",
      "         [0.3186, 0.7979, 0.3142, 0.1174]],\n",
      "\n",
      "        [[0.5644, 0.3015, 0.0523, 0.2514],\n",
      "         [0.1940, 0.7421, 0.6760, 0.7744],\n",
      "         [0.2999, 0.9153, 0.8587, 0.4782],\n",
      "         [0.9021, 0.7871, 0.7808, 0.7652]]])\n",
      "\n",
      "Dimention:  3\n",
      "Shape:  torch.Size([5, 4, 4])\n"
     ]
    }
   ],
   "source": [
    "\n",
    "random_tensor = torch.rand(5,4,4)\n",
    "print(random_tensor)\n",
    "print()\n",
    "print(\"Dimention: \", random_tensor.ndim)\n",
    "print(\"Shape: \",random_tensor.shape)"
   ]
  },
  {
   "cell_type": "markdown",
   "metadata": {},
   "source": [
    "<br>\n",
    "\n",
    "# `#1.1.6 make zero and one tensor:  `\n",
    "\n",
    "<br>"
   ]
  },
  {
   "cell_type": "code",
   "execution_count": 47,
   "metadata": {},
   "outputs": [
    {
     "name": "stdout",
     "output_type": "stream",
     "text": [
      "tf.Tensor(\n",
      "[[[0. 0. 0.]\n",
      "  [0. 0. 0.]]], shape=(1, 2, 3), dtype=float32)\n"
     ]
    }
   ],
   "source": [
    "# with tensorflow: zero \n",
    "\n",
    "zero_tensor = tf.zeros(shape=(1,2,3),dtype=tf.float32)\n",
    "print(zero_tensor)"
   ]
  },
  {
   "cell_type": "code",
   "execution_count": 48,
   "metadata": {},
   "outputs": [
    {
     "name": "stdout",
     "output_type": "stream",
     "text": [
      "tf.Tensor(\n",
      "[[[1. 1. 1. 1.]\n",
      "  [1. 1. 1. 1.]\n",
      "  [1. 1. 1. 1.]]\n",
      "\n",
      " [[1. 1. 1. 1.]\n",
      "  [1. 1. 1. 1.]\n",
      "  [1. 1. 1. 1.]]], shape=(2, 3, 4), dtype=float32)\n"
     ]
    }
   ],
   "source": [
    "#with tensorflow: one\n",
    "\n",
    "one_tensor = tf.ones(shape=(2,3,4),dtype=tf.float32)\n",
    "print(one_tensor)"
   ]
  },
  {
   "cell_type": "code",
   "execution_count": 54,
   "metadata": {},
   "outputs": [
    {
     "name": "stdout",
     "output_type": "stream",
     "text": [
      "tensor([[[0, 0, 0],\n",
      "         [0, 0, 0]]], dtype=torch.int8)\n"
     ]
    }
   ],
   "source": [
    "# with torch: zero\n",
    "zero_tensor = torch.zeros(size=(1,2,3),dtype=torch.int8)\n",
    "print(zero_tensor)"
   ]
  },
  {
   "cell_type": "code",
   "execution_count": 55,
   "metadata": {},
   "outputs": [
    {
     "name": "stdout",
     "output_type": "stream",
     "text": [
      "tensor([[[1, 1, 1],\n",
      "         [1, 1, 1]]], dtype=torch.int8)\n"
     ]
    }
   ],
   "source": [
    "# with torch: one\n",
    "one_tensor = torch.ones(size=(1,2,3),dtype=torch.int8)\n",
    "print(one_tensor)"
   ]
  },
  {
   "cell_type": "markdown",
   "metadata": {},
   "source": [
    "<br>\n",
    "\n",
    "# `#1.1.7 tensor with arrange: `\n",
    "\n",
    "<br>"
   ]
  },
  {
   "cell_type": "code",
   "execution_count": 58,
   "metadata": {},
   "outputs": [
    {
     "name": "stdout",
     "output_type": "stream",
     "text": [
      "tf.Tensor([0 1 2 3 4 5 6 7 8 9], shape=(10,), dtype=int32)\n"
     ]
    }
   ],
   "source": [
    "# with tensorflow:\n",
    "\n",
    "tensor_arrange = tf.range(start=0,limit=10,delta=1)\n",
    "print(tensor_arrange)"
   ]
  },
  {
   "cell_type": "code",
   "execution_count": 60,
   "metadata": {},
   "outputs": [
    {
     "name": "stdout",
     "output_type": "stream",
     "text": [
      "tensor([ 1,  2,  3,  4,  5,  6,  7,  8,  9, 10, 11, 12, 13, 14, 15, 16, 17, 18,\n",
      "        19])\n",
      "tensor([ 0.,  2.,  4.,  6.,  8., 10.])\n"
     ]
    },
    {
     "name": "stderr",
     "output_type": "stream",
     "text": [
      "/tmp/ipykernel_62843/426032705.py:5: UserWarning: torch.range is deprecated and will be removed in a future release because its behavior is inconsistent with Python's range builtin. Instead, use torch.arange, which produces values in [start, end).\n",
      "  tensor_arrange = torch.range(start=0,end=10,step=2)\n"
     ]
    }
   ],
   "source": [
    "# with pytorch:\n",
    "tensor_arrange = torch.arange(start=1,end=20)\n",
    "print(tensor_arrange)\n",
    "\n",
    "tensor_arrange = torch.range(start=0,end=10,step=2)\n",
    "print(tensor_arrange)"
   ]
  },
  {
   "cell_type": "markdown",
   "metadata": {},
   "source": [
    "<br>\n",
    "<br>\n",
    "\n",
    "# `#1.1.8 make ones or zeros, tensor like: `\n",
    "\n",
    "<br>\n",
    "<br>"
   ]
  },
  {
   "cell_type": "code",
   "execution_count": 61,
   "metadata": {},
   "outputs": [
    {
     "name": "stdout",
     "output_type": "stream",
     "text": [
      "tf.Tensor(\n",
      "[[[0. 0. 0. 0.]\n",
      "  [0. 0. 0. 0.]\n",
      "  [0. 0. 0. 0.]]\n",
      "\n",
      " [[0. 0. 0. 0.]\n",
      "  [0. 0. 0. 0.]\n",
      "  [0. 0. 0. 0.]]\n",
      "\n",
      " [[0. 0. 0. 0.]\n",
      "  [0. 0. 0. 0.]\n",
      "  [0. 0. 0. 0.]]\n",
      "\n",
      " [[0. 0. 0. 0.]\n",
      "  [0. 0. 0. 0.]\n",
      "  [0. 0. 0. 0.]]\n",
      "\n",
      " [[0. 0. 0. 0.]\n",
      "  [0. 0. 0. 0.]\n",
      "  [0. 0. 0. 0.]]], shape=(5, 3, 4), dtype=float32)\n"
     ]
    }
   ],
   "source": [
    "# with tensorflow: \n",
    "image = tf.random.uniform(shape=(5,3,4))\n",
    "zero_like = tf.zeros_like(image)\n",
    "print(zero_like)"
   ]
  },
  {
   "cell_type": "code",
   "execution_count": 63,
   "metadata": {},
   "outputs": [
    {
     "name": "stdout",
     "output_type": "stream",
     "text": [
      "tensor([[[1., 1., 1., 1.],\n",
      "         [1., 1., 1., 1.],\n",
      "         [1., 1., 1., 1.]],\n",
      "\n",
      "        [[1., 1., 1., 1.],\n",
      "         [1., 1., 1., 1.],\n",
      "         [1., 1., 1., 1.]],\n",
      "\n",
      "        [[1., 1., 1., 1.],\n",
      "         [1., 1., 1., 1.],\n",
      "         [1., 1., 1., 1.]],\n",
      "\n",
      "        [[1., 1., 1., 1.],\n",
      "         [1., 1., 1., 1.],\n",
      "         [1., 1., 1., 1.]],\n",
      "\n",
      "        [[1., 1., 1., 1.],\n",
      "         [1., 1., 1., 1.],\n",
      "         [1., 1., 1., 1.]]], dtype=torch.float16)\n"
     ]
    }
   ],
   "source": [
    "# with pytorch:\n",
    "image = torch.rand(size=(5,3,4),dtype=torch.float16)\n",
    "one_like = torch.ones_like(image)\n",
    "print(one_like)"
   ]
  },
  {
   "cell_type": "markdown",
   "metadata": {},
   "source": [
    "<br>\n",
    "<br>\n",
    "\n",
    "# `#1.1.8 make indentity matrix with tensorflow and pytorch`\n",
    "\n",
    "<br>\n",
    "<br>"
   ]
  },
  {
   "cell_type": "code",
   "execution_count": 64,
   "metadata": {},
   "outputs": [
    {
     "name": "stdout",
     "output_type": "stream",
     "text": [
      "tf.Tensor(\n",
      "[[1. 0. 0. 0.]\n",
      " [0. 1. 0. 0.]\n",
      " [0. 0. 1. 0.]\n",
      " [0. 0. 0. 1.]], shape=(4, 4), dtype=float32)\n"
     ]
    }
   ],
   "source": [
    "# with tensorflow: \n",
    "identity = tf.eye(4)\n",
    "print(identity)"
   ]
  },
  {
   "cell_type": "code",
   "execution_count": 65,
   "metadata": {},
   "outputs": [
    {
     "name": "stdout",
     "output_type": "stream",
     "text": [
      "tensor([[1., 0., 0., 0., 0.],\n",
      "        [0., 1., 0., 0., 0.],\n",
      "        [0., 0., 1., 0., 0.],\n",
      "        [0., 0., 0., 1., 0.],\n",
      "        [0., 0., 0., 0., 1.]])\n"
     ]
    }
   ],
   "source": [
    "# with pytorch:\n",
    "identity  = torch.eye(5)\n",
    "print(identity)"
   ]
  },
  {
   "cell_type": "markdown",
   "metadata": {},
   "source": [
    "<br>\n",
    "<br>\n",
    "\n",
    "# `1.1.9 make a tensor with same value tensorflow and pytorch: `\n",
    "\n",
    "<br>\n",
    "<br>"
   ]
  },
  {
   "cell_type": "code",
   "execution_count": 72,
   "metadata": {},
   "outputs": [
    {
     "name": "stdout",
     "output_type": "stream",
     "text": [
      "tf.Tensor(\n",
      "[[[3 3]\n",
      "  [3 3]\n",
      "  [3 3]\n",
      "  [3 3]\n",
      "  [3 3]]\n",
      "\n",
      " [[3 3]\n",
      "  [3 3]\n",
      "  [3 3]\n",
      "  [3 3]\n",
      "  [3 3]]], shape=(2, 5, 2), dtype=int32)\n"
     ]
    }
   ],
   "source": [
    "# with tensorflow:\n",
    "full_tensor = tf.fill(dims=(2,5,2),value=3)\n",
    "print(full_tensor)"
   ]
  },
  {
   "cell_type": "code",
   "execution_count": 69,
   "metadata": {},
   "outputs": [
    {
     "name": "stdout",
     "output_type": "stream",
     "text": [
      "tensor([[5, 5, 5],\n",
      "        [5, 5, 5],\n",
      "        [5, 5, 5]])\n"
     ]
    }
   ],
   "source": [
    "# with tensorflow:\n",
    "full_tensor = torch.full(size=(3,3),fill_value=5)\n",
    "print(full_tensor)"
   ]
  },
  {
   "cell_type": "markdown",
   "metadata": {},
   "source": [
    "<br>\n",
    "<br>\n",
    "\n",
    "# `#1.1.10: equally distributaed number: (when we line: )`\n",
    "<br>\n",
    "<br>"
   ]
  },
  {
   "cell_type": "code",
   "execution_count": 77,
   "metadata": {},
   "outputs": [
    {
     "name": "stdout",
     "output_type": "stream",
     "text": [
      "tf.Tensor([1.   2.75 4.5  6.25 8.  ], shape=(5,), dtype=float64)\n"
     ]
    }
   ],
   "source": [
    "#with tensorflow:\n",
    "line_space = tf.linspace(start=1,stop=8,num=5)\n",
    "print(line_space)"
   ]
  },
  {
   "cell_type": "code",
   "execution_count": 76,
   "metadata": {},
   "outputs": [
    {
     "name": "stdout",
     "output_type": "stream",
     "text": [
      "tensor([ 1,  3,  5,  7, 10], dtype=torch.int8)\n"
     ]
    }
   ],
   "source": [
    "#with torch: \n",
    "line_space = torch.linspace(start=1,end=10,steps=5,dtype=torch.int8)\n",
    "print(line_space)"
   ]
  },
  {
   "cell_type": "markdown",
   "metadata": {},
   "source": [
    "<br>\n",
    "<br>\n",
    "\n",
    "# `# 1.2 Datatype: `\n",
    "\n",
    "<br>\n",
    "<br>"
   ]
  },
  {
   "cell_type": "markdown",
   "metadata": {},
   "source": [
    "\n",
    "`Back propagation and Forward propagation এর সময়, আমাদের ভ্যালু গুলো point(0.001) আকারে পরিবর্তন হয় । যদি, আমাদের data type high হয় তাহলে আমরা অনেক accurate value store করতে পারি । like: float32 এর চেয়ে float64 এ accurate ভ্যালু পাওয়া যাবে । পাশাপাশি, computation float32 এর থেকে float64 slow হয় । `\n"
   ]
  },
  {
   "cell_type": "code",
   "execution_count": 80,
   "metadata": {},
   "outputs": [
    {
     "data": {
      "text/plain": [
       "tf.float32"
      ]
     },
     "execution_count": 80,
     "metadata": {},
     "output_type": "execute_result"
    }
   ],
   "source": [
    "\n",
    "# change data type in tensorflow and see the ::device:;\n",
    "tensor_float32 = tf.random.uniform(shape=(3,5),minval=0,maxval=10)\n",
    "tensor_float32.dtype\n"
   ]
  },
  {
   "cell_type": "code",
   "execution_count": 88,
   "metadata": {},
   "outputs": [
    {
     "name": "stdout",
     "output_type": "stream",
     "text": [
      "<dtype: 'float64'>\n",
      "/job:localhost/replica:0/task:0/device:CPU:0\n"
     ]
    }
   ],
   "source": [
    "tensor_float64 = tf.cast(tensor_float32,dtype=tf.float64)\n",
    "print(tensor_float64.dtype)\n",
    "print(tensor_float64.device)"
   ]
  },
  {
   "cell_type": "code",
   "execution_count": 85,
   "metadata": {},
   "outputs": [
    {
     "name": "stdout",
     "output_type": "stream",
     "text": [
      "torch.float16\n",
      "torch.float32\n"
     ]
    }
   ],
   "source": [
    "\n",
    "\n",
    "# change data type in pytorch and ::device::\n",
    "\n",
    "tensor_float32 = torch.rand(size=(3,4),dtype=torch.float16)\n",
    "print(tensor_float32.dtype)\n",
    "tensor_float64 = tensor_float32.type(dtype=torch.float32)\n",
    "print(tensor_float64.dtype)\n"
   ]
  },
  {
   "cell_type": "code",
   "execution_count": 86,
   "metadata": {},
   "outputs": [
    {
     "data": {
      "text/plain": [
       "device(type='cpu')"
      ]
     },
     "execution_count": 86,
     "metadata": {},
     "output_type": "execute_result"
    }
   ],
   "source": [
    "tensor_float64.device"
   ]
  },
  {
   "cell_type": "markdown",
   "metadata": {},
   "source": [
    "<br>\n",
    "<br>\n",
    "\n",
    "# `# 1.3 Mainipulating tensors(tensor operation:)`\n",
    "\n",
    "- ### `Addition`\n",
    "- ### `Subtraction`\n",
    "- ### `multiplication (element wize)`\n",
    "- ### `matrix multiplication `\n",
    "\n",
    "<br>\n",
    "<br>"
   ]
  },
  {
   "cell_type": "code",
   "execution_count": 93,
   "metadata": {},
   "outputs": [
    {
     "name": "stdout",
     "output_type": "stream",
     "text": [
      "tf.Tensor(\n",
      "[[5 5 5]\n",
      " [5 5 5]\n",
      " [5 5 5]], shape=(3, 3), dtype=int32)\n",
      "tf.Tensor(\n",
      "[[5 5 5]\n",
      " [5 5 5]\n",
      " [5 5 5]], shape=(3, 3), dtype=int32)\n"
     ]
    }
   ],
   "source": [
    "\n",
    "# with tensorflow: \n",
    "\n",
    "a = tf.fill(dims=(3,3),value=5)\n",
    "b = tf.fill(dims=(3,3),value=5)\n",
    "print(a)\n",
    "print(b)"
   ]
  },
  {
   "cell_type": "code",
   "execution_count": 94,
   "metadata": {},
   "outputs": [
    {
     "data": {
      "text/plain": [
       "<tf.Tensor: shape=(3, 3), dtype=int32, numpy=\n",
       "array([[10, 10, 10],\n",
       "       [10, 10, 10],\n",
       "       [10, 10, 10]], dtype=int32)>"
      ]
     },
     "execution_count": 94,
     "metadata": {},
     "output_type": "execute_result"
    }
   ],
   "source": [
    "tf.add(a,b)"
   ]
  },
  {
   "cell_type": "code",
   "execution_count": 95,
   "metadata": {},
   "outputs": [
    {
     "data": {
      "text/plain": [
       "<tf.Tensor: shape=(3, 3), dtype=int32, numpy=\n",
       "array([[0, 0, 0],\n",
       "       [0, 0, 0],\n",
       "       [0, 0, 0]], dtype=int32)>"
      ]
     },
     "execution_count": 95,
     "metadata": {},
     "output_type": "execute_result"
    }
   ],
   "source": [
    "tf.subtract(a,b)"
   ]
  },
  {
   "cell_type": "code",
   "execution_count": 96,
   "metadata": {},
   "outputs": [
    {
     "data": {
      "text/plain": [
       "<tf.Tensor: shape=(3, 3), dtype=int32, numpy=\n",
       "array([[25, 25, 25],\n",
       "       [25, 25, 25],\n",
       "       [25, 25, 25]], dtype=int32)>"
      ]
     },
     "execution_count": 96,
     "metadata": {},
     "output_type": "execute_result"
    }
   ],
   "source": [
    "tf.multiply(a,b)"
   ]
  },
  {
   "cell_type": "code",
   "execution_count": 97,
   "metadata": {},
   "outputs": [
    {
     "data": {
      "text/plain": [
       "<tf.Tensor: shape=(3, 3), dtype=float64, numpy=\n",
       "array([[1., 1., 1.],\n",
       "       [1., 1., 1.],\n",
       "       [1., 1., 1.]])>"
      ]
     },
     "execution_count": 97,
     "metadata": {},
     "output_type": "execute_result"
    }
   ],
   "source": [
    "tf.divide(a,b)"
   ]
  },
  {
   "cell_type": "code",
   "execution_count": 98,
   "metadata": {},
   "outputs": [
    {
     "data": {
      "text/plain": [
       "<tf.Tensor: shape=(3, 3), dtype=int32, numpy=\n",
       "array([[75, 75, 75],\n",
       "       [75, 75, 75],\n",
       "       [75, 75, 75]], dtype=int32)>"
      ]
     },
     "execution_count": 98,
     "metadata": {},
     "output_type": "execute_result"
    }
   ],
   "source": [
    "tf.matmul(a,b)"
   ]
  },
  {
   "cell_type": "code",
   "execution_count": 102,
   "metadata": {},
   "outputs": [
    {
     "name": "stdout",
     "output_type": "stream",
     "text": [
      "addition:  tensor([[10, 10, 10],\n",
      "        [10, 10, 10],\n",
      "        [10, 10, 10]])\n",
      "\n",
      "subtraction:  tensor([[0, 0, 0],\n",
      "        [0, 0, 0],\n",
      "        [0, 0, 0]])\n",
      "\n",
      "multiplication (element wize):  tensor([[25, 25, 25],\n",
      "        [25, 25, 25],\n",
      "        [25, 25, 25]])\n",
      "\n",
      "divition:  tensor([[1., 1., 1.],\n",
      "        [1., 1., 1.],\n",
      "        [1., 1., 1.]])\n",
      "\n",
      "matrix_multiplication:  tensor([[75, 75, 75],\n",
      "        [75, 75, 75],\n",
      "        [75, 75, 75]])\n",
      "\n"
     ]
    }
   ],
   "source": [
    "\n",
    "# with pytorch: \n",
    "a = torch.full(size=(3,3),fill_value=5)\n",
    "b = torch.full(size=(3,3),fill_value=5)\n",
    "\n",
    "print(\"addition: \", torch.add(a,b))\n",
    "print()\n",
    "\n",
    "print(\"subtraction: \",torch.subtract(a,b))\n",
    "print()\n",
    "\n",
    "print(\"multiplication (element wize): \",torch.multiply(a,b))\n",
    "print()\n",
    "\n",
    "print(\"divition: \",torch.divide(a,b))\n",
    "print()\n",
    "\n",
    "\n",
    "print(\"matrix_multiplication: \",torch.matmul(a,b))\n",
    "print()"
   ]
  },
  {
   "cell_type": "markdown",
   "metadata": {},
   "source": [
    "<br>\n",
    "<br>\n",
    "\n",
    "# `# 1.4: Tanspose of a matrix: `\n",
    "\n",
    "<br>\n",
    "<br>"
   ]
  },
  {
   "cell_type": "code",
   "execution_count": 105,
   "metadata": {},
   "outputs": [
    {
     "name": "stdout",
     "output_type": "stream",
     "text": [
      "tf.Tensor(\n",
      "[[9 9 9]\n",
      " [9 9 9]], shape=(2, 3), dtype=int32)\n",
      "\n",
      "transpose:  tf.Tensor(\n",
      "[[9 9]\n",
      " [9 9]\n",
      " [9 9]], shape=(3, 2), dtype=int32)\n"
     ]
    }
   ],
   "source": [
    "\n",
    "# in tensorflow: \n",
    "a = tf.fill(dims=(2,3),value=9)\n",
    "print(a)\n",
    "print()\n",
    "print(\"transpose: \",tf.transpose(a))"
   ]
  },
  {
   "cell_type": "code",
   "execution_count": 106,
   "metadata": {},
   "outputs": [
    {
     "name": "stdout",
     "output_type": "stream",
     "text": [
      "tensor([[4, 4, 4, 4],\n",
      "        [4, 4, 4, 4]])\n",
      "\n",
      "Transpose:  tensor([[4, 4],\n",
      "        [4, 4],\n",
      "        [4, 4],\n",
      "        [4, 4]])\n"
     ]
    }
   ],
   "source": [
    "\n",
    "# in pytorch: \n",
    "b = torch.full(size=(2,4),fill_value=4)\n",
    "print(b)\n",
    "print()\n",
    "print(\"Transpose: \",b.T)\n"
   ]
  },
  {
   "cell_type": "markdown",
   "metadata": {},
   "source": [
    "<br>\n",
    "<br>\n",
    "\n",
    "# `# 1.5 Find max,min,mean,sum: `\n",
    "\n",
    "<br>\n",
    "<br>"
   ]
  },
  {
   "cell_type": "code",
   "execution_count": 128,
   "metadata": {},
   "outputs": [
    {
     "name": "stdout",
     "output_type": "stream",
     "text": [
      "a:  tf.Tensor([ 1.    3.25  5.5   7.75 10.  ], shape=(5,), dtype=float64)\n",
      "tf.Tensor(1.0, shape=(), dtype=float64)\n",
      "tf.Tensor(10.0, shape=(), dtype=float64)\n",
      "tf.Tensor(5.5, shape=(), dtype=float64)\n",
      "tf.Tensor(27.5, shape=(), dtype=float64)\n"
     ]
    }
   ],
   "source": [
    "\n",
    "# with tensorflow:\n",
    "\n",
    "a = tf.linspace(start=1,stop=10,num=5)\n",
    "print(\"a: \", a)\n",
    "print(tf.reduce_min(a))\n",
    "print(tf.reduce_max(a))\n",
    "print(tf.reduce_mean(a))\n",
    "print(tf.reduce_sum(a))\n"
   ]
  },
  {
   "cell_type": "code",
   "execution_count": 129,
   "metadata": {},
   "outputs": [
    {
     "name": "stdout",
     "output_type": "stream",
     "text": [
      "a:  tensor([ 1.0000,  3.2500,  5.5000,  7.7500, 10.0000])\n",
      "tensor(1.)\n",
      "tensor(10.)\n",
      "tensor(5.5000)\n",
      "tensor(27.5000)\n"
     ]
    }
   ],
   "source": [
    "\n",
    "# with pytorch:\n",
    "\n",
    "a = torch.linspace(start=1,end=10,steps=5)\n",
    "print(\"a: \",a)\n",
    "print(a.min())\n",
    "print(a.max())\n",
    "print(a.mean())\n",
    "print(a.sum())"
   ]
  },
  {
   "cell_type": "markdown",
   "metadata": {},
   "source": [
    "<br>\n",
    "<br>\n",
    "\n",
    "# `# 1.6 positional min and max: `\n",
    "\n",
    "[1, 3, 5, 7, 8]:\n",
    "\n",
    "positional min: -> min: 1 and it's index: 0\n",
    "\n",
    "positional max: -> max: 8 and it's index: 4\n",
    "\n",
    "<br>\n",
    "<br>"
   ]
  },
  {
   "cell_type": "code",
   "execution_count": 130,
   "metadata": {},
   "outputs": [
    {
     "name": "stdout",
     "output_type": "stream",
     "text": [
      "positoin of minimum val:  tf.Tensor(3, shape=(), dtype=int64)\n",
      "positoin of minimum val:  tf.Tensor(7, shape=(), dtype=int64)\n"
     ]
    }
   ],
   "source": [
    "\n",
    "# with tensorflow: \n",
    "tensor_a = tf.constant([2,4,12,-1,3,4,5,122])\n",
    "print(\"positoin of minimum val: \",tf.argmin(tensor_a))\n",
    "print(\"positoin of minimum val: \",tf.argmax(tensor_a))\n"
   ]
  },
  {
   "cell_type": "code",
   "execution_count": 132,
   "metadata": {},
   "outputs": [
    {
     "name": "stdout",
     "output_type": "stream",
     "text": [
      "positoin of minimum val:  tensor(3)\n",
      "positoin of minimum val:  tensor(7)\n"
     ]
    }
   ],
   "source": [
    "\n",
    "# with pytorch \n",
    "tensor_a = torch.tensor([2,4,12,-1,3,4,5,122])\n",
    "print(\"positoin of minimum val: \",tensor_a.argmin())\n",
    "print(\"positoin of minimum val: \",tensor_a.argmax())\n"
   ]
  },
  {
   "cell_type": "markdown",
   "metadata": {},
   "source": [
    "<br>\n",
    "<br>\n",
    "\n",
    "# `# 1.7 Reshaping, Stacking, Squeezing, Unsqueezing, Permute: `\n",
    "\n",
    "<br>\n",
    "<br>"
   ]
  },
  {
   "cell_type": "markdown",
   "metadata": {},
   "source": [
    "<br>\n",
    "\n",
    "## `1.7.1 with tensorflow:` \n",
    "\n",
    "<br>"
   ]
  },
  {
   "cell_type": "code",
   "execution_count": 169,
   "metadata": {},
   "outputs": [
    {
     "name": "stdout",
     "output_type": "stream",
     "text": [
      "(3, 4)\n"
     ]
    }
   ],
   "source": [
    "\n",
    "\n",
    "tensor_a = tf.constant([[1,2,3,4],\n",
    "                        [5,6,7,8],\n",
    "                        [9,10,11,12]])\n",
    "\n",
    "print(tensor_a.shape)\n"
   ]
  },
  {
   "cell_type": "code",
   "execution_count": 138,
   "metadata": {},
   "outputs": [
    {
     "name": "stdout",
     "output_type": "stream",
     "text": [
      "tf.Tensor(\n",
      "[[ 1  2]\n",
      " [ 3  4]\n",
      " [ 5  6]\n",
      " [ 7  8]\n",
      " [ 9 10]\n",
      " [11 12]], shape=(6, 2), dtype=int32)\n",
      "\n",
      "tf.Tensor(\n",
      "[[ 1  2  3  4  5  6]\n",
      " [ 7  8  9 10 11 12]], shape=(2, 6), dtype=int32)\n"
     ]
    }
   ],
   "source": [
    "# reshaping:\n",
    "print(tf.reshape(tensor=tensor_a,shape=(6,2)))\n",
    "print()\n",
    "print(tf.reshape(tensor=tensor_a,shape=(2,6)))"
   ]
  },
  {
   "cell_type": "code",
   "execution_count": 140,
   "metadata": {},
   "outputs": [
    {
     "name": "stdout",
     "output_type": "stream",
     "text": [
      "tf.Tensor(\n",
      "[[[ 1  2  3  4]\n",
      "  [ 5  6  7  8]\n",
      "  [ 9 10 11 12]]\n",
      "\n",
      " [[ 1  2  3  4]\n",
      "  [ 5  6  7  8]\n",
      "  [ 9 10 11 12]]], shape=(2, 3, 4), dtype=int32)\n",
      "\n",
      "tf.Tensor(\n",
      "[[[ 1  2  3  4]\n",
      "  [ 1  2  3  4]]\n",
      "\n",
      " [[ 5  6  7  8]\n",
      "  [ 5  6  7  8]]\n",
      "\n",
      " [[ 9 10 11 12]\n",
      "  [ 9 10 11 12]]], shape=(3, 2, 4), dtype=int32)\n"
     ]
    }
   ],
   "source": [
    "\n",
    "# stacking: Stacking combines multiple tensors along a new dimension:\n",
    "print(tf.stack(values=[tensor_a,tensor_a],axis=0)) # along a new axis 0(row) #dim: 3D\n",
    "print()\n",
    "print(tf.stack(values=[tensor_a,tensor_a],axis=1)) # along a new axis 1(column) #dim: 3D\n"
   ]
  },
  {
   "cell_type": "code",
   "execution_count": 162,
   "metadata": {},
   "outputs": [
    {
     "name": "stdout",
     "output_type": "stream",
     "text": [
      "(1, 1, 1, 1, 1, 3, 4)\n",
      "\n",
      "tf.Tensor(\n",
      "[[[[[[[[ 1  2  3  4]\n",
      "       [ 5  6  7  8]\n",
      "       [ 9 10 11 12]]]]]]]], shape=(1, 1, 1, 1, 1, 1, 3, 4), dtype=int32)\n",
      "\n",
      "\n",
      "tf.Tensor(\n",
      "[[ 1  2  3  4]\n",
      " [ 5  6  7  8]\n",
      " [ 9 10 11 12]], shape=(3, 4), dtype=int32)\n",
      "\n",
      "\n"
     ]
    }
   ],
   "source": [
    "\n",
    "# squeezing: remove dimention with size 1\n",
    "print(tensor_a.shape)\n",
    "tensor_a = tf.expand_dims(input=tensor_a,axis=0)\n",
    "print()\n",
    "print(tensor_a)\n",
    "print()\n",
    "print()\n",
    "print(tf.squeeze(input=tensor_a))\n",
    "print()\n",
    "print()"
   ]
  },
  {
   "cell_type": "code",
   "execution_count": 170,
   "metadata": {},
   "outputs": [
    {
     "name": "stdout",
     "output_type": "stream",
     "text": [
      "tf.Tensor(\n",
      "[[[ 1  2  3  4]]\n",
      "\n",
      " [[ 5  6  7  8]]\n",
      "\n",
      " [[ 9 10 11 12]]], shape=(3, 1, 4), dtype=int32)\n",
      "\n",
      "tf.Tensor(\n",
      "[[[ 1  2  3  4]\n",
      "  [ 5  6  7  8]\n",
      "  [ 9 10 11 12]]], shape=(1, 3, 4), dtype=int32)\n",
      "\n",
      "tf.Tensor(\n",
      "[[[ 1]\n",
      "  [ 2]\n",
      "  [ 3]\n",
      "  [ 4]]\n",
      "\n",
      " [[ 5]\n",
      "  [ 6]\n",
      "  [ 7]\n",
      "  [ 8]]\n",
      "\n",
      " [[ 9]\n",
      "  [10]\n",
      "  [11]\n",
      "  [12]]], shape=(3, 4, 1), dtype=int32)\n",
      "\n"
     ]
    }
   ],
   "source": [
    "\n",
    "# Unsqueezing:\n",
    "print(tf.expand_dims(input=tensor_a,axis=1))\n",
    "print()\n",
    "print(tf.expand_dims(input=tensor_a,axis=0))\n",
    "print()\n",
    "print(tf.expand_dims(input=tensor_a,axis=-1))\n",
    "print()"
   ]
  },
  {
   "cell_type": "code",
   "execution_count": 172,
   "metadata": {},
   "outputs": [
    {
     "name": "stdout",
     "output_type": "stream",
     "text": [
      "(3, 4)\n",
      "\n",
      "tf.Tensor(\n",
      "[[ 1  5  9]\n",
      " [ 2  6 10]\n",
      " [ 3  7 11]\n",
      " [ 4  8 12]], shape=(4, 3), dtype=int32)\n",
      "\n"
     ]
    }
   ],
   "source": [
    "\n",
    "# Permuting (Transpose)\n",
    "print(tensor_a.shape)\n",
    "print()\n",
    "print(tf.transpose(tensor_a))\n",
    "print()\n"
   ]
  },
  {
   "cell_type": "markdown",
   "metadata": {},
   "source": [
    "<br>\n",
    "\n",
    "## `1.7.2 with pytorch:` \n",
    "\n",
    "<br>"
   ]
  },
  {
   "cell_type": "code",
   "execution_count": 174,
   "metadata": {},
   "outputs": [
    {
     "name": "stdout",
     "output_type": "stream",
     "text": [
      "tensor([[ 1,  2,  3,  4],\n",
      "        [ 5,  6,  7,  8],\n",
      "        [ 9, 10, 11, 12]])\n"
     ]
    }
   ],
   "source": [
    "\n",
    "tensor_a = torch.tensor([[1,2,3,4],\n",
    "                        [5,6,7,8],\n",
    "                        [9,10,11,12]])\n",
    "print(tensor_a)"
   ]
  },
  {
   "cell_type": "code",
   "execution_count": 179,
   "metadata": {},
   "outputs": [
    {
     "name": "stdout",
     "output_type": "stream",
     "text": [
      "tensor([[ 1,  2,  3,  4,  5,  6],\n",
      "        [ 7,  8,  9, 10, 11, 12]])\n",
      "\n",
      "tensor([[[ 1,  2,  3,  4],\n",
      "         [ 5,  6,  7,  8],\n",
      "         [ 9, 10, 11, 12]],\n",
      "\n",
      "        [[ 1,  2,  3,  4],\n",
      "         [ 5,  6,  7,  8],\n",
      "         [ 9, 10, 11, 12]]]) torch.Size([2, 3, 4])\n",
      "\n",
      "tensor([[[ 1,  2,  3,  4],\n",
      "         [ 1,  2,  3,  4]],\n",
      "\n",
      "        [[ 5,  6,  7,  8],\n",
      "         [ 5,  6,  7,  8]],\n",
      "\n",
      "        [[ 9, 10, 11, 12],\n",
      "         [ 9, 10, 11, 12]]]) torch.Size([3, 2, 4])\n",
      "\n"
     ]
    }
   ],
   "source": [
    "\n",
    "# reshaping: \n",
    "print(tensor_a.reshape(2,6))\n",
    "print()\n",
    "\n",
    "# staking: \n",
    "print(torch.stack(tensors=[tensor_a,tensor_a],dim=0),torch.stack(tensors=[tensor_a,tensor_a],dim=0).shape)\n",
    "print()\n",
    "print(torch.stack(tensors=[tensor_a,tensor_a],dim=1),torch.stack(tensors=[tensor_a,tensor_a],dim=1).shape)\n",
    "print()\n",
    "\n",
    "#squeezing\n"
   ]
  },
  {
   "cell_type": "markdown",
   "metadata": {},
   "source": [
    "<br>\n",
    "\n",
    "## `1.7.3  view() in pytorch:` \n",
    "\n",
    "<br>"
   ]
  }
 ],
 "metadata": {
  "kernelspec": {
   "display_name": "venvML",
   "language": "python",
   "name": "python3"
  },
  "language_info": {
   "codemirror_mode": {
    "name": "ipython",
    "version": 3
   },
   "file_extension": ".py",
   "mimetype": "text/x-python",
   "name": "python",
   "nbconvert_exporter": "python",
   "pygments_lexer": "ipython3",
   "version": "3.12.7"
  }
 },
 "nbformat": 4,
 "nbformat_minor": 2
}
