{
 "cells": [
  {
   "cell_type": "markdown",
   "metadata": {},
   "source": [
    "<br>\n",
    "<br>\n",
    "\n",
    "# `# TF-IDF: `\n",
    "\n",
    "<br>\n",
    "<br>"
   ]
  },
  {
   "cell_type": "code",
   "execution_count": 5,
   "metadata": {},
   "outputs": [
    {
     "name": "stdout",
     "output_type": "stream",
     "text": [
      "['campusx' 'comment' 'people' 'watch' 'write']\n",
      "  (0, 0)\t0.4968161174826459\n",
      "  (0, 3)\t0.6136667440107333\n",
      "  (0, 2)\t0.6136667440107333\n",
      "  (1, 0)\t0.8508160982744233\n",
      "  (1, 3)\t0.5254635733493682\n",
      "  (2, 1)\t0.5773502691896257\n",
      "  (2, 4)\t0.5773502691896257\n",
      "  (2, 2)\t0.5773502691896257\n",
      "  (3, 1)\t0.6136667440107333\n",
      "  (3, 4)\t0.6136667440107333\n",
      "  (3, 0)\t0.4968161174826459\n"
     ]
    }
   ],
   "source": [
    "from sklearn.feature_extraction.text import TfidfVectorizer\n",
    "\n",
    "corpus = [\"People watch campusx\",\n",
    "         \"campusx watch campusx\",\n",
    "        \"People write comment\",\n",
    "        \"campusx write comment\" ]\n",
    "\n",
    "tfIdf = TfidfVectorizer()\n",
    "ans = tfIdf.fit_transform(corpus)\n",
    "print(tfIdf.get_feature_names_out())\n",
    "print(ans)"
   ]
  },
  {
   "cell_type": "code",
   "execution_count": 7,
   "metadata": {},
   "outputs": [
    {
     "data": {
      "text/plain": [
       "matrix([[0.49681612, 0.        , 0.61366674, 0.61366674, 0.        ],\n",
       "        [0.8508161 , 0.        , 0.        , 0.52546357, 0.        ],\n",
       "        [0.        , 0.57735027, 0.57735027, 0.        , 0.57735027],\n",
       "        [0.49681612, 0.61366674, 0.        , 0.        , 0.61366674]])"
      ]
     },
     "execution_count": 7,
     "metadata": {},
     "output_type": "execute_result"
    }
   ],
   "source": [
    "ans.todense()"
   ]
  }
 ],
 "metadata": {
  "kernelspec": {
   "display_name": "venvML",
   "language": "python",
   "name": "python3"
  },
  "language_info": {
   "codemirror_mode": {
    "name": "ipython",
    "version": 3
   },
   "file_extension": ".py",
   "mimetype": "text/x-python",
   "name": "python",
   "nbconvert_exporter": "python",
   "pygments_lexer": "ipython3",
   "version": "3.12.7"
  }
 },
 "nbformat": 4,
 "nbformat_minor": 2
}
