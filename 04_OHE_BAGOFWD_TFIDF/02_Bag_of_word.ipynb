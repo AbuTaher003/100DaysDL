{
 "cells": [
  {
   "cell_type": "markdown",
   "metadata": {},
   "source": [
    "<br>\n",
    "<br>\n",
    "\n",
    "# `#1. Bag of Words (BoW):`\n",
    "\n",
    "<br>\n",
    "<br>"
   ]
  },
  {
   "cell_type": "code",
   "execution_count": 1,
   "metadata": {},
   "outputs": [],
   "source": [
    "from sklearn.feature_extraction.text import CountVectorizer\n",
    "\n",
    "corpus = [\"People watch campusx\",\n",
    "         \"campusx watch campusx\",\n",
    "        \"People write comment\",\n",
    "        \"campusx write comment\" ]\n",
    "\n",
    "bow = CountVectorizer()\n",
    "ans = bow.fit_transform(corpus)\n"
   ]
  },
  {
   "cell_type": "code",
   "execution_count": 2,
   "metadata": {},
   "outputs": [
    {
     "name": "stdout",
     "output_type": "stream",
     "text": [
      "['campusx' 'comment' 'people' 'watch' 'write']\n",
      "[[1 0 1 1 0]\n",
      " [2 0 0 1 0]\n",
      " [0 1 1 0 1]\n",
      " [1 1 0 0 1]]\n"
     ]
    }
   ],
   "source": [
    "print(bow.get_feature_names_out())\n",
    "print(ans.toarray())"
   ]
  },
  {
   "cell_type": "markdown",
   "metadata": {},
   "source": [
    "<br>\n",
    "<br>\n",
    "\n",
    "# `# Bag of Bi-Gram: `\n",
    "\n",
    "<br>\n",
    "<br>"
   ]
  },
  {
   "cell_type": "code",
   "execution_count": 3,
   "metadata": {},
   "outputs": [
    {
     "name": "stdout",
     "output_type": "stream",
     "text": [
      "['campusx watch' 'campusx write' 'people watch' 'people write'\n",
      " 'watch campusx' 'write comment']\n",
      "[[0 0 1 0 1 0]\n",
      " [1 0 0 0 1 0]\n",
      " [0 0 0 1 0 1]\n",
      " [0 1 0 0 0 1]]\n"
     ]
    }
   ],
   "source": [
    "bi_gram = CountVectorizer(ngram_range=(2,2)) #(bi-gram-only)\n",
    "bi_gram_ans = bi_gram.fit_transform(corpus)\n",
    "print(bi_gram.get_feature_names_out())\n",
    "print(bi_gram_ans.toarray())"
   ]
  },
  {
   "cell_type": "markdown",
   "metadata": {},
   "source": [
    "<br>\n",
    "<br>\n",
    "\n",
    "# `# Bag of Tri-Gram: `\n",
    "\n",
    "<br>\n",
    "<br>"
   ]
  },
  {
   "cell_type": "code",
   "execution_count": 4,
   "metadata": {},
   "outputs": [
    {
     "name": "stdout",
     "output_type": "stream",
     "text": [
      "['campusx watch campusx' 'campusx write comment' 'people watch campusx'\n",
      " 'people write comment']\n",
      "[[0 0 1 0]\n",
      " [1 0 0 0]\n",
      " [0 0 0 1]\n",
      " [0 1 0 0]]\n"
     ]
    }
   ],
   "source": [
    "bi_gram = CountVectorizer(ngram_range=(3,3)) # (tri-gram)\n",
    "bi_gram_ans = bi_gram.fit_transform(corpus)\n",
    "print(bi_gram.get_feature_names_out())\n",
    "print(bi_gram_ans.toarray())"
   ]
  },
  {
   "cell_type": "markdown",
   "metadata": {},
   "source": [
    "<br>\n",
    "<br>\n",
    "\n",
    "# `# Uni-Gram + Bi-gram + Tri-gram: `\n",
    "\n",
    "<br>\n",
    "<br>"
   ]
  },
  {
   "cell_type": "code",
   "execution_count": 5,
   "metadata": {},
   "outputs": [
    {
     "name": "stdout",
     "output_type": "stream",
     "text": [
      "['campusx' 'campusx watch' 'campusx watch campusx' 'campusx write'\n",
      " 'campusx write comment' 'comment' 'people' 'people watch'\n",
      " 'people watch campusx' 'people write' 'people write comment' 'watch'\n",
      " 'watch campusx' 'write' 'write comment']\n",
      "[[1 0 0 0 0 0 1 1 1 0 0 1 1 0 0]\n",
      " [2 1 1 0 0 0 0 0 0 0 0 1 1 0 0]\n",
      " [0 0 0 0 0 1 1 0 0 1 1 0 0 1 1]\n",
      " [1 0 0 1 1 1 0 0 0 0 0 0 0 1 1]]\n"
     ]
    }
   ],
   "source": [
    "bi_gram = CountVectorizer(ngram_range=(1,3)) # (uni-gram + bi-gram + tri-gram)\n",
    "bi_gram_ans = bi_gram.fit_transform(corpus)\n",
    "print(bi_gram.get_feature_names_out())\n",
    "print(bi_gram_ans.toarray())"
   ]
  }
 ],
 "metadata": {
  "kernelspec": {
   "display_name": "venvML",
   "language": "python",
   "name": "python3"
  },
  "language_info": {
   "codemirror_mode": {
    "name": "ipython",
    "version": 3
   },
   "file_extension": ".py",
   "mimetype": "text/x-python",
   "name": "python",
   "nbconvert_exporter": "python",
   "pygments_lexer": "ipython3",
   "version": "3.12.7"
  }
 },
 "nbformat": 4,
 "nbformat_minor": 2
}
