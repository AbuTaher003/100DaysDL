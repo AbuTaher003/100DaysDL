{
 "cells": [
  {
   "cell_type": "markdown",
   "metadata": {},
   "source": [
    "<br>\n",
    "<br>\n",
    "\n",
    "# `#1 ONE HOT ENCODING WITH (ML Base Techinique: LECTURE_72)`\n",
    "\n",
    "<br>\n",
    "<br>"
   ]
  },
  {
   "cell_type": "code",
   "execution_count": 1,
   "metadata": {},
   "outputs": [],
   "source": [
    "import numpy as np \n",
    "from sklearn.preprocessing import OneHotEncoder"
   ]
  },
  {
   "cell_type": "code",
   "execution_count": 2,
   "metadata": {},
   "outputs": [
    {
     "name": "stdout",
     "output_type": "stream",
     "text": [
      "['People watch campusx', 'campusx watch campusx', 'People write comment', 'campusx write comment']\n"
     ]
    },
    {
     "ename": "AttributeError",
     "evalue": "'list' object has no attribute 'shape'",
     "output_type": "error",
     "traceback": [
      "\u001b[0;31m---------------------------------------------------------------------------\u001b[0m",
      "\u001b[0;31mAttributeError\u001b[0m                            Traceback (most recent call last)",
      "\u001b[1;32m/home/yasin/allProgram/100DaysDL/04_OHE_BAGOFWD_TFIDF/01_OHE.ipynb Cell 3\u001b[0m line \u001b[0;36m8\n\u001b[1;32m      <a href='vscode-notebook-cell:/home/yasin/allProgram/100DaysDL/04_OHE_BAGOFWD_TFIDF/01_OHE.ipynb#W2sZmlsZQ%3D%3D?line=0'>1</a>\u001b[0m corpus \u001b[39m=\u001b[39m [\u001b[39m\"\u001b[39m\u001b[39mPeople watch campusx\u001b[39m\u001b[39m\"\u001b[39m,\n\u001b[1;32m      <a href='vscode-notebook-cell:/home/yasin/allProgram/100DaysDL/04_OHE_BAGOFWD_TFIDF/01_OHE.ipynb#W2sZmlsZQ%3D%3D?line=1'>2</a>\u001b[0m          \u001b[39m\"\u001b[39m\u001b[39mcampusx watch campusx\u001b[39m\u001b[39m\"\u001b[39m,\n\u001b[1;32m      <a href='vscode-notebook-cell:/home/yasin/allProgram/100DaysDL/04_OHE_BAGOFWD_TFIDF/01_OHE.ipynb#W2sZmlsZQ%3D%3D?line=2'>3</a>\u001b[0m         \u001b[39m\"\u001b[39m\u001b[39mPeople write comment\u001b[39m\u001b[39m\"\u001b[39m,\n\u001b[1;32m      <a href='vscode-notebook-cell:/home/yasin/allProgram/100DaysDL/04_OHE_BAGOFWD_TFIDF/01_OHE.ipynb#W2sZmlsZQ%3D%3D?line=3'>4</a>\u001b[0m         \u001b[39m\"\u001b[39m\u001b[39mcampusx write comment\u001b[39m\u001b[39m\"\u001b[39m ]\n\u001b[1;32m      <a href='vscode-notebook-cell:/home/yasin/allProgram/100DaysDL/04_OHE_BAGOFWD_TFIDF/01_OHE.ipynb#W2sZmlsZQ%3D%3D?line=6'>7</a>\u001b[0m \u001b[39mprint\u001b[39m(corpus)\n\u001b[0;32m----> <a href='vscode-notebook-cell:/home/yasin/allProgram/100DaysDL/04_OHE_BAGOFWD_TFIDF/01_OHE.ipynb#W2sZmlsZQ%3D%3D?line=7'>8</a>\u001b[0m \u001b[39mprint\u001b[39m(\u001b[39m\"\u001b[39m\u001b[39mshape: \u001b[39m\u001b[39m\"\u001b[39m,corpus\u001b[39m.\u001b[39;49mshape)\n",
      "\u001b[0;31mAttributeError\u001b[0m: 'list' object has no attribute 'shape'"
     ]
    }
   ],
   "source": [
    "\n",
    "corpus = [\"People watch campusx\",\n",
    "         \"campusx watch campusx\",\n",
    "        \"People write comment\",\n",
    "        \"campusx write comment\" ]\n",
    "\n",
    "\n",
    "print(corpus)\n",
    "print(\"shape: \",corpus.shape)"
   ]
  },
  {
   "cell_type": "code",
   "execution_count": 3,
   "metadata": {},
   "outputs": [
    {
     "name": "stdout",
     "output_type": "stream",
     "text": [
      "['People watch campusx' 'campusx watch campusx' 'People write comment'\n",
      " 'campusx write comment']\n",
      "(4,)\n"
     ]
    }
   ],
   "source": [
    "corpus = np.array(corpus)\n",
    "print(corpus)\n",
    "print(corpus.shape)"
   ]
  },
  {
   "cell_type": "code",
   "execution_count": 4,
   "metadata": {},
   "outputs": [
    {
     "data": {
      "text/plain": [
       "(4, 1)"
      ]
     },
     "execution_count": 4,
     "metadata": {},
     "output_type": "execute_result"
    }
   ],
   "source": [
    "corpus = corpus.reshape(-1,1)\n",
    "corpus.shape"
   ]
  },
  {
   "cell_type": "code",
   "execution_count": 43,
   "metadata": {},
   "outputs": [
    {
     "name": "stdout",
     "output_type": "stream",
     "text": [
      "[[1. 0. 0. 0.]\n",
      " [0. 0. 1. 0.]\n",
      " [0. 1. 0. 0.]\n",
      " [0. 0. 0. 1.]]\n"
     ]
    }
   ],
   "source": [
    "oneHotEncoder = OneHotEncoder(sparse_output=False)\n",
    "ans = oneHotEncoder.fit_transform(corpus)\n",
    "print(ans)"
   ]
  }
 ],
 "metadata": {
  "kernelspec": {
   "display_name": "venvML",
   "language": "python",
   "name": "python3"
  },
  "language_info": {
   "codemirror_mode": {
    "name": "ipython",
    "version": 3
   },
   "file_extension": ".py",
   "mimetype": "text/x-python",
   "name": "python",
   "nbconvert_exporter": "python",
   "pygments_lexer": "ipython3",
   "version": "3.12.7"
  }
 },
 "nbformat": 4,
 "nbformat_minor": 2
}
